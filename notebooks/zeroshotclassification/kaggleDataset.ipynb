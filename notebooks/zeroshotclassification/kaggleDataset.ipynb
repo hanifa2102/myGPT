{
 "cells": [
  {
   "cell_type": "code",
   "execution_count": 1,
   "id": "0d60301e-4dd3-4529-afcc-aa273fadf6e8",
   "metadata": {},
   "outputs": [],
   "source": [
    " #!kaggle datasets download -d sohier/large-purchases-by-the-state-of-ca"
   ]
  },
  {
   "cell_type": "code",
   "execution_count": 1,
   "id": "9f053c4b",
   "metadata": {},
   "outputs": [
    {
     "data": {
      "text/html": [
       "<style>.container { width:100% !important; }</style>"
      ],
      "text/plain": [
       "<IPython.core.display.HTML object>"
      ]
     },
     "metadata": {},
     "output_type": "display_data"
    }
   ],
   "source": [
    "%load_ext autoreload\n",
    "%autoreload 2\n",
    "from IPython.core.display import display, HTML\n",
    "display(HTML(\"<style>.container { width:100% !important; }</style>\"))"
   ]
  },
  {
   "cell_type": "code",
   "execution_count": 2,
   "id": "5c8a1732-7719-4e5b-abb3-b3e70643fd9c",
   "metadata": {},
   "outputs": [],
   "source": [
    "import pandas as pd\n",
    "import bamboolib as bam"
   ]
  },
  {
   "cell_type": "code",
   "execution_count": 3,
   "id": "41fc0703",
   "metadata": {},
   "outputs": [],
   "source": [
    "df = pd.read_csv(r'C:\\Users\\mohamed.hanifa\\Desktop\\myGPT\\data\\large-purchases-by-the-state-of-ca\\PURCHASE ORDER DATA EXTRACT 2012-2015_0.csv', sep=',', decimal='.')\n",
    "df = df.drop(columns=['Purchase Date', 'LPA Number', 'Purchase Order Number', 'Requisition Number', 'Sub-Acquisition Type', 'Acquisition Method', 'Sub-Acquisition Method', 'Supplier Code', 'Supplier Qualifications', 'CalCard', 'Location'])"
   ]
  },
  {
   "cell_type": "code",
   "execution_count": 4,
   "id": "6c865f3b-af48-4f2d-98df-d382334510c2",
   "metadata": {},
   "outputs": [
    {
     "data": {
      "text/plain": [
       "(273036, 20)"
      ]
     },
     "execution_count": 4,
     "metadata": {},
     "output_type": "execute_result"
    }
   ],
   "source": [
    "# drop rows with any NAs\n",
    "mask=df.isna().sum(axis=1)==0\n",
    "df=df.loc[mask]\n",
    "df.shape"
   ]
  },
  {
   "cell_type": "code",
   "execution_count": 5,
   "id": "4ee62358-e25f-4dec-bcad-0829ab906db3",
   "metadata": {},
   "outputs": [],
   "source": [
    "cols_cast=['Normalized UNSPSC','Class','Family','Segment']\n",
    "for col in cols_cast:\n",
    "    df[col] = pd.to_numeric(df[col], downcast='integer', errors='coerce')"
   ]
  },
  {
   "cell_type": "markdown",
   "id": "8f83756d",
   "metadata": {},
   "source": [
    "<img title=\"a title\" alt=\"Alt text\" src=\"UNSPSC_tree.png\" width=\"500\" height=\"600\" style=\"float: left;\">"
   ]
  },
  {
   "cell_type": "code",
   "execution_count": 6,
   "id": "e1d03ec7",
   "metadata": {},
   "outputs": [],
   "source": [
    "labels_dic={}\n",
    "cols=['Segment Title','Family Title','Class Title','Normalized UNSPSC']\n",
    "for col in cols:\n",
    "    labels_dic[col]= df.groupby([col]).agg(cnt=('Creation Date', 'size')).reset_index()\n",
    "labels_dic['Collated']=df.groupby(['Segment Title', 'Family Title', 'Class Title', 'Normalized UNSPSC']).agg(cnt=('Creation Date', 'size')).reset_index()"
   ]
  },
  {
   "cell_type": "code",
   "execution_count": 7,
   "id": "06c498ee",
   "metadata": {},
   "outputs": [
    {
     "name": "stdout",
     "output_type": "stream",
     "text": [
      "Segment Title\t:(56, 2)\n",
      "Family Title\t:(408, 2)\n",
      "Class Title\t:(2293, 2)\n",
      "Normalized UNSPSC\t:(12483, 2)\n",
      "Collated\t:(12483, 5)\n"
     ]
    }
   ],
   "source": [
    "for key,val in labels_dic.items():\n",
    "    print(f'{key}\\t:{val.shape}')"
   ]
  },
  {
   "cell_type": "code",
   "execution_count": 8,
   "id": "6c2769c1",
   "metadata": {},
   "outputs": [
    {
     "data": {
      "application/vnd.jupyter.widget-view+json": {
       "model_id": "0189fbe4af3844a8b06a5ce883af91f5"
      },
      "text/plain": [
       "                                         Segment Title  \\\n",
       "0       Apparel and Luggage and Personal Care Products   \n",
       "1       Apparel and Luggage and Personal Care Products   \n",
       "2       Apparel and Luggage and Personal Care Products   \n",
       "3       Apparel and Luggage and Personal Care Products   \n",
       "4       Apparel and Luggage and Personal Care Products   \n",
       "..                                                 ...   \n",
       "403  Travel and Food and Lodging and Entertainment ...   \n",
       "404  Travel and Food and Lodging and Entertainment ...   \n",
       "405  Travel and Food and Lodging and Entertainment ...   \n",
       "406  Travel and Food and Lodging and Entertainment ...   \n",
       "407  Travel and Food and Lodging and Entertainment ...   \n",
       "\n",
       "                                  Family Title  sum_cnt  \n",
       "0                                     Clothing     2347  \n",
       "1                                     Footwear      488  \n",
       "2     Luggage and handbags and packs and cases      244  \n",
       "3                       Personal care products      852  \n",
       "4              Sewing supplies and accessories       20  \n",
       "..                                         ...      ...  \n",
       "403                     Entertainment services       45  \n",
       "404  Hotels and lodging and meeting facilities      451  \n",
       "405                            Performing arts        7  \n",
       "406                   Restaurants and catering      408  \n",
       "407                        Travel facilitation      159  \n",
       "\n",
       "[408 rows x 3 columns]"
      ]
     },
     "metadata": {},
     "output_type": "display_data"
    }
   ],
   "source": [
    "tt=labels_dic['Collated']\n",
    "tt = tt.groupby(['Segment Title', 'Family Title']).agg(sum_cnt=('cnt', 'sum')).reset_index()\n",
    "tt"
   ]
  },
  {
   "cell_type": "code",
   "execution_count": 14,
   "id": "63f144ae",
   "metadata": {},
   "outputs": [],
   "source": [
    "df.to_csv('..\\..\\data\\large-purchases-by-the-state-of-ca\\cleansed_kaggle_po.csv',index=False)"
   ]
  },
  {
   "cell_type": "code",
   "execution_count": 17,
   "id": "58f12c38",
   "metadata": {},
   "outputs": [
    {
     "data": {
      "text/plain": [
       "((273036, 20), (273036, 20))"
      ]
     },
     "execution_count": 17,
     "metadata": {},
     "output_type": "execute_result"
    }
   ],
   "source": [
    "import pickle\n",
    "pickle_filename = '..\\..\\data\\large-purchases-by-the-state-of-ca\\my_dict.pkl'\n",
    "\n",
    "# Open the file in binary write mode and dump the dictionary into it\n",
    "with open(pickle_filename, 'wb') as pickle_file:\n",
    "    pickle.dump(my_dict, pickle_file)"
   ]
  },
  {
   "cell_type": "code",
   "execution_count": null,
   "id": "4f96908d",
   "metadata": {},
   "outputs": [],
   "source": []
  }
 ],
 "metadata": {
  "kernelspec": {
   "display_name": ".proc_env",
   "language": "python",
   "name": ".proc_env"
  },
  "language_info": {
   "codemirror_mode": {
    "name": "ipython",
    "version": 3
   },
   "file_extension": ".py",
   "mimetype": "text/x-python",
   "name": "python",
   "nbconvert_exporter": "python",
   "pygments_lexer": "ipython3",
   "version": "3.7.1"
  }
 },
 "nbformat": 4,
 "nbformat_minor": 5
}
