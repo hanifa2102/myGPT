{
 "cells": [
  {
   "cell_type": "code",
   "execution_count": 1,
   "id": "1db51cb2",
   "metadata": {},
   "outputs": [
    {
     "name": "stderr",
     "output_type": "stream",
     "text": [
      "/tmp/ipykernel_19830/3509738684.py:3: DeprecationWarning: Importing display from IPython.core.display is deprecated since IPython 7.14, please import from IPython display\n",
      "  from IPython.core.display import display, HTML\n"
     ]
    },
    {
     "data": {
      "text/html": [
       "<style>.container { width:100% !important; }</style>"
      ],
      "text/plain": [
       "<IPython.core.display.HTML object>"
      ]
     },
     "metadata": {},
     "output_type": "display_data"
    }
   ],
   "source": [
    "%load_ext autoreload\n",
    "%autoreload 2\n",
    "from IPython.core.display import display, HTML\n",
    "display(HTML(\"<style>.container { width:100% !important; }</style>\"))"
   ]
  },
  {
   "cell_type": "code",
   "execution_count": 2,
   "id": "123f5d46",
   "metadata": {},
   "outputs": [],
   "source": [
    "import pandas as pd\n",
    "import bamboolib as bam\n",
    "import pickle"
   ]
  },
  {
   "cell_type": "markdown",
   "id": "f972dbf8",
   "metadata": {
    "heading_collapsed": true
   },
   "source": [
    "# Load Data (Optional)"
   ]
  },
  {
   "cell_type": "code",
   "execution_count": 5,
   "id": "45239d1a",
   "metadata": {
    "hidden": true
   },
   "outputs": [
    {
     "data": {
      "application/vnd.jupyter.widget-view+json": {
       "model_id": "a1ef34834859412e98deb8b8989cd967"
      },
      "text/plain": [
       "           Main Category Vendor Account Number  \\\n",
       "0       non ICT      NaN              11003663   \n",
       "1       non ICT      NaN              11003565   \n",
       "2       non ICT      NaN              11002444   \n",
       "3       non ICT      NaN              10010024   \n",
       "4       non ICT      NaN              10000534   \n",
       "...         ...      ...                   ...   \n",
       "775415      NaN      NaN                107536   \n",
       "775416      NaN      NaN                107536   \n",
       "775417      NaN      NaN                107542   \n",
       "775418      NaN      NaN                   NaN   \n",
       "775419      NaN      NaN                   NaN   \n",
       "\n",
       "                             Vendor Name 1  Vendor Type SBA Description  \\\n",
       "0       HONGKONG IPURE BIOLOGY CO.,LIMITED  Third party    Land Systems   \n",
       "1            JH CHEMICAL (HK) CO., LIMITED  Third party    Land Systems   \n",
       "2                            MAGNESIA GMBH  Third party    Land Systems   \n",
       "3                      Q-PAC GROUP PTE LTD  Third party    Land Systems   \n",
       "4               TACT CHEMIE S.E.A. PTE LTD  Third party    Land Systems   \n",
       "...                                    ...          ...             ...   \n",
       "775415          PRICEWATERHOUSECOOPERS LLP  Third Party          Marine   \n",
       "775416          PRICEWATERHOUSECOOPERS LLP  Third Party          Marine   \n",
       "775417     EY CORPORATE ADVISORS PTE. LTD.  Third Party          Marine   \n",
       "775418                                 NaN          NaN             NaN   \n",
       "775419                                 NaN          NaN             NaN   \n",
       "\n",
       "        Item Company Code Item Company Code Description  \\\n",
       "0                  1900.0                           APM   \n",
       "1                  1900.0                           APM   \n",
       "2                  1900.0                           APM   \n",
       "3                  1900.0                           APM   \n",
       "4                  1900.0                           APM   \n",
       "...                   ...                           ...   \n",
       "775415              301.0           STSE Engrg Services   \n",
       "775416              301.0           STSE Engrg Services   \n",
       "775417              301.0           STSE Engrg Services   \n",
       "775418                NaN                           NaN   \n",
       "775419                NaN                           NaN   \n",
       "\n",
       "        Year of _Purchasing Document Date _Purchasing Document Date  ...  \\\n",
       "0                                  2022.0                 2/28/2022  ...   \n",
       "1                                  2022.0       2022-04-01 00:00:00  ...   \n",
       "2                                  2022.0       2022-10-02 00:00:00  ...   \n",
       "3                                  2022.0                 1/13/2022  ...   \n",
       "4                                  2022.0                 1/14/2022  ...   \n",
       "...                                   ...                       ...  ...   \n",
       "775415                             2022.0                12/19/2022  ...   \n",
       "775416                             2022.0                12/19/2022  ...   \n",
       "775417                             2022.0                12/22/2022  ...   \n",
       "775418                                NaN                       NaN  ...   \n",
       "775419                                NaN                       NaN  ...   \n",
       "\n",
       "       Process Unit  Item Delivery Date - Earliest  \\\n",
       "0                KG                     20220315.0   \n",
       "1                KG                     20220304.0   \n",
       "2                KG                     20220505.0   \n",
       "3                EA                     20220228.0   \n",
       "4                EA                     20220831.0   \n",
       "...             ...                            ...   \n",
       "775415           LE                     20230131.0   \n",
       "775416           LE                     20230131.0   \n",
       "775417           LE                     20221125.0   \n",
       "775418          NaN                            NaN   \n",
       "775419          NaN                            NaN   \n",
       "\n",
       "       Item Delivery Date - Latest     Etl Date Updated     Etl Date Created  \\\n",
       "0                       20220315.0  2022-01-10 00:00:00  2022-06-04 00:00:00   \n",
       "1                       20220304.0  2022-06-08 00:00:00            1/15/2022   \n",
       "2                       20220505.0  2022-01-10 00:00:00  2022-06-04 00:00:00   \n",
       "3                       20220228.0  2022-06-08 00:00:00            1/15/2022   \n",
       "4                       20220831.0  2022-06-08 00:00:00            1/15/2022   \n",
       "...                            ...                  ...                  ...   \n",
       "775415                  20230131.0            1/21/2023  2023-08-01 00:00:00   \n",
       "775416                  20230131.0            1/21/2023  2023-08-01 00:00:00   \n",
       "775417                  20221125.0            1/21/2023  2023-08-01 00:00:00   \n",
       "775418                         NaN                  NaN                  NaN   \n",
       "775419                         NaN                  NaN                  NaN   \n",
       "\n",
       "       Process Amount Process Quantity Process Unit Price Report Quarter  \\\n",
       "0           10149.750            200.0           50.74875        Q1 2022   \n",
       "1            3639.183             75.0           48.52244        Q1 2022   \n",
       "2            1297.052             40.0           32.42630        Q1 2022   \n",
       "3             600.000             10.0           60.00000        Q1 2022   \n",
       "4            1020.000             15.0           68.00000        Q1 2022   \n",
       "...               ...              ...                ...            ...   \n",
       "775415       5400.000              1.0         5400.00000        Q4 2022   \n",
       "775416        270.000              1.0          270.00000        Q4 2022   \n",
       "775417       1400.000              1.0         1400.00000        Q4 2022   \n",
       "775418            NaN              NaN                NaN            NaN   \n",
       "775419            NaN              NaN                NaN            NaN   \n",
       "\n",
       "           Prime LOB  \n",
       "0       Rest of LOBs  \n",
       "1       Rest of LOBs  \n",
       "2       Rest of LOBs  \n",
       "3       Rest of LOBs  \n",
       "4       Rest of LOBs  \n",
       "...              ...  \n",
       "775415  Rest of LOBs  \n",
       "775416  Rest of LOBs  \n",
       "775417  Rest of LOBs  \n",
       "775418           NaN  \n",
       "775419           NaN  \n",
       "\n",
       "[775420 rows x 45 columns]"
      ]
     },
     "metadata": {},
     "output_type": "display_data"
    }
   ],
   "source": [
    "df = pd.read_excel(r'/home/mohdhanifa/myGPT/data/Copy of 2022 PO Spend Data.xlsx',sheet_name='PO_Data_Download_data')\n",
    "df"
   ]
  },
  {
   "cell_type": "code",
   "execution_count": 6,
   "id": "1450b12b",
   "metadata": {
    "hidden": true
   },
   "outputs": [],
   "source": [
    "for col in ['Vendor Type','Main','Category','Brand Name']:\n",
    "    df[col]=df[col].str.upper().str.strip()"
   ]
  },
  {
   "cell_type": "code",
   "execution_count": 7,
   "id": "a504db2c",
   "metadata": {
    "hidden": true
   },
   "outputs": [],
   "source": [
    "with open(r'/home/mohdhanifa/myGPT/data/mj_data.pickle', 'wb') as handle:\n",
    "    pickle.dump(df, handle, protocol=pickle.HIGHEST_PROTOCOL)"
   ]
  },
  {
   "cell_type": "markdown",
   "id": "2aa78df2",
   "metadata": {},
   "source": [
    "# Load Pickle Data"
   ]
  },
  {
   "cell_type": "code",
   "execution_count": 3,
   "id": "bb077fe0",
   "metadata": {},
   "outputs": [],
   "source": [
    "with open(r'/home/mohdhanifa/myGPT/data/mj_data.pickle', 'rb') as handle:\n",
    "    df = pickle.load(handle)\n",
    "assert(df.shape==(775420, 45))"
   ]
  },
  {
   "cell_type": "code",
   "execution_count": 10,
   "id": "5b369043",
   "metadata": {},
   "outputs": [],
   "source": [
    "cols_raw=    ['Vendor Name 1','Item Company Code Description','Item Short Text','Material Group Description','Process Amount','Process Quantity','Process Unit Price']\n",
    "cols_derived=['Main','Category','Vendor Common','Brand Name','Report Quarter','Prime LOB']\n",
    "ict_cols=cols_raw+cols_derived"
   ]
  },
  {
   "cell_type": "code",
   "execution_count": 14,
   "id": "21b5a3b7",
   "metadata": {},
   "outputs": [
    {
     "data": {
      "text/plain": [
       "Main              20.0\n",
       "Category          91.0\n",
       "Vendor Common     95.0\n",
       "Brand Name        21.0\n",
       "Report Quarter     0.0\n",
       "Prime LOB          0.0\n",
       "dtype: float64"
      ]
     },
     "execution_count": 14,
     "metadata": {},
     "output_type": "execute_result"
    }
   ],
   "source": [
    "round(df[cols_derived].isna().sum()/df.shape[0],2)*100"
   ]
  },
  {
   "cell_type": "code",
   "execution_count": 15,
   "id": "508fd537",
   "metadata": {},
   "outputs": [
    {
     "data": {
      "application/vnd.jupyter.widget-view+json": {
       "model_id": "490164f05e434cc383adb6b7836b7685"
      },
      "text/plain": [
       "           Main Category Vendor Account Number  \\\n",
       "0       NON ICT      NaN              11003663   \n",
       "1       NON ICT      NaN              11003565   \n",
       "2       NON ICT      NaN              11002444   \n",
       "3       NON ICT      NaN              10010024   \n",
       "4       NON ICT      NaN              10000534   \n",
       "...         ...      ...                   ...   \n",
       "775415      NaN      NaN                107536   \n",
       "775416      NaN      NaN                107536   \n",
       "775417      NaN      NaN                107542   \n",
       "775418      NaN      NaN                   NaN   \n",
       "775419      NaN      NaN                   NaN   \n",
       "\n",
       "                             Vendor Name 1  Vendor Type SBA Description  \\\n",
       "0       HONGKONG IPURE BIOLOGY CO.,LIMITED  THIRD PARTY    Land Systems   \n",
       "1            JH CHEMICAL (HK) CO., LIMITED  THIRD PARTY    Land Systems   \n",
       "2                            MAGNESIA GMBH  THIRD PARTY    Land Systems   \n",
       "3                      Q-PAC GROUP PTE LTD  THIRD PARTY    Land Systems   \n",
       "4               TACT CHEMIE S.E.A. PTE LTD  THIRD PARTY    Land Systems   \n",
       "...                                    ...          ...             ...   \n",
       "775415          PRICEWATERHOUSECOOPERS LLP  THIRD PARTY          Marine   \n",
       "775416          PRICEWATERHOUSECOOPERS LLP  THIRD PARTY          Marine   \n",
       "775417     EY CORPORATE ADVISORS PTE. LTD.  THIRD PARTY          Marine   \n",
       "775418                                 NaN          NaN             NaN   \n",
       "775419                                 NaN          NaN             NaN   \n",
       "\n",
       "        Item Company Code Item Company Code Description  \\\n",
       "0                  1900.0                           APM   \n",
       "1                  1900.0                           APM   \n",
       "2                  1900.0                           APM   \n",
       "3                  1900.0                           APM   \n",
       "4                  1900.0                           APM   \n",
       "...                   ...                           ...   \n",
       "775415              301.0           STSE Engrg Services   \n",
       "775416              301.0           STSE Engrg Services   \n",
       "775417              301.0           STSE Engrg Services   \n",
       "775418                NaN                           NaN   \n",
       "775419                NaN                           NaN   \n",
       "\n",
       "        Year of _Purchasing Document Date _Purchasing Document Date  ...  \\\n",
       "0                                  2022.0                 2/28/2022  ...   \n",
       "1                                  2022.0       2022-04-01 00:00:00  ...   \n",
       "2                                  2022.0       2022-10-02 00:00:00  ...   \n",
       "3                                  2022.0                 1/13/2022  ...   \n",
       "4                                  2022.0                 1/14/2022  ...   \n",
       "...                                   ...                       ...  ...   \n",
       "775415                             2022.0                12/19/2022  ...   \n",
       "775416                             2022.0                12/19/2022  ...   \n",
       "775417                             2022.0                12/22/2022  ...   \n",
       "775418                                NaN                       NaN  ...   \n",
       "775419                                NaN                       NaN  ...   \n",
       "\n",
       "       Process Unit  Item Delivery Date - Earliest  \\\n",
       "0                KG                     20220315.0   \n",
       "1                KG                     20220304.0   \n",
       "2                KG                     20220505.0   \n",
       "3                EA                     20220228.0   \n",
       "4                EA                     20220831.0   \n",
       "...             ...                            ...   \n",
       "775415           LE                     20230131.0   \n",
       "775416           LE                     20230131.0   \n",
       "775417           LE                     20221125.0   \n",
       "775418          NaN                            NaN   \n",
       "775419          NaN                            NaN   \n",
       "\n",
       "       Item Delivery Date - Latest     Etl Date Updated     Etl Date Created  \\\n",
       "0                       20220315.0  2022-01-10 00:00:00  2022-06-04 00:00:00   \n",
       "1                       20220304.0  2022-06-08 00:00:00            1/15/2022   \n",
       "2                       20220505.0  2022-01-10 00:00:00  2022-06-04 00:00:00   \n",
       "3                       20220228.0  2022-06-08 00:00:00            1/15/2022   \n",
       "4                       20220831.0  2022-06-08 00:00:00            1/15/2022   \n",
       "...                            ...                  ...                  ...   \n",
       "775415                  20230131.0            1/21/2023  2023-08-01 00:00:00   \n",
       "775416                  20230131.0            1/21/2023  2023-08-01 00:00:00   \n",
       "775417                  20221125.0            1/21/2023  2023-08-01 00:00:00   \n",
       "775418                         NaN                  NaN                  NaN   \n",
       "775419                         NaN                  NaN                  NaN   \n",
       "\n",
       "       Process Amount Process Quantity Process Unit Price Report Quarter  \\\n",
       "0           10149.750            200.0           50.74875        Q1 2022   \n",
       "1            3639.183             75.0           48.52244        Q1 2022   \n",
       "2            1297.052             40.0           32.42630        Q1 2022   \n",
       "3             600.000             10.0           60.00000        Q1 2022   \n",
       "4            1020.000             15.0           68.00000        Q1 2022   \n",
       "...               ...              ...                ...            ...   \n",
       "775415       5400.000              1.0         5400.00000        Q4 2022   \n",
       "775416        270.000              1.0          270.00000        Q4 2022   \n",
       "775417       1400.000              1.0         1400.00000        Q4 2022   \n",
       "775418            NaN              NaN                NaN            NaN   \n",
       "775419            NaN              NaN                NaN            NaN   \n",
       "\n",
       "           Prime LOB  \n",
       "0       Rest of LOBs  \n",
       "1       Rest of LOBs  \n",
       "2       Rest of LOBs  \n",
       "3       Rest of LOBs  \n",
       "4       Rest of LOBs  \n",
       "...              ...  \n",
       "775415  Rest of LOBs  \n",
       "775416  Rest of LOBs  \n",
       "775417  Rest of LOBs  \n",
       "775418           NaN  \n",
       "775419           NaN  \n",
       "\n",
       "[775420 rows x 45 columns]"
      ]
     },
     "metadata": {},
     "output_type": "display_data"
    }
   ],
   "source": [
    "df"
   ]
  },
  {
   "cell_type": "code",
   "execution_count": null,
   "id": "9ba3452b",
   "metadata": {},
   "outputs": [],
   "source": []
  }
 ],
 "metadata": {
  "kernelspec": {
   "display_name": "Python 3 (ipykernel)",
   "language": "python",
   "name": "python3"
  },
  "language_info": {
   "codemirror_mode": {
    "name": "ipython",
    "version": 3
   },
   "file_extension": ".py",
   "mimetype": "text/x-python",
   "name": "python",
   "nbconvert_exporter": "python",
   "pygments_lexer": "ipython3",
   "version": "3.8.13"
  }
 },
 "nbformat": 4,
 "nbformat_minor": 5
}
