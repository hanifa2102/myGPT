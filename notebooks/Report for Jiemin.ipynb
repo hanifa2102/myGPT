{
 "cells": [
  {
   "cell_type": "code",
   "execution_count": 1,
   "id": "86b86955",
   "metadata": {},
   "outputs": [
    {
     "data": {
      "text/html": [
       "<style>.container { width:100% !important; }</style>"
      ],
      "text/plain": [
       "<IPython.core.display.HTML object>"
      ]
     },
     "metadata": {},
     "output_type": "display_data"
    }
   ],
   "source": [
    "%load_ext autoreload\n",
    "%autoreload 2\n",
    "from IPython.display import display, HTML\n",
    "display(HTML(\"<style>.container { width:100% !important; }</style>\"))"
   ]
  },
  {
   "cell_type": "code",
   "execution_count": 2,
   "id": "03ca2da5",
   "metadata": {},
   "outputs": [],
   "source": [
    "import pandas as pd\n",
    "from ydata_profiling import ProfileReport\n",
    "import bamboolib as bam"
   ]
  },
  {
   "cell_type": "code",
   "execution_count": 3,
   "id": "a44fffec",
   "metadata": {},
   "outputs": [],
   "source": [
    "import pandas as pd; import numpy as np\n",
    "df = pd.read_excel(r'C:\\Users\\User\\Desktop\\myGPT\\data\\17052023_ver1.xlsx')\n",
    "import pandas as pd; import numpy as np\n",
    "# Step: Drop columns\n",
    "df = df.drop(columns=['PO Rev', 'Line', 'PO Status', 'Buyer Name', 'Delivery Date (Per PO)', 'Currency', 'PR Number','Group','Flagged'])"
   ]
  },
  {
   "cell_type": "code",
   "execution_count": 4,
   "id": "c06aa9e2",
   "metadata": {},
   "outputs": [
    {
     "data": {
      "application/vnd.jupyter.widget-view+json": {
       "model_id": "cf3c189bc2374870909760f4e774fb7b"
      },
      "text/plain": [
       "       PO Identifier Vendor Number                           Vendor Name  \\\n",
       "0                768     1142981.0                              ExLibris   \n",
       "1                769       58066.0                              ExLibris   \n",
       "2              10467     1002161.0       Alliant Insurance Services, Inc   \n",
       "3              10474       18030.0       Alliant Insurance Services, Inc   \n",
       "4              12459     1065902.0                                   EMC   \n",
       "...              ...           ...                                   ...   \n",
       "30420          30421     1000633.0          Technology Integration Group   \n",
       "30421          30422       56613.0                      Capital Datacorp   \n",
       "30422          30423       17520.0                    THE PRIMARY SOURCE   \n",
       "30423          30424       56613.0                                  AT&T   \n",
       "30424          30425        2472.0  Enterprise Networking Solutions, Inc   \n",
       "\n",
       "           PO Number           PO Approver PO Order Date PO Approval Date  \\\n",
       "0           P1410545         Denise Rivers    2012-02-08       2012-02-28   \n",
       "1           P1410550         Denise Rivers    2012-02-08       2012-02-28   \n",
       "2         4500219360         Denise Rivers    2015-06-19       2015-07-09   \n",
       "3         4500219357         Denise Rivers    2015-06-20       2015-07-10   \n",
       "4         4500147774         Denise Rivers    2014-09-11       2014-10-01   \n",
       "...              ...                   ...           ...              ...   \n",
       "30420  1PA2L029 & 30            Louis Long           NaT              NaT   \n",
       "30421        3167436           James Lewis           NaT              NaT   \n",
       "30422      CD0062812        Rhonda Sanders           NaT              NaT   \n",
       "30423      30-62-016  Mrs. Jennifer Haynes           NaT              NaT   \n",
       "30424     4500206683    Brittany Hansen MD           NaT              NaT   \n",
       "\n",
       "                                                    Item  \\\n",
       "0                               ILS Software Maintenance   \n",
       "1                               ILS Software Maintenance   \n",
       "2                            Insurance Extended Warranty   \n",
       "3                            Insurance Extended Warranty   \n",
       "4      Brocade DCX switches, maintenance, migration, ...   \n",
       "...                                                  ...   \n",
       "30420                            4y NB Exchange Warranty   \n",
       "30421                               software maintenance   \n",
       "30422         HP #91 Maintenance Ctg, Design Jet Z6100ps   \n",
       "30423  2 Port 3rd Gen Multiflex Trunk Voice/Wan int Card   \n",
       "30424                                  Zerto Replication   \n",
       "\n",
       "                                             Description  Unit Price  \\\n",
       "0      Software maintenance on Aleph ILS and Catalog ...    72329.29   \n",
       "1      Software maintenance on Aleph ILS and catalog ...   152389.00   \n",
       "2                            Insurance Extended Warranty    82789.79   \n",
       "3                            Insurance Extended Warranty   153308.22   \n",
       "4      Brocade DCX switches, maintenance, migration, ...   180631.24   \n",
       "...                                                  ...         ...   \n",
       "30420                            4y NB Exchange Warranty       57.75   \n",
       "30421                               software maintenance    14991.59   \n",
       "30422  HP #91 Maintenance Ctg, Design Jet Z6100ps #HE...       74.00   \n",
       "30423                                Network Maintenance     1100.00   \n",
       "30424  Zerto Replication maintenance, software, and c...    48660.30   \n",
       "\n",
       "       Total PO Value Local Currency  Total PO Value Local Currency  \\\n",
       "0            72329.29            SGD                       72329.29   \n",
       "1           152389.00            SGD                      152389.00   \n",
       "2            82789.79            SGD                       82789.79   \n",
       "3           153308.22            SGD                      153308.22   \n",
       "4           180631.24            SGD                      180631.24   \n",
       "...               ...            ...                            ...   \n",
       "30420          115.50            SGD                         115.50   \n",
       "30421        14991.59            SGD                       14991.59   \n",
       "30422           74.00            SGD                          74.00   \n",
       "30423         1100.00            SGD                        1100.00   \n",
       "30424        48660.30            SGD                       48660.30   \n",
       "\n",
       "                                            Family Title  \n",
       "0                                      Computer services  \n",
       "1                                      Computer services  \n",
       "2                                      Computer services  \n",
       "3                                      Computer services  \n",
       "4                                      Computer services  \n",
       "...                                                  ...  \n",
       "30420                                  Computer services  \n",
       "30421                                  Computer services  \n",
       "30422  Office machines and their supplies and accesso...  \n",
       "30423                                  Computer services  \n",
       "30424                                  Computer services  \n",
       "\n",
       "[30425 rows x 14 columns]"
      ]
     },
     "metadata": {},
     "output_type": "display_data"
    }
   ],
   "source": [
    "# Step: Change data type of Vendor Number to String/Text\n",
    "df['Vendor Number'] = df['Vendor Number'].astype('string')\n",
    "\n",
    "df['PO Order Date'] = pd.to_datetime(df['PO Order Date'], format='%Y-%m-%d %H:%M:%S',errors='coerce')\n",
    "df['PO Approval Date'] = pd.to_datetime(df['PO Approval Date'], format='%Y-%m-%d %H:%M:%S',errors='coerce')\n",
    "df"
   ]
  },
  {
   "cell_type": "code",
   "execution_count": 5,
   "id": "30d735f5",
   "metadata": {},
   "outputs": [],
   "source": [
    "profile = ProfileReport(df, title=\"Profiling Report\")"
   ]
  },
  {
   "cell_type": "code",
   "execution_count": 6,
   "id": "f1e925c2",
   "metadata": {},
   "outputs": [
    {
     "data": {
      "application/vnd.jupyter.widget-view+json": {
       "model_id": "8ddf1e9c7ca94d8d94a36f53fd26109b",
       "version_major": 2,
       "version_minor": 0
      },
      "text/plain": [
       "Summarize dataset:   0%|          | 0/5 [00:00<?, ?it/s]"
      ]
     },
     "metadata": {},
     "output_type": "display_data"
    },
    {
     "data": {
      "application/vnd.jupyter.widget-view+json": {
       "model_id": "fcd3a73ff6564f21ae9a8ebebc58db81",
       "version_major": 2,
       "version_minor": 0
      },
      "text/plain": [
       "Generate report structure:   0%|          | 0/1 [00:00<?, ?it/s]"
      ]
     },
     "metadata": {},
     "output_type": "display_data"
    },
    {
     "data": {
      "application/vnd.jupyter.widget-view+json": {
       "model_id": "",
       "version_major": 2,
       "version_minor": 0
      },
      "text/plain": [
       "Render widgets:   0%|          | 0/1 [00:00<?, ?it/s]"
      ]
     },
     "metadata": {},
     "output_type": "display_data"
    },
    {
     "data": {
      "application/vnd.jupyter.widget-view+json": {
       "model_id": "ce2d1663a5974d368823e9f2e3413b0a",
       "version_major": 2,
       "version_minor": 0
      },
      "text/plain": [
       "VBox(children=(Tab(children=(Tab(children=(GridBox(children=(VBox(children=(GridspecLayout(children=(HTML(valu…"
      ]
     },
     "metadata": {},
     "output_type": "display_data"
    }
   ],
   "source": [
    "profile.to_widgets()"
   ]
  },
  {
   "cell_type": "code",
   "execution_count": 7,
   "id": "9cb749cf",
   "metadata": {},
   "outputs": [
    {
     "data": {
      "application/vnd.jupyter.widget-view+json": {
       "model_id": "a66c62d2b76e492c9a6c17ac02c19c8b",
       "version_major": 2,
       "version_minor": 0
      },
      "text/plain": [
       "Render HTML:   0%|          | 0/1 [00:00<?, ?it/s]"
      ]
     },
     "metadata": {},
     "output_type": "display_data"
    },
    {
     "data": {
      "application/vnd.jupyter.widget-view+json": {
       "model_id": "2cd14d7461364546829d8b97ad1ecd83",
       "version_major": 2,
       "version_minor": 0
      },
      "text/plain": [
       "Export report to file:   0%|          | 0/1 [00:00<?, ?it/s]"
      ]
     },
     "metadata": {},
     "output_type": "display_data"
    }
   ],
   "source": [
    "profile.to_file(\"jieminreport.html\")"
   ]
  },
  {
   "cell_type": "code",
   "execution_count": null,
   "id": "8a1798af",
   "metadata": {},
   "outputs": [],
   "source": []
  }
 ],
 "metadata": {
  "kernelspec": {
   "display_name": "Python 3 (ipykernel)",
   "language": "python",
   "name": "python3"
  },
  "language_info": {
   "codemirror_mode": {
    "name": "ipython",
    "version": 3
   },
   "file_extension": ".py",
   "mimetype": "text/x-python",
   "name": "python",
   "nbconvert_exporter": "python",
   "pygments_lexer": "ipython3",
   "version": "3.10.6"
  }
 },
 "nbformat": 4,
 "nbformat_minor": 5
}
