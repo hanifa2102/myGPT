{
 "cells": [
  {
   "cell_type": "markdown",
   "id": "c2db337a",
   "metadata": {},
   "source": [
    "# Load Libraries"
   ]
  },
  {
   "cell_type": "code",
   "execution_count": 1,
   "id": "e20b6ac3",
   "metadata": {},
   "outputs": [
    {
     "data": {
      "text/html": [
       "<style>.container { width:100% !important; }</style>"
      ],
      "text/plain": [
       "<IPython.core.display.HTML object>"
      ]
     },
     "metadata": {},
     "output_type": "display_data"
    }
   ],
   "source": [
    "%load_ext autoreload\n",
    "%autoreload 2\n",
    "from IPython.display import display, HTML\n",
    "display(HTML(\"<style>.container { width:100% !important; }</style>\"))"
   ]
  },
  {
   "cell_type": "code",
   "execution_count": 2,
   "id": "cb96b71c",
   "metadata": {},
   "outputs": [],
   "source": [
    "import os\n",
    "import openai\n",
    "import pandas as pd\n",
    "import bamboolib as bam\n",
    "import json"
   ]
  },
  {
   "cell_type": "code",
   "execution_count": 3,
   "id": "1396e45a",
   "metadata": {},
   "outputs": [],
   "source": [
    "from apikey import apikey\n",
    "os.environ['OPENAI_API_KEY']=apikey\n",
    "openai.api_key  = os.getenv('OPENAI_API_KEY')"
   ]
  },
  {
   "cell_type": "markdown",
   "id": "ad1d637b",
   "metadata": {},
   "source": [
    "# OpenAI"
   ]
  },
  {
   "cell_type": "code",
   "execution_count": 4,
   "id": "45ea1b44",
   "metadata": {},
   "outputs": [],
   "source": [
    "def get_completion(prompt, model=\"gpt-3.5-turbo\"):\n",
    "    messages = [{'role':'system', 'content':'You are an expert in classifying products into UNSPSC codes'},\n",
    "                {\"role\": \"user\", \"content\": prompt}]\n",
    "    \n",
    "    response = openai.ChatCompletion.create(\n",
    "        model=model,\n",
    "        messages=messages,\n",
    "        temperature=0, # this is the degree of randomness of the model's output\n",
    "    )\n",
    "    return response.choices[0].message[\"content\"]"
   ]
  },
  {
   "cell_type": "code",
   "execution_count": 5,
   "id": "3c512921",
   "metadata": {},
   "outputs": [],
   "source": [
    "def classify_UNSPSC(tabular_data):\n",
    "    prompt=f\"\"\"\n",
    "    You must classify the products delimited by triple backticks:\n",
    "    1.Provide the output with the following keys only\n",
    "    {{\n",
    "        \"index\": ,\n",
    "        \"Product Description\": ,\n",
    "        \"UNSPSC coding\":,\n",
    "        \"Segment\": ,\n",
    "        \"Family\": ,\n",
    "        \"Class\": ,\n",
    "        \"Commodity\": \n",
    "    }}\n",
    "    2.No AI introduction, No AI analysis, Return generated Json data only without backticks, Not human-readable, No backticks in output\n",
    "    ```{tabular_data}```\"\"\"\n",
    "    display(prompt)\n",
    "    response=get_completion(prompt)\n",
    "    print(f'response:\\t{response}')\n",
    "    response_dict=json.loads(response)\n",
    "    print(f'response_dict:\\t{response_dict}')\n",
    "    \n",
    "    return pd.DataFrame.from_dict(response_dict)  "
   ]
  },
  {
   "cell_type": "code",
   "execution_count": 6,
   "id": "1c6f8d15",
   "metadata": {},
   "outputs": [],
   "source": [
    "def get_tabular_UNSPSC(df,sample_size=5):\n",
    "    sample_df=df.sample(sample_size)\n",
    "    print(sample_df.index)\n",
    "    sample_df=sample_df.reset_index(drop=True)\n",
    "    sample_df.rename(columns={'MaterialDescription': 'Product Description', 'Genericname ': 'Generic Product Description', 'SupplierName': 'Vendor Name'},inplace=True)\n",
    "    X_df=sample_df[sample_df.columns[0:3]].reset_index()\n",
    "    Y_df=sample_df[sample_df.columns[3:]].reset_index()\n",
    "\n",
    "    X=X_df.to_dict(orient='records')\n",
    "    X=str(X).replace('{','{{',).replace('}','}}')\n",
    "    \n",
    "    return (X,X_df,Y_df)\n",
    "    "
   ]
  },
  {
   "cell_type": "code",
   "execution_count": 18,
   "id": "ac783d52",
   "metadata": {
    "code_folding": [
     0
    ]
   },
   "outputs": [],
   "source": [
    "# tt=f\"\"\"\n",
    "# Classify the products delimited by triple backticks and Provide the output with the following keys :\n",
    "# index,Product Description,UNSPSC coding,Segment,Family,Class,Commodity.\n",
    "# The output should only contain a JSON string\n",
    "# ```\n",
    "# [{{'index': 0, 'Product Description': 'BAKFLEX-A 8 MG tablet', 'Generic Product Description': 'thiocolchicoside-8 mg+aceclofenac-100 mg', 'Vendor Name': 'DROGARIA ANANTA'}}, {{'index': 1, 'Product Description': 'DOMIN 200 MG/5 ML ampoule solution for injection, 40 mg/mL', 'Generic Product Description': 'dopamine hydrochloride-200 mg', 'Vendor Name': 'VIMAL SALES CORPORATION'}}]\n",
    "# ```\n",
    "# \"\"\"\n",
    "# response=get_completion(tt)\n",
    "\n",
    "# response_dict=json.loads(response)\n",
    "# pd.DataFrame.from_dict(response_dict)"
   ]
  },
  {
   "cell_type": "markdown",
   "id": "ca217a59",
   "metadata": {},
   "source": [
    "# UNSPSC Data"
   ]
  },
  {
   "cell_type": "markdown",
   "id": "03f0ead5",
   "metadata": {
    "heading_collapsed": true
   },
   "source": [
    "## Raw "
   ]
  },
  {
   "cell_type": "code",
   "execution_count": 9,
   "id": "6942db80",
   "metadata": {
    "hidden": true
   },
   "outputs": [],
   "source": [
    "df = pd.read_csv('UNSPSCdataset.csv',encoding='mac_roman',low_memory=False)"
   ]
  },
  {
   "cell_type": "code",
   "execution_count": 10,
   "id": "7125814d",
   "metadata": {
    "hidden": true
   },
   "outputs": [
    {
     "name": "stdout",
     "output_type": "stream",
     "text": [
      "(5808, 8)\n",
      "(744, 8)\n"
     ]
    }
   ],
   "source": [
    "df = df.loc[df['SupplierName'].notna()]\n",
    "df = df.loc[df['Genericname '].notna()]\n",
    "df = df.loc[df['Commodity'].notna()]\n",
    "df = df[['MaterialDescription', 'Genericname ', 'SupplierName', 'Segment', 'Family', 'Class', 'Commodity', 'UNSPSC_Final']]\n",
    "print(df.shape)\n",
    "df = df.drop_duplicates(subset=['MaterialDescription', 'Genericname '], keep='first')\n",
    "print(df.shape)"
   ]
  },
  {
   "cell_type": "code",
   "execution_count": 11,
   "id": "de237eea",
   "metadata": {
    "hidden": true
   },
   "outputs": [],
   "source": [
    "df.to_csv('UNSPSCdataset_final.csv',index=False)"
   ]
  },
  {
   "cell_type": "markdown",
   "id": "3aeacb1e",
   "metadata": {},
   "source": [
    "## Preprocessed"
   ]
  },
  {
   "cell_type": "code",
   "execution_count": 10,
   "id": "a38ff250",
   "metadata": {},
   "outputs": [
    {
     "data": {
      "application/vnd.jupyter.widget-view+json": {
       "model_id": "b70f9e7057c14e9b9e1a40391be0f7a1"
      },
      "text/plain": [
       "         MaterialDescription  \\\n",
       "0              6-MP 50MG TAB   \n",
       "1     A B PHYLLINE SYP 100ML   \n",
       "2                     A TO Z   \n",
       "3         A to Z Gold tablet   \n",
       "4                 A TO Z SYR   \n",
       "..                       ...   \n",
       "739               DYTOR 20MG   \n",
       "740               DYTOR 20MG   \n",
       "741  DYTOR PLUS 10 MG tablet   \n",
       "742    DYTOR PLUS-10MG,TAB.    \n",
       "743      DYTORPLUS-20MG,TAB.   \n",
       "\n",
       "                                          Genericname   \\\n",
       "0                                     5 MERCAPTOPURINE   \n",
       "1                            acebrophylline-50 mg/5 ml   \n",
       "2                   VITAMINS WITH AMINO ACIDS&MINERALS   \n",
       "3    carbohydrate-0.015 g+protein-0.016 g+eicosapen...   \n",
       "4                                         MULTIVITAMIN   \n",
       "..                                                 ...   \n",
       "739                                    torsemide-20 mg   \n",
       "740                             TORSEMIDE TABLETS 10mg   \n",
       "741               torsemide-10 mg+spironolactone-50 mg   \n",
       "742                         , Torsemide+Spironolactone   \n",
       "743                         , Torsemide+Spironolactone   \n",
       "\n",
       "                          SupplierName                            Segment  \\\n",
       "0                      R S ENTERPRISES  Drugs and Pharmaceutical Products   \n",
       "1                      MEDICARE PHARMA  Drugs and Pharmaceutical Products   \n",
       "2                        GEETHA PHARMA  Drugs and Pharmaceutical Products   \n",
       "3         RAJSONS PHARMA INDIA LIMITED  Drugs and Pharmaceutical Products   \n",
       "4       SRI BALAJI PHARMA DISTRIBUTORS  Drugs and Pharmaceutical Products   \n",
       "..                                 ...                                ...   \n",
       "739            VAMAN  PHARMA  PVT  LTD  Drugs and Pharmaceutical Products   \n",
       "740  SALEM SENTHIL PHARMA DISTRIBUTORS  Drugs and Pharmaceutical Products   \n",
       "741                    AUROBINDO DRUGS  Drugs and Pharmaceutical Products   \n",
       "742                RAJATH DISTRIBUTORS  Drugs and Pharmaceutical Products   \n",
       "743           JAIN PHARMA DISTRIBUTORS  Drugs and Pharmaceutical Products   \n",
       "\n",
       "                                      Family  \\\n",
       "0                      Antineoplastic agents   \n",
       "1      Drugs affecting the respiratory tract   \n",
       "2    Agents affecting water and electrolytes   \n",
       "3    Agents affecting water and electrolytes   \n",
       "4    Agents affecting water and electrolytes   \n",
       "..                                       ...   \n",
       "739  Agents affecting water and electrolytes   \n",
       "740  Agents affecting water and electrolytes   \n",
       "741  Agents affecting water and electrolytes   \n",
       "742  Agents affecting water and electrolytes   \n",
       "743  Agents affecting water and electrolytes   \n",
       "\n",
       "                                                 Class            Commodity  \\\n",
       "0                                      Antimetabolites       Mercaptopurine   \n",
       "1                                  Antiasthmatic drugs        Aminophylline   \n",
       "2    Dietary supplements and nutritional therapy pr...  Vitamin supplements   \n",
       "3    Dietary supplements and nutritional therapy pr...  Vitamin supplements   \n",
       "4    Dietary supplements and nutritional therapy pr...  Vitamin supplements   \n",
       "..                                                 ...                  ...   \n",
       "739                                          Diuretics            Torsemide   \n",
       "740                                          Diuretics            Torsemide   \n",
       "741                                          Diuretics            Torsemide   \n",
       "742                                          Diuretics            Torsemide   \n",
       "743                                          Diuretics            Torsemide   \n",
       "\n",
       "     UNSPSC_Final  \n",
       "0        51111609  \n",
       "1        51161504  \n",
       "2        51191905  \n",
       "3        51191905  \n",
       "4        51191905  \n",
       "..            ...  \n",
       "739      51191521  \n",
       "740      51191521  \n",
       "741      51191521  \n",
       "742      51191521  \n",
       "743      51191521  \n",
       "\n",
       "[744 rows x 8 columns]"
      ]
     },
     "metadata": {},
     "output_type": "display_data"
    }
   ],
   "source": [
    "df=pd.read_csv('UNSPSCdataset_final.csv')\n",
    "df"
   ]
  },
  {
   "cell_type": "code",
   "execution_count": 37,
   "id": "2e4812b6",
   "metadata": {},
   "outputs": [],
   "source": [
    "df = df.filter(items = [735, 250, 325, 214, 484], axis=0)\n",
    "df.to_csv('UNSPSC_test.csv',index=False)"
   ]
  },
  {
   "cell_type": "markdown",
   "id": "e14cc090",
   "metadata": {},
   "source": [
    "# Predict "
   ]
  },
  {
   "cell_type": "code",
   "execution_count": 38,
   "id": "afd3a38a",
   "metadata": {},
   "outputs": [
    {
     "name": "stdout",
     "output_type": "stream",
     "text": [
      "Int64Index([484, 735, 325, 250, 214], dtype='int64')\n"
     ]
    }
   ],
   "source": [
    "tt=get_tabular_UNSPSC(df)"
   ]
  },
  {
   "cell_type": "code",
   "execution_count": 39,
   "id": "e2b48770",
   "metadata": {},
   "outputs": [
    {
     "data": {
      "text/plain": [
       "\"[{{'index': 0, 'Product Description': 'CLOPILET A 75', 'Generic Product Description': 'CLOPIDOGREL BISULFATE+ASPRIN CAP', 'Vendor Name': 'SRI BALAJI PHARMA DISTRIBUTORS'}}, {{'index': 1, 'Product Description': 'DYNAPAR EC 50', 'Generic Product Description': 'DICLOFENAC', 'Vendor Name': 'GEETHA PHARMA'}}, {{'index': 2, 'Product Description': 'BROPHYLE CAPS', 'Generic Product Description': 'acebrophylline-100 mg', 'Vendor Name': 'NOVA PHARMACEUTICALS & GENERAL DIST'}}, {{'index': 3, 'Product Description': 'BACIGYL-N oral suspension 30 ML', 'Generic Product Description': 'metronidazole-100 mg/5 ml+norfloxacin-100 mg/5 ml', 'Vendor Name': 'DROGARIA COLVALKAR'}}, {{'index': 4, 'Product Description': 'ATRAPURE 50 MG/ 5 ML AMP SOLN FOR INJECTION', 'Generic Product Description': 'ATRACURIUM BESYLATE INJ', 'Vendor Name': 'XCEL HEALTHCARE'}}]\""
      ]
     },
     "execution_count": 39,
     "metadata": {},
     "output_type": "execute_result"
    }
   ],
   "source": [
    "tt[0]"
   ]
  },
  {
   "cell_type": "code",
   "execution_count": 40,
   "id": "79f33391",
   "metadata": {},
   "outputs": [],
   "source": [
    "# json.dumps(tt[0])"
   ]
  },
  {
   "cell_type": "code",
   "execution_count": 46,
   "id": "c6800781",
   "metadata": {},
   "outputs": [
    {
     "data": {
      "text/plain": [
       "'\\n    You must classify the products delimited by triple backticks:\\n    1.Provide the output with the following keys only\\n    {\\n        \"index\": ,\\n        \"Product Description\": ,\\n        \"UNSPSC coding\":,\\n        \"Segment\": ,\\n        \"Family\": ,\\n        \"Class\": ,\\n        \"Commodity\": \\n    }\\n    2.No AI introduction, No AI analysis, Return generated Json data only without backticks, Not human-readable, No backticks in output\\n    ```[{{\\'index\\': 0, \\'Product Description\\': \\'CLOPILET A 75\\', \\'Generic Product Description\\': \\'CLOPIDOGREL BISULFATE+ASPRIN CAP\\', \\'Vendor Name\\': \\'SRI BALAJI PHARMA DISTRIBUTORS\\'}}, {{\\'index\\': 1, \\'Product Description\\': \\'DYNAPAR EC 50\\', \\'Generic Product Description\\': \\'DICLOFENAC\\', \\'Vendor Name\\': \\'GEETHA PHARMA\\'}}, {{\\'index\\': 2, \\'Product Description\\': \\'BROPHYLE CAPS\\', \\'Generic Product Description\\': \\'acebrophylline-100 mg\\', \\'Vendor Name\\': \\'NOVA PHARMACEUTICALS & GENERAL DIST\\'}}, {{\\'index\\': 3, \\'Product Description\\': \\'BACIGYL-N oral suspension 30 ML\\', \\'Generic Product Description\\': \\'metronidazole-100 mg/5 ml+norfloxacin-100 mg/5 ml\\', \\'Vendor Name\\': \\'DROGARIA COLVALKAR\\'}}, {{\\'index\\': 4, \\'Product Description\\': \\'ATRAPURE 50 MG/ 5 ML AMP SOLN FOR INJECTION\\', \\'Generic Product Description\\': \\'ATRACURIUM BESYLATE INJ\\', \\'Vendor Name\\': \\'XCEL HEALTHCARE\\'}}]```'"
      ]
     },
     "metadata": {},
     "output_type": "display_data"
    },
    {
     "name": "stdout",
     "output_type": "stream",
     "text": [
      "response:\t[{\"index\": 0, \"Product Description\": \"CLOPILET A 75\", \"UNSPSC coding\": null, \"Segment\": null, \"Family\": null, \"Class\": null, \"Commodity\": null}, {\"index\": 1, \"Product Description\": \"DYNAPAR EC 50\", \"UNSPSC coding\": \"42201800\", \"Segment\": \"Healthcare Services\", \"Family\": \"Therapeutic and rehabilitative products\", \"Class\": \"Musculoskeletal therapy products\", \"Commodity\": \"Topical pain relief products\"}, {\"index\": 2, \"Product Description\": \"BROPHYLE CAPS\", \"UNSPSC coding\": \"51191910\", \"Segment\": \"Healthcare Services\", \"Family\": \"Pharmaceuticals\", \"Class\": \"Respiratory and anesthesia and resuscitation products\", \"Commodity\": \"Respiratory therapy products\"}, {\"index\": 3, \"Product Description\": \"BACIGYL-N oral suspension 30 ML\", \"UNSPSC coding\": \"51101500\", \"Segment\": \"Healthcare Services\", \"Family\": \"Pharmaceuticals\", \"Class\": \"Antiinfective agents\", \"Commodity\": \"Antibacterial agents\"}, {\"index\": 4, \"Product Description\": \"ATRAPURE 50 MG/ 5 ML AMP SOLN FOR INJECTION\", \"UNSPSC coding\": \"51201600\", \"Segment\": \"Healthcare Services\", \"Family\": \"Pharmaceuticals\", \"Class\": \"Central nervous system agents\", \"Commodity\": \"Anesthetics\"}]\n",
      "response_dict:\t[{'index': 0, 'Product Description': 'CLOPILET A 75', 'UNSPSC coding': None, 'Segment': None, 'Family': None, 'Class': None, 'Commodity': None}, {'index': 1, 'Product Description': 'DYNAPAR EC 50', 'UNSPSC coding': '42201800', 'Segment': 'Healthcare Services', 'Family': 'Therapeutic and rehabilitative products', 'Class': 'Musculoskeletal therapy products', 'Commodity': 'Topical pain relief products'}, {'index': 2, 'Product Description': 'BROPHYLE CAPS', 'UNSPSC coding': '51191910', 'Segment': 'Healthcare Services', 'Family': 'Pharmaceuticals', 'Class': 'Respiratory and anesthesia and resuscitation products', 'Commodity': 'Respiratory therapy products'}, {'index': 3, 'Product Description': 'BACIGYL-N oral suspension 30 ML', 'UNSPSC coding': '51101500', 'Segment': 'Healthcare Services', 'Family': 'Pharmaceuticals', 'Class': 'Antiinfective agents', 'Commodity': 'Antibacterial agents'}, {'index': 4, 'Product Description': 'ATRAPURE 50 MG/ 5 ML AMP SOLN FOR INJECTION', 'UNSPSC coding': '51201600', 'Segment': 'Healthcare Services', 'Family': 'Pharmaceuticals', 'Class': 'Central nervous system agents', 'Commodity': 'Anesthetics'}]\n"
     ]
    }
   ],
   "source": [
    "result=classify_UNSPSC(tt[0])"
   ]
  },
  {
   "cell_type": "code",
   "execution_count": null,
   "id": "1c99869d",
   "metadata": {},
   "outputs": [],
   "source": []
  },
  {
   "cell_type": "code",
   "execution_count": 24,
   "id": "50b873d9",
   "metadata": {},
   "outputs": [
    {
     "data": {
      "application/vnd.jupyter.widget-view+json": {
       "model_id": "2712ef5bfde746b289163a28e401e602"
      },
      "text/plain": [
       "   index         Product Description UNSPSC coding  \\\n",
       "0      0               AMITRIL  PLUS          None   \n",
       "1      1           BOOSTEM 150MG INJ      51191600   \n",
       "2      2        AVESSA 125MG INHALER          None   \n",
       "3      3                 ALBUMIN 20%      51191600   \n",
       "4      4  ARTHROSCOPY DRAPE ECO E518      42131700   \n",
       "\n",
       "                                          Segment  \\\n",
       "0                                            None   \n",
       "1   Pharmaceuticals and Biochemicals and Healt...   \n",
       "2                                            None   \n",
       "3   Pharmaceuticals and Biochemicals and Healt...   \n",
       "4  Medical Equipment and Accessories and Supplies   \n",
       "\n",
       "                              Family                            Class  \\\n",
       "0                               None                             None   \n",
       "1  Drugs and Pharmaceutical Products  Parenteral and Enteral Supplies   \n",
       "2                               None                             None   \n",
       "3  Drugs and Pharmaceutical Products  Parenteral and Enteral Supplies   \n",
       "4                  Surgical products                  Surgical drapes   \n",
       "\n",
       "                                       Commodity  \n",
       "0                                           None  \n",
       "1  Parenteral solutions and irrigation solutions  \n",
       "2                                           None  \n",
       "3  Parenteral solutions and irrigation solutions  \n",
       "4                                           None  "
      ]
     },
     "metadata": {},
     "output_type": "display_data"
    }
   ],
   "source": [
    "result"
   ]
  },
  {
   "cell_type": "code",
   "execution_count": 42,
   "id": "e825d1ba",
   "metadata": {},
   "outputs": [
    {
     "data": {
      "application/vnd.jupyter.widget-view+json": {
       "model_id": "c78fd3b04773447c95ea4c0f0b4559e7"
      },
      "text/plain": [
       "   index                          Product Description UNSPSC coding  \\\n",
       "0      0                                CLOPILET A 75          None   \n",
       "1      1                                DYNAPAR EC 50      42271700   \n",
       "2      2                                BROPHYLE CAPS      51191910   \n",
       "3      3              BACIGYL-N oral suspension 30 ML      51101500   \n",
       "4      4  ATRAPURE 50 MG/ 5 ML AMP SOLN FOR INJECTION      51201600   \n",
       "\n",
       "               Segment                                          Family  \\\n",
       "0                 None                                            None   \n",
       "1  Healthcare Services  Medical Equipment and Accessories and Supplies   \n",
       "2  Healthcare Services                                 Pharmaceuticals   \n",
       "3  Healthcare Services                                 Pharmaceuticals   \n",
       "4  Healthcare Services                                 Pharmaceuticals   \n",
       "\n",
       "                               Class                           Commodity  \n",
       "0                               None                                None  \n",
       "1                  Surgical products  Surgical drapes or covers or packs  \n",
       "2  Drugs and Pharmaceutical Products            Respiratory system drugs  \n",
       "3  Drugs and Pharmaceutical Products                Antibacterial agents  \n",
       "4  Drugs and Pharmaceutical Products                    Muscle relaxants  "
      ]
     },
     "metadata": {},
     "output_type": "display_data"
    }
   ],
   "source": [
    "result"
   ]
  },
  {
   "cell_type": "code",
   "execution_count": 45,
   "id": "16a6cbec",
   "metadata": {},
   "outputs": [
    {
     "data": {
      "application/vnd.jupyter.widget-view+json": {
       "model_id": "5a480dc7aed34e0395ce0bf17c0742ec"
      },
      "text/plain": [
       "   index                          Product Description  \\\n",
       "0      0                                CLOPILET A 75   \n",
       "1      1                                DYNAPAR EC 50   \n",
       "2      2                                BROPHYLE CAPS   \n",
       "3      3              BACIGYL-N oral suspension 30 ML   \n",
       "4      4  ATRAPURE 50 MG/ 5 ML AMP SOLN FOR INJECTION   \n",
       "\n",
       "                         Generic Product Description  \\\n",
       "0                   CLOPIDOGREL BISULFATE+ASPRIN CAP   \n",
       "1                                         DICLOFENAC   \n",
       "2                              acebrophylline-100 mg   \n",
       "3  metronidazole-100 mg/5 ml+norfloxacin-100 mg/5 ml   \n",
       "4                            ATRACURIUM BESYLATE INJ   \n",
       "\n",
       "                           Vendor Name UNSPSC coding              Segment  \\\n",
       "0       SRI BALAJI PHARMA DISTRIBUTORS          None                 None   \n",
       "1                        GEETHA PHARMA      42271700  Healthcare Services   \n",
       "2  NOVA PHARMACEUTICALS & GENERAL DIST      51191910  Healthcare Services   \n",
       "3                   DROGARIA COLVALKAR      51101500  Healthcare Services   \n",
       "4                      XCEL HEALTHCARE      51201600  Healthcare Services   \n",
       "\n",
       "                                           Family  \\\n",
       "0                                            None   \n",
       "1  Medical Equipment and Accessories and Supplies   \n",
       "2                                 Pharmaceuticals   \n",
       "3                                 Pharmaceuticals   \n",
       "4                                 Pharmaceuticals   \n",
       "\n",
       "                               Class                           Commodity  \n",
       "0                               None                                None  \n",
       "1                  Surgical products  Surgical drapes or covers or packs  \n",
       "2  Drugs and Pharmaceutical Products            Respiratory system drugs  \n",
       "3  Drugs and Pharmaceutical Products                Antibacterial agents  \n",
       "4  Drugs and Pharmaceutical Products                    Muscle relaxants  "
      ]
     },
     "metadata": {},
     "output_type": "display_data"
    }
   ],
   "source": [
    "pd.merge(tt[1],result,on=['index','Product Description'])"
   ]
  },
  {
   "cell_type": "code",
   "execution_count": null,
   "id": "090c1c61",
   "metadata": {},
   "outputs": [],
   "source": []
  }
 ],
 "metadata": {
  "kernelspec": {
   "display_name": "Python 3 (ipykernel)",
   "language": "python",
   "name": "python3"
  },
  "language_info": {
   "codemirror_mode": {
    "name": "ipython",
    "version": 3
   },
   "file_extension": ".py",
   "mimetype": "text/x-python",
   "name": "python",
   "nbconvert_exporter": "python",
   "pygments_lexer": "ipython3",
   "version": "3.10.6"
  }
 },
 "nbformat": 4,
 "nbformat_minor": 5
}
