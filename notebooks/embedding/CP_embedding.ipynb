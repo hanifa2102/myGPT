{
 "cells": [
  {
   "cell_type": "code",
   "execution_count": 1,
   "id": "14c6e238",
   "metadata": {},
   "outputs": [
    {
     "name": "stderr",
     "output_type": "stream",
     "text": [
      "/tmp/ipykernel_946787/3509738684.py:3: DeprecationWarning: Importing display from IPython.core.display is deprecated since IPython 7.14, please import from IPython display\n",
      "  from IPython.core.display import display, HTML\n"
     ]
    },
    {
     "data": {
      "text/html": [
       "<style>.container { width:100% !important; }</style>"
      ],
      "text/plain": [
       "<IPython.core.display.HTML object>"
      ]
     },
     "metadata": {},
     "output_type": "display_data"
    }
   ],
   "source": [
    "%load_ext autoreload\n",
    "%autoreload 2\n",
    "from IPython.core.display import display, HTML\n",
    "display(HTML(\"<style>.container { width:100% !important; }</style>\"))"
   ]
  },
  {
   "cell_type": "code",
   "execution_count": 2,
   "id": "134411aa",
   "metadata": {},
   "outputs": [],
   "source": [
    "# from transformers import pipeline\n",
    "# from transformers import AutoTokenizer"
   ]
  },
  {
   "cell_type": "code",
   "execution_count": 3,
   "id": "d4f624c6",
   "metadata": {},
   "outputs": [],
   "source": [
    "import pandas as pd\n",
    "import numpy as np\n",
    "import plotly.express as px\n",
    "import bamboolib as bam\n",
    "\n",
    "import pickle"
   ]
  },
  {
   "cell_type": "code",
   "execution_count": 4,
   "id": "eeab8fa9",
   "metadata": {},
   "outputs": [],
   "source": [
    "from datasets import load_dataset\n",
    "from sentence_transformers import SentenceTransformer,util\n",
    "from sklearn.manifold import TSNE\n",
    "import matplotlib.pyplot as plt\n"
   ]
  },
  {
   "cell_type": "code",
   "execution_count": 5,
   "id": "5c05e0ba",
   "metadata": {},
   "outputs": [],
   "source": [
    "model = SentenceTransformer('sentence-transformers/all-MiniLM-L6-v2')"
   ]
  },
  {
   "cell_type": "code",
   "execution_count": 6,
   "id": "05f0bc1e",
   "metadata": {},
   "outputs": [],
   "source": [
    "with open('df_2.pickle', 'rb') as handle:\n",
    "    df_2 = pickle.load(handle)"
   ]
  },
  {
   "cell_type": "code",
   "execution_count": 7,
   "id": "bfaaded2",
   "metadata": {},
   "outputs": [],
   "source": [
    "df_2.reset_index(inplace=True,drop=True)"
   ]
  },
  {
   "cell_type": "code",
   "execution_count": 8,
   "id": "4cc0a071",
   "metadata": {},
   "outputs": [],
   "source": [
    "df_2['sentence']=df_2.apply(lambda x:'\"'+x['Item Short Text']+'\" was bought from \"'+x['Vendor Name 1']+'\" for a price of '+str(x['Process Unit Price']),axis=1)"
   ]
  },
  {
   "cell_type": "code",
   "execution_count": 9,
   "id": "27ddd85a",
   "metadata": {},
   "outputs": [
    {
     "data": {
      "application/vnd.jupyter.widget-view+json": {
       "model_id": "c95eab01ce7042808cafc189a179c281"
      },
      "text/plain": [
       "                        Vendor Name 1             Item Short Text  \\\n",
       "0  HONGKONG IPURE BIOLOGY CO.,LIMITED                     Red Dye   \n",
       "1       JH CHEMICAL (HK) CO., LIMITED                    Red Lead   \n",
       "2                       MAGNESIA GMBH          Magnesium Stearate   \n",
       "3                 Q-PAC GROUP PTE LTD       Silica Gel 5gm A/B PE   \n",
       "4          TACT CHEMIE S.E.A. PTE LTD  GP Thinner (18 litres/tin)   \n",
       "\n",
       "   Process Unit Price     Main     Prime LOB  \\\n",
       "0            50.74875  NON ICT  REST OF LOBS   \n",
       "1            48.52244  NON ICT  REST OF LOBS   \n",
       "2            32.42630  NON ICT  REST OF LOBS   \n",
       "3            60.00000  NON ICT  REST OF LOBS   \n",
       "4            68.00000  NON ICT  REST OF LOBS   \n",
       "\n",
       "                                            sentence  \n",
       "0  \"Red Dye\" was bought from \"HONGKONG IPURE BIOL...  \n",
       "1  \"Red Lead\" was bought from \"JH CHEMICAL (HK) C...  \n",
       "2  \"Magnesium Stearate\" was bought from \"MAGNESIA...  \n",
       "3  \"Silica Gel 5gm A/B PE\" was bought from \"Q-PAC...  \n",
       "4  \"GP Thinner (18 litres/tin)\" was bought from \"...  "
      ]
     },
     "metadata": {},
     "output_type": "display_data"
    }
   ],
   "source": [
    "df_2.head()"
   ]
  },
  {
   "cell_type": "code",
   "execution_count": 10,
   "id": "e66ec568",
   "metadata": {},
   "outputs": [],
   "source": [
    "# embeddings = model.encode(df_2['sentence'])\n",
    "# with open('embeddings.pickle', 'wb') as handle:\n",
    "#     pickle.dump(embeddings, handle, protocol=pickle.HIGHEST_PROTOCOL)\n",
    "with open('embeddings.pickle', 'rb') as handle:\n",
    "    embeddings = pickle.load(handle)"
   ]
  },
  {
   "cell_type": "code",
   "execution_count": 14,
   "id": "4ae6373d",
   "metadata": {},
   "outputs": [
    {
     "data": {
      "text/plain": [
       "(607178, 384)"
      ]
     },
     "execution_count": 14,
     "metadata": {},
     "output_type": "execute_result"
    }
   ],
   "source": [
    "embeddings.shape"
   ]
  },
  {
   "cell_type": "code",
   "execution_count": 13,
   "id": "b50d634b",
   "metadata": {},
   "outputs": [],
   "source": [
    "# # from sklearn.decomposition import PCA\n",
    "# pca = PCA(n_components=50)\n",
    "# X_pca = pca.fit_transform(embeddings)\n",
    "# X_pca.shape"
   ]
  },
  {
   "cell_type": "code",
   "execution_count": 15,
   "id": "4effef1c",
   "metadata": {},
   "outputs": [],
   "source": [
    "# result = TSNE().fit_transform(X_pca)\n",
    "# with open('result.pickle', 'wb') as handle:\n",
    "#     pickle.dump(result, handle, protocol=pickle.HIGHEST_PROTOCOL)\n",
    "with open('result.pickle', 'rb') as handle:\n",
    "    result = pickle.load(handle)"
   ]
  },
  {
   "cell_type": "code",
   "execution_count": 16,
   "id": "8c677275",
   "metadata": {},
   "outputs": [
    {
     "data": {
      "text/plain": [
       "(607178, 2)"
      ]
     },
     "execution_count": 16,
     "metadata": {},
     "output_type": "execute_result"
    }
   ],
   "source": [
    "result.shape"
   ]
  },
  {
   "cell_type": "code",
   "execution_count": 17,
   "id": "50ce8082",
   "metadata": {},
   "outputs": [],
   "source": [
    "result_df = pd.DataFrame(result, columns = ['x','y'])\n",
    "result_df['Main']=df_2['Main']"
   ]
  },
  {
   "cell_type": "code",
   "execution_count": 18,
   "id": "1d784688",
   "metadata": {},
   "outputs": [],
   "source": [
    "# plt.scatter(result[:, 0], result[:, 1])\n",
    "fig = px.scatter(x=result_df['x'], y=result_df['y'], color=result_df['Main'], opacity=0.8)\n",
    "# fig.show()\n",
    "fig.write_html(\"result.html\")"
   ]
  },
  {
   "cell_type": "markdown",
   "id": "5e6956e6",
   "metadata": {},
   "source": [
    "# Classification"
   ]
  },
  {
   "cell_type": "code",
   "execution_count": 25,
   "id": "9898695a",
   "metadata": {},
   "outputs": [],
   "source": [
    "from sklearn.model_selection import train_test_split"
   ]
  },
  {
   "cell_type": "code",
   "execution_count": 23,
   "id": "50133199",
   "metadata": {},
   "outputs": [
    {
     "data": {
      "text/plain": [
       "(607178, 384)"
      ]
     },
     "execution_count": 23,
     "metadata": {},
     "output_type": "execute_result"
    }
   ],
   "source": [
    "embeddings.shape"
   ]
  },
  {
   "cell_type": "code",
   "execution_count": 21,
   "id": "cad3fb72",
   "metadata": {},
   "outputs": [
    {
     "data": {
      "application/vnd.jupyter.widget-view+json": {
       "model_id": "07c308ce92ec4611b964ace459a026ff"
      },
      "text/plain": [
       "                        Vendor Name 1             Item Short Text  \\\n",
       "0  HONGKONG IPURE BIOLOGY CO.,LIMITED                     Red Dye   \n",
       "1       JH CHEMICAL (HK) CO., LIMITED                    Red Lead   \n",
       "2                       MAGNESIA GMBH          Magnesium Stearate   \n",
       "3                 Q-PAC GROUP PTE LTD       Silica Gel 5gm A/B PE   \n",
       "4          TACT CHEMIE S.E.A. PTE LTD  GP Thinner (18 litres/tin)   \n",
       "\n",
       "   Process Unit Price     Main     Prime LOB  \\\n",
       "0            50.74875  NON ICT  REST OF LOBS   \n",
       "1            48.52244  NON ICT  REST OF LOBS   \n",
       "2            32.42630  NON ICT  REST OF LOBS   \n",
       "3            60.00000  NON ICT  REST OF LOBS   \n",
       "4            68.00000  NON ICT  REST OF LOBS   \n",
       "\n",
       "                                            sentence  \n",
       "0  \"Red Dye\" was bought from \"HONGKONG IPURE BIOL...  \n",
       "1  \"Red Lead\" was bought from \"JH CHEMICAL (HK) C...  \n",
       "2  \"Magnesium Stearate\" was bought from \"MAGNESIA...  \n",
       "3  \"Silica Gel 5gm A/B PE\" was bought from \"Q-PAC...  \n",
       "4  \"GP Thinner (18 litres/tin)\" was bought from \"...  "
      ]
     },
     "metadata": {},
     "output_type": "display_data"
    }
   ],
   "source": [
    "df_2.head()"
   ]
  },
  {
   "cell_type": "code",
   "execution_count": 29,
   "id": "b088a75b",
   "metadata": {},
   "outputs": [],
   "source": [
    "X_train, X_test,y_train,y_test = train_test_split(embeddings,df_2['Main'],test_size=0.33, random_state=42)"
   ]
  },
  {
   "cell_type": "code",
   "execution_count": 32,
   "id": "8c6beccf",
   "metadata": {},
   "outputs": [
    {
     "data": {
      "text/plain": [
       "((406809, 384), (200369, 384), (406809,), (200369,))"
      ]
     },
     "execution_count": 32,
     "metadata": {},
     "output_type": "execute_result"
    }
   ],
   "source": [
    "X_train.shape,X_test.shape,y_train.shape,y_test.shape"
   ]
  },
  {
   "cell_type": "code",
   "execution_count": 33,
   "id": "e00236da",
   "metadata": {},
   "outputs": [],
   "source": [
    "from sklearn.ensemble import RandomForestClassifier\n",
    "from sklearn import metrics\n",
    "import matplotlib.pyplot as plt\n",
    "from sklearn.metrics import confusion_matrix, ConfusionMatrixDisplay"
   ]
  },
  {
   "cell_type": "code",
   "execution_count": 38,
   "id": "1b545ef5",
   "metadata": {},
   "outputs": [
    {
     "data": {
      "text/plain": [
       "(NON ICT    384984\n",
       " ICT         21825\n",
       " Name: Main, dtype: int64,\n",
       " NON ICT    189324\n",
       " ICT         11045\n",
       " Name: Main, dtype: int64)"
      ]
     },
     "execution_count": 38,
     "metadata": {},
     "output_type": "execute_result"
    }
   ],
   "source": [
    "y_train.value_counts(),y_test.value_counts()"
   ]
  },
  {
   "cell_type": "code",
   "execution_count": 39,
   "id": "e9aaca12",
   "metadata": {},
   "outputs": [
    {
     "data": {
      "text/html": [
       "<style>#sk-container-id-1 {color: black;}#sk-container-id-1 pre{padding: 0;}#sk-container-id-1 div.sk-toggleable {background-color: white;}#sk-container-id-1 label.sk-toggleable__label {cursor: pointer;display: block;width: 100%;margin-bottom: 0;padding: 0.3em;box-sizing: border-box;text-align: center;}#sk-container-id-1 label.sk-toggleable__label-arrow:before {content: \"▸\";float: left;margin-right: 0.25em;color: #696969;}#sk-container-id-1 label.sk-toggleable__label-arrow:hover:before {color: black;}#sk-container-id-1 div.sk-estimator:hover label.sk-toggleable__label-arrow:before {color: black;}#sk-container-id-1 div.sk-toggleable__content {max-height: 0;max-width: 0;overflow: hidden;text-align: left;background-color: #f0f8ff;}#sk-container-id-1 div.sk-toggleable__content pre {margin: 0.2em;color: black;border-radius: 0.25em;background-color: #f0f8ff;}#sk-container-id-1 input.sk-toggleable__control:checked~div.sk-toggleable__content {max-height: 200px;max-width: 100%;overflow: auto;}#sk-container-id-1 input.sk-toggleable__control:checked~label.sk-toggleable__label-arrow:before {content: \"▾\";}#sk-container-id-1 div.sk-estimator input.sk-toggleable__control:checked~label.sk-toggleable__label {background-color: #d4ebff;}#sk-container-id-1 div.sk-label input.sk-toggleable__control:checked~label.sk-toggleable__label {background-color: #d4ebff;}#sk-container-id-1 input.sk-hidden--visually {border: 0;clip: rect(1px 1px 1px 1px);clip: rect(1px, 1px, 1px, 1px);height: 1px;margin: -1px;overflow: hidden;padding: 0;position: absolute;width: 1px;}#sk-container-id-1 div.sk-estimator {font-family: monospace;background-color: #f0f8ff;border: 1px dotted black;border-radius: 0.25em;box-sizing: border-box;margin-bottom: 0.5em;}#sk-container-id-1 div.sk-estimator:hover {background-color: #d4ebff;}#sk-container-id-1 div.sk-parallel-item::after {content: \"\";width: 100%;border-bottom: 1px solid gray;flex-grow: 1;}#sk-container-id-1 div.sk-label:hover label.sk-toggleable__label {background-color: #d4ebff;}#sk-container-id-1 div.sk-serial::before {content: \"\";position: absolute;border-left: 1px solid gray;box-sizing: border-box;top: 0;bottom: 0;left: 50%;z-index: 0;}#sk-container-id-1 div.sk-serial {display: flex;flex-direction: column;align-items: center;background-color: white;padding-right: 0.2em;padding-left: 0.2em;position: relative;}#sk-container-id-1 div.sk-item {position: relative;z-index: 1;}#sk-container-id-1 div.sk-parallel {display: flex;align-items: stretch;justify-content: center;background-color: white;position: relative;}#sk-container-id-1 div.sk-item::before, #sk-container-id-1 div.sk-parallel-item::before {content: \"\";position: absolute;border-left: 1px solid gray;box-sizing: border-box;top: 0;bottom: 0;left: 50%;z-index: -1;}#sk-container-id-1 div.sk-parallel-item {display: flex;flex-direction: column;z-index: 1;position: relative;background-color: white;}#sk-container-id-1 div.sk-parallel-item:first-child::after {align-self: flex-end;width: 50%;}#sk-container-id-1 div.sk-parallel-item:last-child::after {align-self: flex-start;width: 50%;}#sk-container-id-1 div.sk-parallel-item:only-child::after {width: 0;}#sk-container-id-1 div.sk-dashed-wrapped {border: 1px dashed gray;margin: 0 0.4em 0.5em 0.4em;box-sizing: border-box;padding-bottom: 0.4em;background-color: white;}#sk-container-id-1 div.sk-label label {font-family: monospace;font-weight: bold;display: inline-block;line-height: 1.2em;}#sk-container-id-1 div.sk-label-container {text-align: center;}#sk-container-id-1 div.sk-container {/* jupyter's `normalize.less` sets `[hidden] { display: none; }` but bootstrap.min.css set `[hidden] { display: none !important; }` so we also need the `!important` here to be able to override the default hidden behavior on the sphinx rendered scikit-learn.org. See: https://github.com/scikit-learn/scikit-learn/issues/21755 */display: inline-block !important;position: relative;}#sk-container-id-1 div.sk-text-repr-fallback {display: none;}</style><div id=\"sk-container-id-1\" class=\"sk-top-container\"><div class=\"sk-text-repr-fallback\"><pre>RandomForestClassifier()</pre><b>In a Jupyter environment, please rerun this cell to show the HTML representation or trust the notebook. <br />On GitHub, the HTML representation is unable to render, please try loading this page with nbviewer.org.</b></div><div class=\"sk-container\" hidden><div class=\"sk-item\"><div class=\"sk-estimator sk-toggleable\"><input class=\"sk-toggleable__control sk-hidden--visually\" id=\"sk-estimator-id-1\" type=\"checkbox\" checked><label for=\"sk-estimator-id-1\" class=\"sk-toggleable__label sk-toggleable__label-arrow\">RandomForestClassifier</label><div class=\"sk-toggleable__content\"><pre>RandomForestClassifier()</pre></div></div></div></div></div>"
      ],
      "text/plain": [
       "RandomForestClassifier()"
      ]
     },
     "execution_count": 39,
     "metadata": {},
     "output_type": "execute_result"
    }
   ],
   "source": [
    "model=RandomForestClassifier(n_estimators=100)\n",
    "model.fit(X_train,y_train)"
   ]
  },
  {
   "cell_type": "code",
   "execution_count": 40,
   "id": "bf236c61",
   "metadata": {},
   "outputs": [],
   "source": [
    "y_pred=model.predict(X_test)"
   ]
  },
  {
   "cell_type": "code",
   "execution_count": 44,
   "id": "e3446f0d",
   "metadata": {},
   "outputs": [],
   "source": [
    "from sklearn import metrics"
   ]
  },
  {
   "cell_type": "code",
   "execution_count": 45,
   "id": "7b68ea2b",
   "metadata": {},
   "outputs": [
    {
     "data": {
      "text/plain": [
       "0.9823076423997724"
      ]
     },
     "execution_count": 45,
     "metadata": {},
     "output_type": "execute_result"
    }
   ],
   "source": [
    "metrics.accuracy_score(y_test, y_pred)"
   ]
  },
  {
   "cell_type": "code",
   "execution_count": 47,
   "id": "fe4d5f2a",
   "metadata": {},
   "outputs": [
    {
     "data": {
      "text/plain": [
       "0.9000914739114784"
      ]
     },
     "execution_count": 47,
     "metadata": {},
     "output_type": "execute_result"
    }
   ],
   "source": [
    "metrics.f1_score(y_test,y_pred,average='macro')"
   ]
  },
  {
   "cell_type": "code",
   "execution_count": 48,
   "id": "04091214",
   "metadata": {},
   "outputs": [
    {
     "data": {
      "text/plain": [
       "array([[-0.0774722 , -0.01603771,  0.01099822, ..., -0.13258313,\n",
       "        -0.101745  ,  0.03495754],\n",
       "       [-0.09138422,  0.11162391,  0.00294701, ..., -0.165875  ,\n",
       "        -0.00559152,  0.07580931],\n",
       "       [-0.07254615,  0.03456019, -0.05872216, ..., -0.08735807,\n",
       "        -0.1001168 ,  0.0315308 ],\n",
       "       ...,\n",
       "       [-0.01092109, -0.06297019, -0.01446409, ..., -0.13347471,\n",
       "        -0.10098429,  0.07682315],\n",
       "       [-0.12767811, -0.01132574,  0.06046413, ..., -0.13006252,\n",
       "         0.04364389,  0.03651832],\n",
       "       [-0.11053848,  0.01227363, -0.06568097, ..., -0.10385811,\n",
       "        -0.00334514,  0.02962996]], dtype=float32)"
      ]
     },
     "execution_count": 48,
     "metadata": {},
     "output_type": "execute_result"
    }
   ],
   "source": [
    "X_train"
   ]
  },
  {
   "cell_type": "code",
   "execution_count": 56,
   "id": "503ed364",
   "metadata": {},
   "outputs": [
    {
     "data": {
      "text/plain": [
       "22311     NON ICT\n",
       "421742    NON ICT\n",
       "221919    NON ICT\n",
       "496543    NON ICT\n",
       "367383    NON ICT\n",
       "           ...   \n",
       "110268    NON ICT\n",
       "259178    NON ICT\n",
       "365838    NON ICT\n",
       "131932    NON ICT\n",
       "121958    NON ICT\n",
       "Name: Main, Length: 406809, dtype: object"
      ]
     },
     "execution_count": 56,
     "metadata": {},
     "output_type": "execute_result"
    }
   ],
   "source": [
    "y_train"
   ]
  },
  {
   "cell_type": "code",
   "execution_count": null,
   "id": "28da84d0",
   "metadata": {},
   "outputs": [],
   "source": []
  }
 ],
 "metadata": {
  "kernelspec": {
   "display_name": "Python 3 (ipykernel)",
   "language": "python",
   "name": "python3"
  },
  "language_info": {
   "codemirror_mode": {
    "name": "ipython",
    "version": 3
   },
   "file_extension": ".py",
   "mimetype": "text/x-python",
   "name": "python",
   "nbconvert_exporter": "python",
   "pygments_lexer": "ipython3",
   "version": "3.8.13"
  }
 },
 "nbformat": 4,
 "nbformat_minor": 5
}
