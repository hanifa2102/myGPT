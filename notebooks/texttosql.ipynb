{
 "cells": [
  {
   "cell_type": "markdown",
   "id": "d3d138f4",
   "metadata": {},
   "source": [
    "# Loading"
   ]
  },
  {
   "cell_type": "code",
   "execution_count": 1,
   "id": "7b0f94d1",
   "metadata": {},
   "outputs": [
    {
     "data": {
      "text/html": [
       "<style>.container { width:100% !important; }</style>"
      ],
      "text/plain": [
       "<IPython.core.display.HTML object>"
      ]
     },
     "metadata": {},
     "output_type": "display_data"
    }
   ],
   "source": [
    "%load_ext autoreload\n",
    "%autoreload 2\n",
    "from IPython.display import display, HTML\n",
    "display(HTML(\"<style>.container { width:100% !important; }</style>\"))"
   ]
  },
  {
   "cell_type": "code",
   "execution_count": 184,
   "id": "429c68ba",
   "metadata": {},
   "outputs": [],
   "source": [
    "import os\n",
    "import openai\n",
    "import pandas as pd\n",
    "import bamboolib as bam\n",
    "import json\n",
    "import sqlalchemy\n",
    "from sqlalchemy import create_engine\n",
    "from llm_api import LLM_API"
   ]
  },
  {
   "cell_type": "code",
   "execution_count": 3,
   "id": "7f2dd34e",
   "metadata": {},
   "outputs": [],
   "source": [
    "from apikey import apikey\n",
    "os.environ['OPENAI_API_KEY']=apikey\n",
    "openai.api_key  = os.getenv('OPENAI_API_KEY')"
   ]
  },
  {
   "cell_type": "markdown",
   "id": "001d149d",
   "metadata": {},
   "source": [
    "# Example\n",
    " - https://innerjoin.bit.io/make-chatgpt-stop-chatting-and-start-writing-sql-fd5560049ae4\n"
   ]
  },
  {
   "cell_type": "code",
   "execution_count": 56,
   "id": "e42a479f",
   "metadata": {},
   "outputs": [
    {
     "name": "stdout",
     "output_type": "stream",
     "text": [
      "you are a text-to-SQL translator. You write sqlite code based on plain-language prompts.Do not have line breaks in the output.\n",
      "\n",
      " - Language sqlite\n",
      " - Table = \"penguins\", columns = [species text, island text, bill_length_mm double precision, bill_depth_mm double precision, flipper_length_mm bigint, body_mass_g bigint, sex text, year bigint]\n",
      "You are a SQL code translator. Your role is to translate natural language to sqlite. Your only output should be SQL code. Do not include any other text. Only SQL code.\n",
      "Translate \"How many penguins are there in each island and only display islands with more than 10 penguins ?\" to a syntactically-correct sqlite query. \n",
      "\n"
     ]
    }
   ],
   "source": [
    "\n",
    "system_prompt = \"you are a text-to-SQL translator. You write sqlite code based on plain-language prompts.Do not have line breaks in the output.\"\n",
    "user_prompt = \"\"\"\n",
    " - Language sqlite\n",
    " - Table = \"penguins\", columns = [species text, island text, bill_length_mm double precision, bill_depth_mm double precision, flipper_length_mm bigint, body_mass_g bigint, sex text, year bigint]\n",
    "You are a SQL code translator. Your role is to translate natural language to sqlite. Your only output should be SQL code. Do not include any other text. Only SQL code.\n",
    "Translate \"How many penguins are there in each island and only display islands with more than 10 penguins ?\" to a syntactically-correct sqlite query. \n",
    "\"\"\"\n",
    "\n",
    "# list of dicts specifying roles and content\n",
    "query = [{\"role\":\"system\", \"content\": system_prompt},\n",
    "         {\"role\":\"user\", \"content\": user_prompt}]\n",
    "\n",
    "print(f'{system_prompt}')\n",
    "print(f'{user_prompt}')"
   ]
  },
  {
   "cell_type": "code",
   "execution_count": 57,
   "id": "8a4eebaa",
   "metadata": {},
   "outputs": [
    {
     "name": "stdout",
     "output_type": "stream",
     "text": [
      "{\n",
      "  \"content\": \"SELECT island, COUNT(*) AS num_penguins\\nFROM penguins\\nGROUP BY island\\nHAVING num_penguins > 10;\",\n",
      "  \"role\": \"assistant\"\n",
      "}\n"
     ]
    }
   ],
   "source": [
    "completion = openai.ChatCompletion.create(\n",
    "    model=\"gpt-3.5-turbo\",\n",
    "    messages=query,\n",
    ")\n",
    "print(completion.choices[0].message)"
   ]
  },
  {
   "cell_type": "code",
   "execution_count": 65,
   "id": "6bab02f7",
   "metadata": {},
   "outputs": [
    {
     "data": {
      "text/plain": [
       "<OpenAIObject chat.completion id=chatcmpl-7HlmbzqSIruO108UVNJF94dTBKMOy at 0x18549870900> JSON: {\n",
       "  \"choices\": [\n",
       "    {\n",
       "      \"finish_reason\": \"stop\",\n",
       "      \"index\": 0,\n",
       "      \"message\": {\n",
       "        \"content\": \"SELECT island, COUNT(*) AS num_penguins\\nFROM penguins\\nGROUP BY island\\nHAVING num_penguins > 10;\",\n",
       "        \"role\": \"assistant\"\n",
       "      }\n",
       "    }\n",
       "  ],\n",
       "  \"created\": 1684469609,\n",
       "  \"id\": \"chatcmpl-7HlmbzqSIruO108UVNJF94dTBKMOy\",\n",
       "  \"model\": \"gpt-3.5-turbo-0301\",\n",
       "  \"object\": \"chat.completion\",\n",
       "  \"usage\": {\n",
       "    \"completion_tokens\": 27,\n",
       "    \"prompt_tokens\": 161,\n",
       "    \"total_tokens\": 188\n",
       "  }\n",
       "}"
      ]
     },
     "execution_count": 65,
     "metadata": {},
     "output_type": "execute_result"
    }
   ],
   "source": [
    "completion"
   ]
  },
  {
   "cell_type": "code",
   "execution_count": 6,
   "id": "83762916",
   "metadata": {},
   "outputs": [
    {
     "data": {
      "text/plain": [
       "'SELECT island, COUNT(*) AS num_of_penguins \\nFROM penguins \\nGROUP BY island \\nHAVING num_of_penguins > 10;'"
      ]
     },
     "execution_count": 6,
     "metadata": {},
     "output_type": "execute_result"
    }
   ],
   "source": [
    "completion.choices[0].message['content']"
   ]
  },
  {
   "cell_type": "code",
   "execution_count": 29,
   "id": "60a20e9b",
   "metadata": {},
   "outputs": [
    {
     "data": {
      "text/plain": [
       "'SELsECT island, sOUNT(*) a num_penguins \\nFROM penguins \\nGROUP BY island \\nHAVING num_penguins > 10;'"
      ]
     },
     "execution_count": 29,
     "metadata": {},
     "output_type": "execute_result"
    }
   ],
   "source": [
    "tt='SELsECT island, sOUNT(*) a num_penguins \\nFROM penguins \\nGROUP BY island \\nHAVING num_penguins > 10;'\n",
    "tt"
   ]
  },
  {
   "cell_type": "code",
   "execution_count": 30,
   "id": "66e5ace9",
   "metadata": {},
   "outputs": [
    {
     "name": "stdout",
     "output_type": "stream",
     "text": [
      "SQL syntax is valid.\n"
     ]
    }
   ],
   "source": [
    "check_sql_syntax(completion.choices[0].message.content)"
   ]
  },
  {
   "cell_type": "code",
   "execution_count": 9,
   "id": "e9007094",
   "metadata": {},
   "outputs": [
    {
     "name": "stdout",
     "output_type": "stream",
     "text": [
      "\n",
      " - Language PostgreSQL\n",
      " - Table = \"penguins\", columns = [species text, island text, bill_length_mm double precision, bill_depth_mm double precision, flipper_length_mm bigint, body_mass_g bigint, sex text, year bigint]\n",
      "You are a SQL code translator. Your role is to translate natural language to PostgreSQL. Your only output should be SQL code. Do not include any other text. Only SQL code.\n",
      "Translate \"How many penguins are there in each island?\" to a syntactically-correct PostgreSQL query.\n",
      "\n"
     ]
    }
   ],
   "source": [
    "print(user_prompt)"
   ]
  },
  {
   "cell_type": "code",
   "execution_count": 22,
   "id": "07eaa4d1",
   "metadata": {},
   "outputs": [
    {
     "name": "stdout",
     "output_type": "stream",
     "text": [
      "SQL syntax is valid.\n"
     ]
    }
   ],
   "source": [
    "import sqlparse\n",
    "\n",
    "def check_sql_syntax(sql_string):\n",
    "    try:\n",
    "        parsed = sqlparse.parse(sql_string)\n",
    "        print(\"SQL syntax is valid.\")\n",
    "    except sqlparse.exceptions.SQLParseError as e:\n",
    "        print(\"Invalid SQL syntax:\", str(e))\n",
    "\n",
    "# Example usage\n",
    "sql_string = \"SELECT * FROM my_table WHERE column = 'value'\"\n",
    "check_sql_syntax(sql_string)"
   ]
  },
  {
   "cell_type": "code",
   "execution_count": 35,
   "id": "d88eed6d",
   "metadata": {},
   "outputs": [
    {
     "name": "stdout",
     "output_type": "stream",
     "text": [
      "SELECT island,\n",
      "       COUNT(*) AS num_penguins\n",
      "FROM penguins\n",
      "GROUP BY island\n",
      "HAVING num_penguins > 10;\n"
     ]
    }
   ],
   "source": [
    "print(sqlparse.format(completion.choices[0].message.content, reindent=True, keyword_case='upper'))"
   ]
  },
  {
   "cell_type": "markdown",
   "id": "5f726603",
   "metadata": {},
   "source": [
    "# Example \n",
    "- https://dev.classmethod.jp/articles/convert-a-natural-language-query-into-an-sql-query-using-openai-api/"
   ]
  },
  {
   "cell_type": "code",
   "execution_count": 79,
   "id": "5b0d4918",
   "metadata": {},
   "outputs": [],
   "source": [
    "df = pd.read_csv(\"data/fruits_raw.csv\")"
   ]
  },
  {
   "cell_type": "code",
   "execution_count": 155,
   "id": "4a8549d5",
   "metadata": {},
   "outputs": [
    {
     "data": {
      "application/vnd.jupyter.widget-view+json": {
       "model_id": "78ad1e78e8404e348b533ea2c370f682"
      },
      "text/plain": [
       "           Fruit        Shape   Taste      Season  Calories   Fat  \\\n",
       "0          Apple        Round   Sweet        Fall        95   0.3   \n",
       "1         Banana         Long   Sweet      Summer       105   0.4   \n",
       "2         Orange        Round   Sweet      Winter        62   0.1   \n",
       "3          Peach        Round   Sweet      Summer        62   0.1   \n",
       "4     Strawberry        Round   Sweet      Summer        46   0.3   \n",
       "5        Apricot        Round   Sweet      Summer        48   0.1   \n",
       "6        Avocado         Oval  Creamy  Year-round       160  15.0   \n",
       "7         Banana         Long   Sweet      Summer       105   0.4   \n",
       "8     Blackberry        Round   Sweet      Summer        43   0.3   \n",
       "9      Blueberry        Round   Sweet      Summer        57   0.4   \n",
       "10    Cantaloupe        Round   Sweet      Summer       104   0.2   \n",
       "11        Cherry        Round   Sweet      Summer        77   0.2   \n",
       "12    Clementine        Round   Sweet      Winter        52   0.1   \n",
       "13          Date       Oblong   Sweet        Fall        67   0.2   \n",
       "14   Dragonfruit        Round   Sweet      Summer        62   0.2   \n",
       "15        Durian         Oval  Strong  Year-round       147   9.0   \n",
       "16           Fig        Round   Sweet      Summer        58   0.3   \n",
       "17    Grapefruit        Round    Sour      Winter        62   0.1   \n",
       "18         Grape        Round   Sweet      Summer        62   0.1   \n",
       "19         Guava         Oval   Sweet      Summer        68   0.4   \n",
       "20      Honeydew        Round   Sweet      Summer       104   0.2   \n",
       "21     Jackfruit         Oval   Sweet      Summer       195   1.1   \n",
       "22     Kiwifruit       Oblong   Sweet      Summer        61   0.1   \n",
       "23         Lemon        Round    Sour  Year-round        29   0.1   \n",
       "24          Lime        Round    Sour  Year-round        28   0.1   \n",
       "25         Mango         Oval   Sweet      Summer       107   0.5   \n",
       "26         Melon        Round   Sweet      Summer       104   0.2   \n",
       "27     Nectarine        Round   Sweet      Summer        68   0.1   \n",
       "28        Orange        Round   Sweet      Winter        62   0.1   \n",
       "29        Papaya         Oval   Sweet      Summer       120   0.5   \n",
       "30  Passionfruit        Round   Sweet      Summer        97   0.3   \n",
       "31         Peach        Round   Sweet      Summer        62   0.1   \n",
       "32     Pineapple         Oval   Sweet      Summer        85   0.1   \n",
       "33   Pomegranate        Round   Sweet        Fall       144   4.8   \n",
       "34     Raspberry        Round   Sweet      Summer        62   0.3   \n",
       "35       Rhubarb        Stalk    Sour      Spring        17   0.1   \n",
       "36        Sapote         Oval   Sweet      Winter       123   0.4   \n",
       "37     Starfruit  Star-shaped   Sweet      Summer        62   0.2   \n",
       "38    Strawberry        Round   Sweet      Summer        46   0.3   \n",
       "39      Tamarind         Oval    Sour      Summer       107   1.1   \n",
       "40    Watermelon        Round   Sweet      Summer       126   0.6   \n",
       "41          Yuzu        Round    Sour      Winter        47   0.1   \n",
       "\n",
       "    Carbohydrates  Sugar  Protein  Fiber  \n",
       "0              25     19      0.5    4.0  \n",
       "1              27     19      1.1    3.0  \n",
       "2              15     12      1.3    4.0  \n",
       "3              15     12      1.3    4.0  \n",
       "4              12      8      1.5    2.0  \n",
       "5              11      8      1.0    2.0  \n",
       "6              15     10      4.0    7.0  \n",
       "7              27     19      1.1    3.0  \n",
       "8              12      8      1.4    3.0  \n",
       "9              14     10      1.1    2.0  \n",
       "10             27     19      1.1    1.0  \n",
       "11             18     15      1.0    2.0  \n",
       "12             12      8      1.0    2.0  \n",
       "13             20     15      2.3    3.0  \n",
       "14             17     12      1.0    3.0  \n",
       "15             25     14      4.5    7.0  \n",
       "16             19     14      2.2    3.0  \n",
       "17             15     12      1.3    4.0  \n",
       "18             15     12      1.3    4.0  \n",
       "19             22     16      1.5    3.0  \n",
       "20             27     19      1.1    1.0  \n",
       "21             34     24      2.5    5.0  \n",
       "22             15     12      1.1    2.0  \n",
       "23             12      8      0.7    1.0  \n",
       "24             11      8      0.6    1.0  \n",
       "25             24     19      1.4    3.0  \n",
       "26             27     19      1.1    1.0  \n",
       "27             16     12      1.1    2.0  \n",
       "28             15     12      1.3    4.0  \n",
       "29             28     22      1.1    2.0  \n",
       "30             23     16      1.2    3.0  \n",
       "31             15     12      1.3    4.0  \n",
       "32             21     15      1.0    1.5  \n",
       "33             35     29      3.5    6.0  \n",
       "34             15     12      1.5    2.0  \n",
       "35              4      3      0.9    1.0  \n",
       "36             28     22      1.2    3.0  \n",
       "37             17     12      1.0    3.0  \n",
       "38             12      8      1.5    2.0  \n",
       "39             24     19      1.4    3.0  \n",
       "40             25     20      1.5    4.0  \n",
       "41             11      8      0.7    1.0  "
      ]
     },
     "metadata": {},
     "output_type": "display_data"
    }
   ],
   "source": [
    "df"
   ]
  },
  {
   "cell_type": "code",
   "execution_count": 80,
   "id": "ad084a9d",
   "metadata": {},
   "outputs": [],
   "source": [
    "temp_db = sqlalchemy.create_engine('sqlite:///:memory:')"
   ]
  },
  {
   "cell_type": "code",
   "execution_count": 170,
   "id": "70cc5581",
   "metadata": {},
   "outputs": [],
   "source": [
    "def pushDb(df,tbl=\"FRUITS\"):\n",
    "    '''TODO : Purge all existing tables before pushing'''\n",
    "    df.to_sql(name=tbl, con=temp_db, if_exists='replace')    "
   ]
  },
  {
   "cell_type": "code",
   "execution_count": 83,
   "id": "f59474af",
   "metadata": {},
   "outputs": [],
   "source": [
    "def execDB(sqlString):\n",
    "    with temp_db.connect() as conn:\n",
    "        result = conn.execute(sqlalchemy.text(sqlString))\n",
    "    return pd.DataFrame(result.all()) "
   ]
  },
  {
   "cell_type": "code",
   "execution_count": 124,
   "id": "99a8ada7",
   "metadata": {},
   "outputs": [],
   "source": []
  },
  {
   "cell_type": "code",
   "execution_count": 138,
   "id": "6187221a",
   "metadata": {},
   "outputs": [],
   "source": [
    "def getColsDB():\n",
    "    ''' Get Col names from table (assume single table)'''\n",
    "    retString=None\n",
    "    inspector = sqlalchemy.inspect(temp_db)\n",
    "    table_names = inspector.get_table_names()\n",
    "    table_name=table_names[0]\n",
    "    retString=f\"Table = {table_name}, \"\n",
    "    columns = inspector.get_columns(table_name)\n",
    "    retString+=f\"Columns = [\"\n",
    "    for col in columns:\n",
    "        retString+=f\"{col['name']} {col['type']}, \"\n",
    "    retString+=\"]\"\n",
    "    return retString"
   ]
  },
  {
   "cell_type": "code",
   "execution_count": 144,
   "id": "f69591aa",
   "metadata": {},
   "outputs": [],
   "source": [
    "def nlp_query():\n",
    "    nlp_text= input(\"Enter the query: \")\n",
    "    return nlp_text"
   ]
  },
  {
   "cell_type": "code",
   "execution_count": 185,
   "id": "4422d233",
   "metadata": {},
   "outputs": [],
   "source": [
    "def get_sql(nlp_query='Can you list the number of fruits per shape ?'):\n",
    "    system_prompt = \"you are a text-to-SQL translator. You write sqlite code based on plain-language prompts.Do not have line breaks in the output.\"\n",
    "    prompt=f\"\"\"\n",
    "     - Language = sqlite\n",
    "     - {getColsDB()}\n",
    "    You are a SQL code translator. Your role is to translate natural language text delimited by triple backticks to sqlite. Your only output should be SQL code. Do not include any other text. Only SQL code.\n",
    "    Translate ```{nlp_query}``` to a syntactically-correct sqlite query. \n",
    "    \"\"\"\n",
    "    print(prompt)\n",
    "    response=LLM_API.get_completion(prompt,system_prompt)\n",
    "    print(f'response:\\t{response}')\n",
    "    return response"
   ]
  },
  {
   "cell_type": "code",
   "execution_count": 186,
   "id": "0deaab9a",
   "metadata": {},
   "outputs": [
    {
     "name": "stdout",
     "output_type": "stream",
     "text": [
      "\n",
      "     - Language = sqlite\n",
      "     - Table = FRUITS, Columns = [index BIGINT, Fruit TEXT, Shape TEXT, Taste TEXT, Season TEXT, Calories BIGINT, Fat FLOAT, Carbohydrates BIGINT, Sugar BIGINT, Protein FLOAT, Fiber FLOAT, ]\n",
      "    You are a SQL code translator. Your role is to translate natural language text delimited by triple backticks to sqlite. Your only output should be SQL code. Do not include any other text. Only SQL code.\n",
      "    Translate ```Can you list the number of fruits per shape ?``` to a syntactically-correct sqlite query. \n",
      "    \n",
      "messages:\n",
      "[{'role': 'system', 'content': 'you are a text-to-SQL translator. You write sqlite code based on plain-language prompts.Do not have line breaks in the output.'}, {'role': 'user', 'content': '\\n     - Language = sqlite\\n     - Table = FRUITS, Columns = [index BIGINT, Fruit TEXT, Shape TEXT, Taste TEXT, Season TEXT, Calories BIGINT, Fat FLOAT, Carbohydrates BIGINT, Sugar BIGINT, Protein FLOAT, Fiber FLOAT, ]\\n    You are a SQL code translator. Your role is to translate natural language text delimited by triple backticks to sqlite. Your only output should be SQL code. Do not include any other text. Only SQL code.\\n    Translate ```Can you list the number of fruits per shape ?``` to a syntactically-correct sqlite query. \\n    '}]\n",
      "Response received from OpenAI\n",
      "response:\tSELECT Shape, COUNT(Fruit) AS Num_Fruits\n",
      "FROM FRUITS\n",
      "GROUP BY Shape;\n"
     ]
    }
   ],
   "source": [
    "tt=get_sql()"
   ]
  },
  {
   "cell_type": "code",
   "execution_count": 187,
   "id": "a544a8fa",
   "metadata": {},
   "outputs": [
    {
     "data": {
      "application/vnd.jupyter.widget-view+json": {
       "model_id": "4f33de2f3aa8499bbe70dd02732edd6b"
      },
      "text/plain": [
       "         Shape  Num_Fruits\n",
       "0         Long           2\n",
       "1       Oblong           2\n",
       "2         Oval           9\n",
       "3        Round          27\n",
       "4        Stalk           1\n",
       "5  Star-shaped           1"
      ]
     },
     "metadata": {},
     "output_type": "display_data"
    }
   ],
   "source": [
    "execDB(tt)"
   ]
  },
  {
   "cell_type": "code",
   "execution_count": null,
   "id": "d46d1ced",
   "metadata": {},
   "outputs": [],
   "source": []
  },
  {
   "cell_type": "code",
   "execution_count": null,
   "id": "b60832b7",
   "metadata": {},
   "outputs": [],
   "source": []
  },
  {
   "cell_type": "code",
   "execution_count": null,
   "id": "ec62088f",
   "metadata": {},
   "outputs": [],
   "source": []
  },
  {
   "cell_type": "code",
   "execution_count": null,
   "id": "8dd48a74",
   "metadata": {},
   "outputs": [],
   "source": []
  },
  {
   "cell_type": "code",
   "execution_count": null,
   "id": "06f3cdb2",
   "metadata": {},
   "outputs": [],
   "source": []
  },
  {
   "cell_type": "code",
   "execution_count": null,
   "id": "a71cdbd4",
   "metadata": {},
   "outputs": [],
   "source": []
  },
  {
   "cell_type": "code",
   "execution_count": null,
   "id": "c7349f71",
   "metadata": {},
   "outputs": [],
   "source": []
  },
  {
   "cell_type": "code",
   "execution_count": 164,
   "id": "7a6ea669",
   "metadata": {},
   "outputs": [
    {
     "data": {
      "application/vnd.jupyter.widget-view+json": {
       "model_id": "bf25f797c32048519ff2225eeac1ced4"
      },
      "text/plain": [
       "         Shape  Number_of_Fruits\n",
       "0         Long                 2\n",
       "1       Oblong                 2\n",
       "2         Oval                 9\n",
       "3        Round                27\n",
       "4        Stalk                 1\n",
       "5  Star-shaped                 1"
      ]
     },
     "metadata": {},
     "output_type": "display_data"
    }
   ],
   "source": [
    "execDB(completion.choices[0]['message']['content'])"
   ]
  },
  {
   "cell_type": "code",
   "execution_count": 168,
   "id": "7b93083b",
   "metadata": {},
   "outputs": [
    {
     "data": {
      "text/plain": [
       "182"
      ]
     },
     "execution_count": 168,
     "metadata": {},
     "output_type": "execute_result"
    }
   ],
   "source": [
    "completion['usage']['total_tokens']"
   ]
  },
  {
   "cell_type": "code",
   "execution_count": null,
   "id": "cc00cd89",
   "metadata": {},
   "outputs": [],
   "source": []
  },
  {
   "cell_type": "code",
   "execution_count": null,
   "id": "b1958d25",
   "metadata": {},
   "outputs": [],
   "source": []
  },
  {
   "cell_type": "code",
   "execution_count": null,
   "id": "ba2967e3",
   "metadata": {},
   "outputs": [],
   "source": []
  },
  {
   "cell_type": "code",
   "execution_count": 76,
   "id": "933d4dad",
   "metadata": {},
   "outputs": [],
   "source": [
    "# temp_db = sqlalchemy.create_engine('sqlite:///:memory:')\n",
    "# df.to_sql(name=\"FRUITS\", con=temp_db, if_exists='replace')\n",
    "# temp_db.dispose()\n",
    "# with temp_db.connect() as conn:\n",
    "# result = conn.execute(sqlalchemy.text())\n",
    "\n",
    "# results_output=result.all()\n",
    "# pd.DataFrame(results_output)\n",
    "# # Iterate over the table names\n",
    "# for table_name in table_names:\n",
    "#     # Get the column information for each table\n",
    "    \n",
    "    \n",
    "#     # Print the table name\n",
    "#     print(\"Table:\", table_name)\n",
    "    \n",
    "#     # Print the column names and types\n",
    "#     for column in columns:\n",
    "#         print(\"Column:\", column['name'])\n",
    "#         print(\"Type:\", column['type'])\n",
    "        \n",
    "#     print()"
   ]
  },
  {
   "cell_type": "code",
   "execution_count": 173,
   "id": "3211d0a2",
   "metadata": {},
   "outputs": [],
   "source": [
    "# system_prompt = \"you are a text-to-SQL translator. You write sqlite code based on plain-language prompts.Do not have line breaks in the output.\"\n",
    "# user_prompt=f\"\"\"\n",
    "#  - Language = sqlite\n",
    "#  - {getColsDB()}\n",
    "# You are a SQL code translator. Your role is to translate natural language text delimited by triple backticks to sqlite. Your only output should be SQL code. Do not include any other text. Only SQL code.\n",
    "# Translate ```{nlp_query()}``` to a syntactically-correct sqlite query. \n",
    "# \"\"\"\n",
    "\n",
    "# # list of dicts specifying roles and content\n",
    "# query = [{\"role\":\"system\", \"content\": system_prompt},\n",
    "#          {\"role\":\"user\", \"content\": user_prompt}]\n",
    "\n",
    "# print(f'{system_prompt}')\n",
    "# print(f'{user_prompt}')\n",
    "\n",
    "\n",
    "# completion = openai.ChatCompletion.create(\n",
    "#     model=\"gpt-3.5-turbo\",\n",
    "#     messages=query,\n",
    "# )\n",
    "# print(completion.choices[0].message)"
   ]
  },
  {
   "cell_type": "code",
   "execution_count": 175,
   "id": "9b5d4fc7",
   "metadata": {},
   "outputs": [],
   "source": [
    "# def printColsDB():\n",
    "#     ''' Get Col names from table (assume single table)'''\n",
    "#     inspector = sqlalchemy.inspect(temp_db)\n",
    "#     table_names = inspector.get_table_names()\n",
    "#     table_name=table_names[0]\n",
    "#     print(f\"Table = {table_name}\")\n",
    "#     columns = inspector.get_columns(table_name)\n",
    "#     print(f\"Columns = \",end='[')\n",
    "#     for col in columns:\n",
    "#         print(f\"{col['name']} {col['type']},\",end=' ')\n",
    "#     print(\"]\")"
   ]
  },
  {
   "cell_type": "code",
   "execution_count": null,
   "id": "9ea13302",
   "metadata": {},
   "outputs": [],
   "source": []
  }
 ],
 "metadata": {
  "kernelspec": {
   "display_name": "Python 3 (ipykernel)",
   "language": "python",
   "name": "python3"
  },
  "language_info": {
   "codemirror_mode": {
    "name": "ipython",
    "version": 3
   },
   "file_extension": ".py",
   "mimetype": "text/x-python",
   "name": "python",
   "nbconvert_exporter": "python",
   "pygments_lexer": "ipython3",
   "version": "3.10.6"
  }
 },
 "nbformat": 4,
 "nbformat_minor": 5
}
