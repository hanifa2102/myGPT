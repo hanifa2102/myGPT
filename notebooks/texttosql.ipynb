{
 "cells": [
  {
   "cell_type": "markdown",
   "id": "d3d138f4",
   "metadata": {},
   "source": [
    "# Loading"
   ]
  },
  {
   "cell_type": "code",
   "execution_count": 1,
   "id": "7b0f94d1",
   "metadata": {},
   "outputs": [
    {
     "data": {
      "text/html": [
       "<style>.container { width:100% !important; }</style>"
      ],
      "text/plain": [
       "<IPython.core.display.HTML object>"
      ]
     },
     "metadata": {},
     "output_type": "display_data"
    }
   ],
   "source": [
    "%load_ext autoreload\n",
    "%autoreload 2\n",
    "from IPython.display import display, HTML\n",
    "display(HTML(\"<style>.container { width:100% !important; }</style>\"))"
   ]
  },
  {
   "cell_type": "code",
   "execution_count": 2,
   "id": "429c68ba",
   "metadata": {},
   "outputs": [],
   "source": [
    "import os\n",
    "import openai\n",
    "import pandas as pd\n",
    "import bamboolib as bam\n",
    "import json\n",
    "import sqlalchemy\n",
    "from sqlalchemy import create_engine\n",
    "import sys\n",
    "sys.path.append('..')\n",
    "sys.path.append('../src')"
   ]
  },
  {
   "cell_type": "code",
   "execution_count": 3,
   "id": "7f2dd34e",
   "metadata": {},
   "outputs": [],
   "source": [
    "from llm_api import LLM_API\n",
    "\n",
    "from apikey import apikey\n",
    "os.environ['OPENAI_API_KEY']=apikey\n",
    "openai.api_key  = os.getenv('OPENAI_API_KEY')"
   ]
  },
  {
   "cell_type": "markdown",
   "id": "001d149d",
   "metadata": {},
   "source": [
    "# Example\n",
    " - https://innerjoin.bit.io/make-chatgpt-stop-chatting-and-start-writing-sql-fd5560049ae4\n"
   ]
  },
  {
   "cell_type": "code",
   "execution_count": 4,
   "id": "e42a479f",
   "metadata": {},
   "outputs": [
    {
     "name": "stdout",
     "output_type": "stream",
     "text": [
      "you are a text-to-SQL translator. You write sqlite code based on plain-language prompts.Do not have line breaks in the output.\n",
      "\n",
      " - Language sqlite\n",
      " - Table = \"penguins\", columns = [species text, island text, bill_length_mm double precision, bill_depth_mm double precision, flipper_length_mm bigint, body_mass_g bigint, sex text, year bigint]\n",
      "You are a SQL code translator. Your role is to translate natural language to sqlite. Your only output should be SQL code. Do not include any other text. Only SQL code.\n",
      "Translate \"How many penguins are there in each island and only display islands with more than 10 penguins ?\" to a syntactically-correct sqlite query. \n",
      "\n"
     ]
    }
   ],
   "source": [
    "\n",
    "system_prompt = \"you are a text-to-SQL translator. You write sqlite code based on plain-language prompts.Do not have line breaks in the output.\"\n",
    "user_prompt = \"\"\"\n",
    " - Language sqlite\n",
    " - Table = \"penguins\", columns = [species text, island text, bill_length_mm double precision, bill_depth_mm double precision, flipper_length_mm bigint, body_mass_g bigint, sex text, year bigint]\n",
    "You are a SQL code translator. Your role is to translate natural language to sqlite. Your only output should be SQL code. Do not include any other text. Only SQL code.\n",
    "Translate \"How many penguins are there in each island and only display islands with more than 10 penguins ?\" to a syntactically-correct sqlite query. \n",
    "\"\"\"\n",
    "\n",
    "# list of dicts specifying roles and content\n",
    "query = [{\"role\":\"system\", \"content\": system_prompt},\n",
    "         {\"role\":\"user\", \"content\": user_prompt}]\n",
    "\n",
    "print(f'{system_prompt}')\n",
    "print(f'{user_prompt}')"
   ]
  },
  {
   "cell_type": "code",
   "execution_count": 5,
   "id": "8a4eebaa",
   "metadata": {},
   "outputs": [
    {
     "name": "stdout",
     "output_type": "stream",
     "text": [
      "{\n",
      "  \"content\": \"SELECT island, COUNT(*) AS total_penguins \\nFROM penguins \\nGROUP BY island \\nHAVING total_penguins > 10;\",\n",
      "  \"role\": \"assistant\"\n",
      "}\n"
     ]
    }
   ],
   "source": [
    "completion = openai.ChatCompletion.create(\n",
    "    model=\"gpt-3.5-turbo\",\n",
    "    messages=query,\n",
    ")\n",
    "print(completion.choices[0].message)"
   ]
  },
  {
   "cell_type": "code",
   "execution_count": 30,
   "id": "66e5ace9",
   "metadata": {},
   "outputs": [
    {
     "name": "stdout",
     "output_type": "stream",
     "text": [
      "SQL syntax is valid.\n"
     ]
    }
   ],
   "source": [
    "check_sql_syntax(completion.choices[0].message.content)"
   ]
  },
  {
   "cell_type": "code",
   "execution_count": 9,
   "id": "e9007094",
   "metadata": {},
   "outputs": [
    {
     "name": "stdout",
     "output_type": "stream",
     "text": [
      "\n",
      " - Language PostgreSQL\n",
      " - Table = \"penguins\", columns = [species text, island text, bill_length_mm double precision, bill_depth_mm double precision, flipper_length_mm bigint, body_mass_g bigint, sex text, year bigint]\n",
      "You are a SQL code translator. Your role is to translate natural language to PostgreSQL. Your only output should be SQL code. Do not include any other text. Only SQL code.\n",
      "Translate \"How many penguins are there in each island?\" to a syntactically-correct PostgreSQL query.\n",
      "\n"
     ]
    }
   ],
   "source": [
    "print(user_prompt)"
   ]
  },
  {
   "cell_type": "code",
   "execution_count": 22,
   "id": "07eaa4d1",
   "metadata": {},
   "outputs": [
    {
     "name": "stdout",
     "output_type": "stream",
     "text": [
      "SQL syntax is valid.\n"
     ]
    }
   ],
   "source": [
    "import sqlparse\n",
    "\n",
    "def check_sql_syntax(sql_string):\n",
    "    try:\n",
    "        parsed = sqlparse.parse(sql_string)\n",
    "        print(\"SQL syntax is valid.\")\n",
    "    except sqlparse.exceptions.SQLParseError as e:\n",
    "        print(\"Invalid SQL syntax:\", str(e))\n",
    "\n",
    "# Example usage\n",
    "sql_string = \"SELECT * FROM my_table WHERE column = 'value'\"\n",
    "check_sql_syntax(sql_string)"
   ]
  },
  {
   "cell_type": "code",
   "execution_count": 35,
   "id": "d88eed6d",
   "metadata": {},
   "outputs": [
    {
     "name": "stdout",
     "output_type": "stream",
     "text": [
      "SELECT island,\n",
      "       COUNT(*) AS num_penguins\n",
      "FROM penguins\n",
      "GROUP BY island\n",
      "HAVING num_penguins > 10;\n"
     ]
    }
   ],
   "source": [
    "print(sqlparse.format(completion.choices[0].message.content, reindent=True, keyword_case='upper'))"
   ]
  },
  {
   "cell_type": "markdown",
   "id": "5f726603",
   "metadata": {},
   "source": [
    "# Example \n",
    "- https://dev.classmethod.jp/articles/convert-a-natural-language-query-into-an-sql-query-using-openai-api/"
   ]
  },
  {
   "cell_type": "code",
   "execution_count": 9,
   "id": "5b0d4918",
   "metadata": {},
   "outputs": [],
   "source": [
    "df = pd.read_csv(\"../data/fruits_raw.csv\")"
   ]
  },
  {
   "cell_type": "code",
   "execution_count": 11,
   "id": "4a8549d5",
   "metadata": {},
   "outputs": [],
   "source": [
    "# df"
   ]
  },
  {
   "cell_type": "code",
   "execution_count": 12,
   "id": "ad084a9d",
   "metadata": {},
   "outputs": [],
   "source": [
    "temp_db = sqlalchemy.create_engine('sqlite:///:memory:')"
   ]
  },
  {
   "cell_type": "code",
   "execution_count": 170,
   "id": "70cc5581",
   "metadata": {},
   "outputs": [],
   "source": [
    "def pushDb(df,tbl=\"FRUITS\"):\n",
    "    '''TODO : Purge all existing tables before pushing'''\n",
    "    df.to_sql(name=tbl, con=temp_db, if_exists='replace')    "
   ]
  },
  {
   "cell_type": "code",
   "execution_count": 83,
   "id": "f59474af",
   "metadata": {},
   "outputs": [],
   "source": [
    "def execDB(sqlString):\n",
    "    with temp_db.connect() as conn:\n",
    "        result = conn.execute(sqlalchemy.text(sqlString))\n",
    "    return pd.DataFrame(result.all()) "
   ]
  },
  {
   "cell_type": "code",
   "execution_count": 124,
   "id": "99a8ada7",
   "metadata": {},
   "outputs": [],
   "source": []
  },
  {
   "cell_type": "code",
   "execution_count": 138,
   "id": "6187221a",
   "metadata": {},
   "outputs": [],
   "source": [
    "def getColsDB():\n",
    "    ''' Get Col names from table (assume single table)'''\n",
    "    retString=None\n",
    "    inspector = sqlalchemy.inspect(temp_db)\n",
    "    table_names = inspector.get_table_names()\n",
    "    table_name=table_names[0]\n",
    "    retString=f\"Table = {table_name}, \"\n",
    "    columns = inspector.get_columns(table_name)\n",
    "    retString+=f\"Columns = [\"\n",
    "    for col in columns:\n",
    "        retString+=f\"{col['name']} {col['type']}, \"\n",
    "    retString+=\"]\"\n",
    "    return retString"
   ]
  },
  {
   "cell_type": "code",
   "execution_count": 144,
   "id": "f69591aa",
   "metadata": {},
   "outputs": [],
   "source": [
    "def nlp_query():\n",
    "    nlp_text= input(\"Enter the query: \")\n",
    "    return nlp_text"
   ]
  },
  {
   "cell_type": "code",
   "execution_count": 185,
   "id": "4422d233",
   "metadata": {},
   "outputs": [],
   "source": [
    "def get_sql(nlp_query='Can you list the number of fruits per shape ?'):\n",
    "    system_prompt = \"you are a text-to-SQL translator. You write sqlite code based on plain-language prompts.Do not have line breaks in the output.\"\n",
    "    prompt=f\"\"\"\n",
    "     - Language = sqlite\n",
    "     - {getColsDB()}\n",
    "    You are a SQL code translator. Your role is to translate natural language text delimited by triple backticks to sqlite. Your only output should be SQL code. Do not include any other text. Only SQL code.\n",
    "    Translate ```{nlp_query}``` to a syntactically-correct sqlite query. \n",
    "    \"\"\"\n",
    "    print(prompt)\n",
    "    response=LLM_API.get_completion(prompt,system_prompt)\n",
    "    print(f'response:\\t{response}')\n",
    "    return response"
   ]
  },
  {
   "cell_type": "code",
   "execution_count": 186,
   "id": "0deaab9a",
   "metadata": {},
   "outputs": [
    {
     "name": "stdout",
     "output_type": "stream",
     "text": [
      "\n",
      "     - Language = sqlite\n",
      "     - Table = FRUITS, Columns = [index BIGINT, Fruit TEXT, Shape TEXT, Taste TEXT, Season TEXT, Calories BIGINT, Fat FLOAT, Carbohydrates BIGINT, Sugar BIGINT, Protein FLOAT, Fiber FLOAT, ]\n",
      "    You are a SQL code translator. Your role is to translate natural language text delimited by triple backticks to sqlite. Your only output should be SQL code. Do not include any other text. Only SQL code.\n",
      "    Translate ```Can you list the number of fruits per shape ?``` to a syntactically-correct sqlite query. \n",
      "    \n",
      "messages:\n",
      "[{'role': 'system', 'content': 'you are a text-to-SQL translator. You write sqlite code based on plain-language prompts.Do not have line breaks in the output.'}, {'role': 'user', 'content': '\\n     - Language = sqlite\\n     - Table = FRUITS, Columns = [index BIGINT, Fruit TEXT, Shape TEXT, Taste TEXT, Season TEXT, Calories BIGINT, Fat FLOAT, Carbohydrates BIGINT, Sugar BIGINT, Protein FLOAT, Fiber FLOAT, ]\\n    You are a SQL code translator. Your role is to translate natural language text delimited by triple backticks to sqlite. Your only output should be SQL code. Do not include any other text. Only SQL code.\\n    Translate ```Can you list the number of fruits per shape ?``` to a syntactically-correct sqlite query. \\n    '}]\n",
      "Response received from OpenAI\n",
      "response:\tSELECT Shape, COUNT(Fruit) AS Num_Fruits\n",
      "FROM FRUITS\n",
      "GROUP BY Shape;\n"
     ]
    }
   ],
   "source": [
    "tt=get_sql()"
   ]
  },
  {
   "cell_type": "code",
   "execution_count": 187,
   "id": "a544a8fa",
   "metadata": {},
   "outputs": [
    {
     "data": {
      "application/vnd.jupyter.widget-view+json": {
       "model_id": "4f33de2f3aa8499bbe70dd02732edd6b"
      },
      "text/plain": [
       "         Shape  Num_Fruits\n",
       "0         Long           2\n",
       "1       Oblong           2\n",
       "2         Oval           9\n",
       "3        Round          27\n",
       "4        Stalk           1\n",
       "5  Star-shaped           1"
      ]
     },
     "metadata": {},
     "output_type": "display_data"
    }
   ],
   "source": [
    "execDB(tt)"
   ]
  },
  {
   "cell_type": "code",
   "execution_count": null,
   "id": "d46d1ced",
   "metadata": {},
   "outputs": [],
   "source": []
  },
  {
   "cell_type": "code",
   "execution_count": null,
   "id": "b60832b7",
   "metadata": {},
   "outputs": [],
   "source": []
  },
  {
   "cell_type": "code",
   "execution_count": null,
   "id": "ec62088f",
   "metadata": {},
   "outputs": [],
   "source": []
  },
  {
   "cell_type": "code",
   "execution_count": null,
   "id": "8dd48a74",
   "metadata": {},
   "outputs": [],
   "source": []
  },
  {
   "cell_type": "code",
   "execution_count": null,
   "id": "06f3cdb2",
   "metadata": {},
   "outputs": [],
   "source": []
  },
  {
   "cell_type": "code",
   "execution_count": null,
   "id": "a71cdbd4",
   "metadata": {},
   "outputs": [],
   "source": []
  },
  {
   "cell_type": "code",
   "execution_count": null,
   "id": "c7349f71",
   "metadata": {},
   "outputs": [],
   "source": []
  },
  {
   "cell_type": "code",
   "execution_count": 164,
   "id": "7a6ea669",
   "metadata": {},
   "outputs": [
    {
     "data": {
      "application/vnd.jupyter.widget-view+json": {
       "model_id": "bf25f797c32048519ff2225eeac1ced4"
      },
      "text/plain": [
       "         Shape  Number_of_Fruits\n",
       "0         Long                 2\n",
       "1       Oblong                 2\n",
       "2         Oval                 9\n",
       "3        Round                27\n",
       "4        Stalk                 1\n",
       "5  Star-shaped                 1"
      ]
     },
     "metadata": {},
     "output_type": "display_data"
    }
   ],
   "source": [
    "execDB(completion.choices[0]['message']['content'])"
   ]
  },
  {
   "cell_type": "code",
   "execution_count": 168,
   "id": "7b93083b",
   "metadata": {},
   "outputs": [
    {
     "data": {
      "text/plain": [
       "182"
      ]
     },
     "execution_count": 168,
     "metadata": {},
     "output_type": "execute_result"
    }
   ],
   "source": [
    "completion['usage']['total_tokens']"
   ]
  },
  {
   "cell_type": "code",
   "execution_count": null,
   "id": "cc00cd89",
   "metadata": {},
   "outputs": [],
   "source": []
  },
  {
   "cell_type": "code",
   "execution_count": null,
   "id": "b1958d25",
   "metadata": {},
   "outputs": [],
   "source": []
  },
  {
   "cell_type": "code",
   "execution_count": null,
   "id": "ba2967e3",
   "metadata": {},
   "outputs": [],
   "source": []
  },
  {
   "cell_type": "code",
   "execution_count": 76,
   "id": "933d4dad",
   "metadata": {},
   "outputs": [],
   "source": [
    "# temp_db = sqlalchemy.create_engine('sqlite:///:memory:')\n",
    "# df.to_sql(name=\"FRUITS\", con=temp_db, if_exists='replace')\n",
    "# temp_db.dispose()\n",
    "# with temp_db.connect() as conn:\n",
    "# result = conn.execute(sqlalchemy.text())\n",
    "\n",
    "# results_output=result.all()\n",
    "# pd.DataFrame(results_output)\n",
    "# # Iterate over the table names\n",
    "# for table_name in table_names:\n",
    "#     # Get the column information for each table\n",
    "    \n",
    "    \n",
    "#     # Print the table name\n",
    "#     print(\"Table:\", table_name)\n",
    "    \n",
    "#     # Print the column names and types\n",
    "#     for column in columns:\n",
    "#         print(\"Column:\", column['name'])\n",
    "#         print(\"Type:\", column['type'])\n",
    "        \n",
    "#     print()"
   ]
  },
  {
   "cell_type": "code",
   "execution_count": 173,
   "id": "3211d0a2",
   "metadata": {},
   "outputs": [],
   "source": [
    "# system_prompt = \"you are a text-to-SQL translator. You write sqlite code based on plain-language prompts.Do not have line breaks in the output.\"\n",
    "# user_prompt=f\"\"\"\n",
    "#  - Language = sqlite\n",
    "#  - {getColsDB()}\n",
    "# You are a SQL code translator. Your role is to translate natural language text delimited by triple backticks to sqlite. Your only output should be SQL code. Do not include any other text. Only SQL code.\n",
    "# Translate ```{nlp_query()}``` to a syntactically-correct sqlite query. \n",
    "# \"\"\"\n",
    "\n",
    "# # list of dicts specifying roles and content\n",
    "# query = [{\"role\":\"system\", \"content\": system_prompt},\n",
    "#          {\"role\":\"user\", \"content\": user_prompt}]\n",
    "\n",
    "# print(f'{system_prompt}')\n",
    "# print(f'{user_prompt}')\n",
    "\n",
    "\n",
    "# completion = openai.ChatCompletion.create(\n",
    "#     model=\"gpt-3.5-turbo\",\n",
    "#     messages=query,\n",
    "# )\n",
    "# print(completion.choices[0].message)"
   ]
  },
  {
   "cell_type": "code",
   "execution_count": 175,
   "id": "9b5d4fc7",
   "metadata": {},
   "outputs": [],
   "source": [
    "# def printColsDB():\n",
    "#     ''' Get Col names from table (assume single table)'''\n",
    "#     inspector = sqlalchemy.inspect(temp_db)\n",
    "#     table_names = inspector.get_table_names()\n",
    "#     table_name=table_names[0]\n",
    "#     print(f\"Table = {table_name}\")\n",
    "#     columns = inspector.get_columns(table_name)\n",
    "#     print(f\"Columns = \",end='[')\n",
    "#     for col in columns:\n",
    "#         print(f\"{col['name']} {col['type']},\",end=' ')\n",
    "#     print(\"]\")"
   ]
  },
  {
   "cell_type": "code",
   "execution_count": null,
   "id": "9ea13302",
   "metadata": {},
   "outputs": [],
   "source": []
  }
 ],
 "metadata": {
  "kernelspec": {
   "display_name": "Python 3 (ipykernel)",
   "language": "python",
   "name": "python3"
  },
  "language_info": {
   "codemirror_mode": {
    "name": "ipython",
    "version": 3
   },
   "file_extension": ".py",
   "mimetype": "text/x-python",
   "name": "python",
   "nbconvert_exporter": "python",
   "pygments_lexer": "ipython3",
   "version": "3.10.6"
  }
 },
 "nbformat": 4,
 "nbformat_minor": 5
}
