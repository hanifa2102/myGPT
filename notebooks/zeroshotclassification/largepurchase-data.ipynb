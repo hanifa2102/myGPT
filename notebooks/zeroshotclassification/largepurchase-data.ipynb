{
 "cells": [
  {
   "cell_type": "code",
   "execution_count": 1,
   "id": "0d60301e-4dd3-4529-afcc-aa273fadf6e8",
   "metadata": {},
   "outputs": [],
   "source": [
    " #!kaggle datasets download -d sohier/large-purchases-by-the-state-of-ca"
   ]
  },
  {
   "cell_type": "code",
   "execution_count": 1,
   "id": "6f6abf1c",
   "metadata": {},
   "outputs": [
    {
     "name": "stderr",
     "output_type": "stream",
     "text": [
      "/tmp/ipykernel_13234/3509738684.py:3: DeprecationWarning: Importing display from IPython.core.display is deprecated since IPython 7.14, please import from IPython display\n",
      "  from IPython.core.display import display, HTML\n"
     ]
    },
    {
     "data": {
      "text/html": [
       "<style>.container { width:100% !important; }</style>"
      ],
      "text/plain": [
       "<IPython.core.display.HTML object>"
      ]
     },
     "metadata": {},
     "output_type": "display_data"
    }
   ],
   "source": [
    "%load_ext autoreload\n",
    "%autoreload 2\n",
    "from IPython.core.display import display, HTML\n",
    "display(HTML(\"<style>.container { width:100% !important; }</style>\"))"
   ]
  },
  {
   "cell_type": "markdown",
   "id": "28190f78-a6ba-45cf-b7ce-ca8e74b3ccd5",
   "metadata": {
    "jp-MarkdownHeadingCollapsed": true
   },
   "source": [
    "# Prep Dataset ( No need to run, only for data prep )"
   ]
  },
  {
   "cell_type": "code",
   "execution_count": 2,
   "id": "9dab56dd-2648-4567-854d-cf6cacb00bff",
   "metadata": {},
   "outputs": [],
   "source": [
    "import pandas as pd\n",
    "import bamboolib as bam\n",
    "import pickle"
   ]
  },
  {
   "cell_type": "markdown",
   "id": "b1ed1de6-028a-497d-8381-49a330aadcba",
   "metadata": {},
   "source": [
    "## Drop and Cast cols"
   ]
  },
  {
   "cell_type": "code",
   "execution_count": 3,
   "id": "23bd55ce",
   "metadata": {},
   "outputs": [],
   "source": [
    "df = pd.read_csv(r'../../data/PURCHASE ORDER DATA EXTRACT 2012-2015_0.csv', sep=',', decimal='.')\n",
    "df = df.drop(columns=['Purchase Date', 'LPA Number', 'Purchase Order Number', 'Requisition Number', 'Sub-Acquisition Type', 'Acquisition Method', 'Sub-Acquisition Method', 'Supplier Code', 'Supplier Qualifications', 'CalCard', 'Location'])"
   ]
  },
  {
   "cell_type": "code",
   "execution_count": 4,
   "id": "6c865f3b-af48-4f2d-98df-d382334510c2",
   "metadata": {},
   "outputs": [
    {
     "data": {
      "text/plain": [
       "(273036, 20)"
      ]
     },
     "execution_count": 4,
     "metadata": {},
     "output_type": "execute_result"
    }
   ],
   "source": [
    "# drop rows with any NAs\n",
    "mask=df.isna().sum(axis=1)==0\n",
    "df=df.loc[mask]\n",
    "df.shape"
   ]
  },
  {
   "cell_type": "code",
   "execution_count": 5,
   "id": "4ee62358-e25f-4dec-bcad-0829ab906db3",
   "metadata": {},
   "outputs": [],
   "source": [
    "cols_cast=['Normalized UNSPSC','Class','Family','Segment']\n",
    "for col in cols_cast:\n",
    "    df[col] = pd.to_numeric(df[col], downcast='integer', errors='coerce')"
   ]
  },
  {
   "cell_type": "markdown",
   "id": "6ba2073e",
   "metadata": {},
   "source": [
    "<img title=\"a title\" alt=\"Alt text\" src=\"UNSPSC_tree.png\" width=\"500\" height=\"600\" style=\"float: left;\">"
   ]
  },
  {
   "cell_type": "markdown",
   "id": "c107a8ae-2084-4973-8ed0-812e24e87aab",
   "metadata": {},
   "source": [
    "## Create Labels Dictionary"
   ]
  },
  {
   "cell_type": "code",
   "execution_count": 6,
   "id": "d4856aad",
   "metadata": {},
   "outputs": [],
   "source": [
    "labels_dic={}\n",
    "cols=['Segment Title','Family Title','Class Title','Normalized UNSPSC']\n",
    "for col in cols:\n",
    "    labels_dic[col]= df.groupby([col]).agg(cnt=('Creation Date', 'size')).reset_index()\n",
    "labels_dic['Collated']=df.groupby(['Segment Title', 'Family Title', 'Class Title', 'Normalized UNSPSC']).agg(cnt=('Creation Date', 'size')).reset_index()"
   ]
  },
  {
   "cell_type": "code",
   "execution_count": 7,
   "id": "fbe966d9",
   "metadata": {},
   "outputs": [
    {
     "name": "stdout",
     "output_type": "stream",
     "text": [
      "Segment Title\t:(56, 2)\n",
      "Family Title\t:(408, 2)\n",
      "Class Title\t:(2293, 2)\n",
      "Normalized UNSPSC\t:(12483, 2)\n",
      "Collated\t:(12483, 5)\n"
     ]
    }
   ],
   "source": [
    "for key,val in labels_dic.items():\n",
    "    print(f'{key}\\t:{val.shape}')"
   ]
  },
  {
   "cell_type": "code",
   "execution_count": 8,
   "id": "c32aeb0b",
   "metadata": {},
   "outputs": [
    {
     "data": {
      "application/vnd.jupyter.widget-view+json": {
       "model_id": "c35dda0a1ea145719b41172e831f5953"
      },
      "text/plain": [
       "                                         Segment Title  \\\n",
       "0       Apparel and Luggage and Personal Care Products   \n",
       "1       Apparel and Luggage and Personal Care Products   \n",
       "2       Apparel and Luggage and Personal Care Products   \n",
       "3       Apparel and Luggage and Personal Care Products   \n",
       "4       Apparel and Luggage and Personal Care Products   \n",
       "..                                                 ...   \n",
       "403  Travel and Food and Lodging and Entertainment ...   \n",
       "404  Travel and Food and Lodging and Entertainment ...   \n",
       "405  Travel and Food and Lodging and Entertainment ...   \n",
       "406  Travel and Food and Lodging and Entertainment ...   \n",
       "407  Travel and Food and Lodging and Entertainment ...   \n",
       "\n",
       "                                  Family Title  sum_cnt  \n",
       "0                                     Clothing     2347  \n",
       "1                                     Footwear      488  \n",
       "2     Luggage and handbags and packs and cases      244  \n",
       "3                       Personal care products      852  \n",
       "4              Sewing supplies and accessories       20  \n",
       "..                                         ...      ...  \n",
       "403                     Entertainment services       45  \n",
       "404  Hotels and lodging and meeting facilities      451  \n",
       "405                            Performing arts        7  \n",
       "406                   Restaurants and catering      408  \n",
       "407                        Travel facilitation      159  \n",
       "\n",
       "[408 rows x 3 columns]"
      ]
     },
     "metadata": {},
     "output_type": "display_data"
    }
   ],
   "source": [
    "tt=labels_dic['Collated']\n",
    "tt = tt.groupby(['Segment Title', 'Family Title']).agg(sum_cnt=('cnt', 'sum')).reset_index()\n",
    "tt"
   ]
  },
  {
   "cell_type": "markdown",
   "id": "38203e4e",
   "metadata": {},
   "source": [
    "## Further cleansing"
   ]
  },
  {
   "cell_type": "code",
   "execution_count": 9,
   "id": "d00ff5de",
   "metadata": {},
   "outputs": [
    {
     "data": {
      "text/plain": [
       "(273036, 13)"
      ]
     },
     "execution_count": 9,
     "metadata": {},
     "output_type": "execute_result"
    }
   ],
   "source": [
    "cols_drop=['Creation Date','Supplier Zip Code','Classification Codes','Total Price','Segment','Family','Class']\n",
    "df.drop(labels=cols_drop,inplace=True,axis=1)\n",
    "df.shape"
   ]
  },
  {
   "cell_type": "code",
   "execution_count": 10,
   "id": "9e32bc86",
   "metadata": {},
   "outputs": [
    {
     "data": {
      "text/plain": [
       "NON-IT Goods             172881\n",
       "NON-IT Services           52514\n",
       "IT Goods                  38272\n",
       "IT Services                9243\n",
       "IT Telecommunications       126\n",
       "Name: Acquisition Type, dtype: int64"
      ]
     },
     "execution_count": 10,
     "metadata": {},
     "output_type": "execute_result"
    }
   ],
   "source": [
    "df['Acquisition Type'].value_counts()"
   ]
  },
  {
   "cell_type": "code",
   "execution_count": 12,
   "id": "f8ef8dff",
   "metadata": {},
   "outputs": [
    {
     "data": {
      "text/plain": [
       "dict_keys(['Segment Title', 'Family Title', 'Class Title', 'Normalized UNSPSC', 'Collated', 'Acquisition Type'])"
      ]
     },
     "execution_count": 12,
     "metadata": {},
     "output_type": "execute_result"
    }
   ],
   "source": [
    "labels_dic['Acquisition Type']=df['Acquisition Type'].value_counts().index.tolist()\n",
    "labels_dic.keys()"
   ]
  },
  {
   "cell_type": "markdown",
   "id": "0d44174d-c546-4a51-a180-945eda96662d",
   "metadata": {},
   "source": [
    "## Export and Save output"
   ]
  },
  {
   "cell_type": "code",
   "execution_count": 10,
   "id": "fbe99c28",
   "metadata": {},
   "outputs": [],
   "source": [
    "# df.to_csv('..\\..\\data\\large-purchases-by-the-state-of-ca\\cleansed_kaggle_po.csv',index=False)"
   ]
  },
  {
   "cell_type": "code",
   "execution_count": 14,
   "id": "f12a7d52",
   "metadata": {},
   "outputs": [],
   "source": [
    "import pickle\n",
    "pickle_filename = '../../data/labels_dic.pkl'\n",
    "\n",
    "# Open the file in binary write mode and dump the dictionary into it\n",
    "with open(pickle_filename, 'wb') as pickle_file:\n",
    "    pickle.dump(labels_dic, pickle_file)\n",
    "    \n",
    "pickle_filename = '../../data/cleansed_kaggle_po.pkl'\n",
    "\n",
    "# Open the file in binary write mode and dump the dictionary into it\n",
    "with open(pickle_filename, 'wb') as pickle_file:\n",
    "    pickle.dump(df, pickle_file)"
   ]
  }
 ],
 "metadata": {
  "kernelspec": {
   "display_name": "Python 3 (ipykernel)",
   "language": "python",
   "name": "python3"
  },
  "language_info": {
   "codemirror_mode": {
    "name": "ipython",
    "version": 3
   },
   "file_extension": ".py",
   "mimetype": "text/x-python",
   "name": "python",
   "nbconvert_exporter": "python",
   "pygments_lexer": "ipython3",
   "version": "3.8.13"
  }
 },
 "nbformat": 4,
 "nbformat_minor": 5
}
