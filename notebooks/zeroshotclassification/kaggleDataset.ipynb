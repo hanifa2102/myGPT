{
 "cells": [
  {
   "cell_type": "code",
   "execution_count": 1,
   "id": "0d60301e-4dd3-4529-afcc-aa273fadf6e8",
   "metadata": {},
   "outputs": [],
   "source": [
    " #!kaggle datasets download -d sohier/large-purchases-by-the-state-of-ca"
   ]
  },
  {
   "cell_type": "code",
   "execution_count": 1,
   "id": "6f6abf1c",
   "metadata": {},
   "outputs": [
    {
     "data": {
      "text/html": [
       "<style>.container { width:100% !important; }</style>"
      ],
      "text/plain": [
       "<IPython.core.display.HTML object>"
      ]
     },
     "metadata": {},
     "output_type": "display_data"
    }
   ],
   "source": [
    "%load_ext autoreload\n",
    "%autoreload 2\n",
    "from IPython.core.display import display, HTML\n",
    "display(HTML(\"<style>.container { width:100% !important; }</style>\"))"
   ]
  },
  {
   "cell_type": "code",
   "execution_count": 2,
   "id": "5c8a1732-7719-4e5b-abb3-b3e70643fd9c",
   "metadata": {},
   "outputs": [],
   "source": [
    "import pandas as pd\n",
    "import bamboolib as bam"
   ]
  },
  {
   "cell_type": "code",
   "execution_count": 3,
   "id": "23bd55ce",
   "metadata": {},
   "outputs": [],
   "source": [
    "df = pd.read_csv(r'C:\\Users\\mohamed.hanifa\\Desktop\\myGPT\\data\\large-purchases-by-the-state-of-ca\\PURCHASE ORDER DATA EXTRACT 2012-2015_0.csv', sep=',', decimal='.')\n",
    "df = df.drop(columns=['Purchase Date', 'LPA Number', 'Purchase Order Number', 'Requisition Number', 'Sub-Acquisition Type', 'Acquisition Method', 'Sub-Acquisition Method', 'Supplier Code', 'Supplier Qualifications', 'CalCard', 'Location'])"
   ]
  },
  {
   "cell_type": "code",
   "execution_count": 4,
   "id": "6c865f3b-af48-4f2d-98df-d382334510c2",
   "metadata": {},
   "outputs": [
    {
     "data": {
      "text/plain": [
       "(273036, 20)"
      ]
     },
     "execution_count": 4,
     "metadata": {},
     "output_type": "execute_result"
    }
   ],
   "source": [
    "# drop rows with any NAs\n",
    "mask=df.isna().sum(axis=1)==0\n",
    "df=df.loc[mask]\n",
    "df.shape"
   ]
  },
  {
   "cell_type": "code",
   "execution_count": 5,
   "id": "4ee62358-e25f-4dec-bcad-0829ab906db3",
   "metadata": {},
   "outputs": [],
   "source": [
    "cols_cast=['Normalized UNSPSC','Class','Family','Segment']\n",
    "for col in cols_cast:\n",
    "    df[col] = pd.to_numeric(df[col], downcast='integer', errors='coerce')"
   ]
  },
  {
   "cell_type": "markdown",
   "id": "6ba2073e",
   "metadata": {},
   "source": [
    "<img title=\"a title\" alt=\"Alt text\" src=\"UNSPSC_tree.png\" width=\"500\" height=\"600\" style=\"float: left;\">"
   ]
  },
  {
   "cell_type": "code",
   "execution_count": 6,
   "id": "d4856aad",
   "metadata": {},
   "outputs": [],
   "source": [
    "labels_dic={}\n",
    "cols=['Segment Title','Family Title','Class Title','Normalized UNSPSC']\n",
    "for col in cols:\n",
    "    labels_dic[col]= df.groupby([col]).agg(cnt=('Creation Date', 'size')).reset_index()\n",
    "labels_dic['Collated']=df.groupby(['Segment Title', 'Family Title', 'Class Title', 'Normalized UNSPSC']).agg(cnt=('Creation Date', 'size')).reset_index()"
   ]
  },
  {
   "cell_type": "code",
   "execution_count": 7,
   "id": "fbe966d9",
   "metadata": {},
   "outputs": [
    {
     "name": "stdout",
     "output_type": "stream",
     "text": [
      "Segment Title\t:(56, 2)\n",
      "Family Title\t:(408, 2)\n",
      "Class Title\t:(2293, 2)\n",
      "Normalized UNSPSC\t:(12483, 2)\n",
      "Collated\t:(12483, 5)\n"
     ]
    }
   ],
   "source": [
    "for key,val in labels_dic.items():\n",
    "    print(f'{key}\\t:{val.shape}')"
   ]
  },
  {
   "cell_type": "code",
   "execution_count": 8,
   "id": "c32aeb0b",
   "metadata": {},
   "outputs": [
    {
     "data": {
      "application/vnd.jupyter.widget-view+json": {
       "model_id": "0189fbe4af3844a8b06a5ce883af91f5"
      },
      "text/plain": [
       "                                         Segment Title  \\\n",
       "0       Apparel and Luggage and Personal Care Products   \n",
       "1       Apparel and Luggage and Personal Care Products   \n",
       "2       Apparel and Luggage and Personal Care Products   \n",
       "3       Apparel and Luggage and Personal Care Products   \n",
       "4       Apparel and Luggage and Personal Care Products   \n",
       "..                                                 ...   \n",
       "403  Travel and Food and Lodging and Entertainment ...   \n",
       "404  Travel and Food and Lodging and Entertainment ...   \n",
       "405  Travel and Food and Lodging and Entertainment ...   \n",
       "406  Travel and Food and Lodging and Entertainment ...   \n",
       "407  Travel and Food and Lodging and Entertainment ...   \n",
       "\n",
       "                                  Family Title  sum_cnt  \n",
       "0                                     Clothing     2347  \n",
       "1                                     Footwear      488  \n",
       "2     Luggage and handbags and packs and cases      244  \n",
       "3                       Personal care products      852  \n",
       "4              Sewing supplies and accessories       20  \n",
       "..                                         ...      ...  \n",
       "403                     Entertainment services       45  \n",
       "404  Hotels and lodging and meeting facilities      451  \n",
       "405                            Performing arts        7  \n",
       "406                   Restaurants and catering      408  \n",
       "407                        Travel facilitation      159  \n",
       "\n",
       "[408 rows x 3 columns]"
      ]
     },
     "metadata": {},
     "output_type": "display_data"
    }
   ],
   "source": [
    "tt=labels_dic['Collated']\n",
    "tt = tt.groupby(['Segment Title', 'Family Title']).agg(sum_cnt=('cnt', 'sum')).reset_index()\n",
    "tt"
   ]
  },
  {
   "cell_type": "code",
   "execution_count": 14,
   "id": "fbe99c28",
   "metadata": {},
   "outputs": [],
   "source": [
    "df.to_csv('..\\..\\data\\large-purchases-by-the-state-of-ca\\cleansed_kaggle_po.csv',index=False)"
   ]
  },
  {
   "cell_type": "code",
   "execution_count": 19,
   "id": "f12a7d52",
   "metadata": {},
   "outputs": [],
   "source": [
    "import pickle\n",
    "pickle_filename = '..\\..\\data\\large-purchases-by-the-state-of-ca\\labels_dic.pkl'\n",
    "\n",
    "# Open the file in binary write mode and dump the dictionary into it\n",
    "with open(pickle_filename, 'wb') as pickle_file:\n",
    "    pickle.dump(labels_dic, pickle_file)"
   ]
  },
  {
   "cell_type": "code",
   "execution_count": 20,
   "id": "8c90675a",
   "metadata": {},
   "outputs": [
    {
     "name": "stdout",
     "output_type": "stream",
     "text": [
      "{'Segment Title':                                         Segment Title    cnt\n",
      "0      Apparel and Luggage and Personal Care Products   3951\n",
      "1   Building and Construction Machinery and Access...   1117\n",
      "2   Building and Facility Construction and Mainten...   5363\n",
      "3   Chemicals including Bio Chemicals and Gas Mate...   1817\n",
      "4                     Cleaning Equipment and Supplies   3844\n",
      "5   Commercial and Military and Private Vehicles a...   8970\n",
      "6   Defense and Law Enforcement and Security and S...   8780\n",
      "7   Distribution and Conditioning Systems and Equi...   4712\n",
      "8   Domestic Appliances and Supplies and Consumer ...   3330\n",
      "9                   Drugs and Pharmaceutical Products   1154\n",
      "10  Editorial and Design and Graphic and Fine Art ...   1993\n",
      "11                    Education and Training Services   5829\n",
      "12  Electrical Systems and Lighting and Components...   5060\n",
      "13                 Electronic Components and Supplies   1730\n",
      "14  Engineering and Research and Technology Based ...  14043\n",
      "15                             Environmental Services   1139\n",
      "16  Farming and Fishing and Forestry and Wildlife ...   1729\n",
      "17  Farming and Fishing and Forestry and Wildlife ...    491\n",
      "18                   Financial and Insurance Services   1016\n",
      "19                 Food Beverage and Tobacco Products  23847\n",
      "20  Fuels and Fuel Additives and Lubricants and An...   4102\n",
      "21                          Furniture and Furnishings   6877\n",
      "22                                Healthcare Services   6633\n",
      "23                       Industrial Cleaning Services   5228\n",
      "24  Industrial Manufacturing and Processing Machin...   2580\n",
      "25   Industrial Production and Manufacturing Services   2292\n",
      "26  Information Technology Broadcasting and Teleco...  24090\n",
      "27  Laboratory and Measuring and Observing and Tes...   4876\n",
      "28  Land and Buildings and Structures and Thorough...    785\n",
      "29  Live Plant and Animal Material and Accessories...   2757\n",
      "30  Management and Business Professionals and Admi...   8131\n",
      "31              Manufacturing Components and Supplies   4983\n",
      "32  Material Handling and Conditioning and Storage...   5095\n",
      "33     Medical Equipment and Accessories and Supplies  11345\n",
      "34  Mineral and Textile and Inedible Plant and Ani...   1938\n",
      "35  Mining and Well Drilling Machinery and Accesso...   2673\n",
      "36                    Mining and oil and gas services    735\n",
      "37  Musical Instruments and Games and Toys and Art...   3274\n",
      "38  National Defense and Public Order and Security...   1618\n",
      "39      Office Equipment and Accessories and Supplies  26188\n",
      "40                            Organizations and Clubs    726\n",
      "41                       Paper Materials and Products  10702\n",
      "42                     Personal and Domestic Services    227\n",
      "43                Politics and Civic Affairs Services   4777\n",
      "44  Power Generation and Distribution Machinery an...   5819\n",
      "45  Printing and Photographic and Audio and Visual...   1988\n",
      "46  Public Utilities and Public Sector Related Ser...   1606\n",
      "47                                 Published Products   4425\n",
      "48  Resin and Rosin and Rubber and Foam and Film a...    458\n",
      "49  Service Industry Machinery and Equipment and S...   1501\n",
      "50  Sports and Recreational Equipment and Supplies...   1083\n",
      "51  Structures and Building and Construction and M...   5720\n",
      "52       Timepieces and Jewelry and Gemstone Products    414\n",
      "53                        Tools and General Machinery   3400\n",
      "54       Transportation and Storage and Mail Services   3000\n",
      "55  Travel and Food and Lodging and Entertainment ...   1075, 'Family Title':                                           Family Title   cnt\n",
      "0                              Accommodation furniture  4828\n",
      "1                  Accounting and bookkeeping services   161\n",
      "2                                            Additives   996\n",
      "3                               Adhesives and sealants  1154\n",
      "4                                          Advertising    94\n",
      "..                                                 ...   ...\n",
      "403                          Wood and paper industries    61\n",
      "404                         Work related organizations    85\n",
      "405                                Wound care products   738\n",
      "406                           Writing and translations   545\n",
      "407  lized trade construction and maintenance services    19\n",
      "\n",
      "[408 rows x 2 columns], 'Class Title':                                            Class Title   cnt\n",
      "0                                      Abrasive wheels    12\n",
      "1                         Abrasives and abrasive media   106\n",
      "2                                           Absorbents    50\n",
      "3     Acceleration and vibration measuring instruments     1\n",
      "4                           Access management services    53\n",
      "...                                                ...   ...\n",
      "2288       Wound supports and supplies and accessories    15\n",
      "2289                              Wrenches and drivers   527\n",
      "2290                               Writing instruments  1935\n",
      "2291                                              Yams    17\n",
      "2292                                             Yarns     1\n",
      "\n",
      "[2293 rows x 2 columns], 'Normalized UNSPSC':        Normalized UNSPSC  cnt\n",
      "0               10101501    1\n",
      "1               10101502   19\n",
      "2               10101506   13\n",
      "3               10101510   27\n",
      "4               10101516    1\n",
      "...                  ...  ...\n",
      "12478           95141802   32\n",
      "12479           95141803   24\n",
      "12480           95141901    2\n",
      "12481           95141902    1\n",
      "12482           95141903  274\n",
      "\n",
      "[12483 rows x 2 columns], 'Collated':                                            Segment Title         Family Title  \\\n",
      "0         Apparel and Luggage and Personal Care Products             Clothing   \n",
      "1         Apparel and Luggage and Personal Care Products             Clothing   \n",
      "2         Apparel and Luggage and Personal Care Products             Clothing   \n",
      "3         Apparel and Luggage and Personal Care Products             Clothing   \n",
      "4         Apparel and Luggage and Personal Care Products             Clothing   \n",
      "...                                                  ...                  ...   \n",
      "12478  Travel and Food and Lodging and Entertainment ...  Travel facilitation   \n",
      "12479  Travel and Food and Lodging and Entertainment ...  Travel facilitation   \n",
      "12480  Travel and Food and Lodging and Entertainment ...  Travel facilitation   \n",
      "12481  Travel and Food and Lodging and Entertainment ...  Travel facilitation   \n",
      "12482  Travel and Food and Lodging and Entertainment ...  Travel facilitation   \n",
      "\n",
      "                      Class Title  Normalized UNSPSC  cnt  \n",
      "0                   Athletic wear           53102901   20  \n",
      "1                   Athletic wear           53102902   22  \n",
      "2                   Athletic wear           53102904    1  \n",
      "3            Clothing accessories           53102501   23  \n",
      "4            Clothing accessories           53102503   29  \n",
      "...                           ...                ...  ...  \n",
      "12478     Guides and interpreters           90121701    1  \n",
      "12479     Guides and interpreters           90121702  154  \n",
      "12480               Travel agents           90121501    2  \n",
      "12481               Travel agents           90121502    1  \n",
      "12482  Travel document assistance           90121602    1  \n",
      "\n",
      "[12483 rows x 5 columns]}\n"
     ]
    }
   ],
   "source": [
    "with open(pickle_filename, 'rb') as pickle_file:\n",
    "    loaded_dict = pickle.load(pickle_file)\n",
    "\n",
    "print(loaded_dict)"
   ]
  },
  {
   "cell_type": "code",
   "execution_count": null,
   "id": "7bf6e130",
   "metadata": {},
   "outputs": [],
   "source": []
  }
 ],
 "metadata": {
  "kernelspec": {
   "display_name": ".proc_env",
   "language": "python",
   "name": ".proc_env"
  },
  "language_info": {
   "codemirror_mode": {
    "name": "ipython",
    "version": 3
   },
   "file_extension": ".py",
   "mimetype": "text/x-python",
   "name": "python",
   "nbconvert_exporter": "python",
   "pygments_lexer": "ipython3",
   "version": "3.7.1"
  }
 },
 "nbformat": 4,
 "nbformat_minor": 5
}
