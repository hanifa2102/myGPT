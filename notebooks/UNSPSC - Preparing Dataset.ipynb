{
 "cells": [
  {
   "cell_type": "markdown",
   "metadata": {},
   "source": [
    "#### Importing required libraries"
   ]
  },
  {
   "cell_type": "code",
   "execution_count": 1,
   "metadata": {},
   "outputs": [],
   "source": [
    "import pandas as pd\n",
    "import numpy as np\n",
    "import bamboolib as bam\n",
    "from json import loads,dumps"
   ]
  },
  {
   "cell_type": "code",
   "execution_count": 2,
   "metadata": {},
   "outputs": [
    {
     "name": "stderr",
     "output_type": "stream",
     "text": [
      "C:\\Users\\User\\AppData\\Local\\Temp\\ipykernel_4956\\3509738684.py:3: DeprecationWarning:\n",
      "\n",
      "Importing display from IPython.core.display is deprecated since IPython 7.14, please import from IPython display\n",
      "\n"
     ]
    },
    {
     "data": {
      "text/html": [
       "<style>.container { width:100% !important; }</style>"
      ],
      "text/plain": [
       "<IPython.core.display.HTML object>"
      ]
     },
     "metadata": {},
     "output_type": "display_data"
    }
   ],
   "source": [
    "%load_ext autoreload\n",
    "%autoreload 2\n",
    "from IPython.core.display import display, HTML\n",
    "display(HTML(\"<style>.container { width:100% !important; }</style>\"))"
   ]
  },
  {
   "cell_type": "code",
   "execution_count": 3,
   "metadata": {},
   "outputs": [],
   "source": [
    "chosen_cols=['MaterialDescription', 'Genericname ', 'SupplierName']\n",
    "def get_GPT_rows(df,sample_size=20):\n",
    "    sample=df[chosen_cols].sample(sample_size).to_dict('split')['data']\n",
    "    for row in sample:\n",
    "        print(row)\n",
    "        print('\\n')"
   ]
  },
  {
   "cell_type": "code",
   "execution_count": 4,
   "metadata": {},
   "outputs": [],
   "source": [
    "def get_GPT_records(df,sample_size=5):\n",
    "    sample_df=df.sample(sample_size)\n",
    "    sample_df.rename(columns={'MaterialDescription': 'Product Description', 'Genericname ': 'Generic Product Description', 'SupplierName': 'Vendor Name'},inplace=True)\n",
    "    X_df=sample_df[sample_df.columns[0:3]]\n",
    "    Y_df=sample_df[sample_df.columns[3:]]\n",
    "    \n",
    "    X=X_df.to_dict(orient='records')\n",
    "    Y=Y_df.to_dict(orient='split')['data']\n",
    "    \n",
    "#     for x,y in zip(X,Y):\n",
    "#         print(f'{x} ---- {y}')\n",
    "    for i,x in enumerate(X):\n",
    "        print(f'{i}. {x}')\n",
    "#     for y in Y:\n",
    "#         print(y)\n",
    "    display(sample_df)\n",
    "    \n",
    "# text = f\"\"\"\n",
    "# '[\"DNS 500 ML Viaflex solution for infusion, Baxter\",\"dextrose anhydrous-5 g\\\\/100 ml+sodium chloride-0.9 g\\\\/100 ml\",\"APOLLO SURGICALS\"}}]'\n",
    "# \"\"\"\n",
    "# prompt = f\"\"\"\n",
    "# You will be provided with text delimited by triple backticks \\\n",
    "# 1. Can you classify the UNSPSC coding ?\n",
    "# 2. Find the number of words ?\n",
    "# ```{text}```\n",
    "# \"\"\"\n",
    "# print(prompt)\n",
    "# response = get_completion(prompt)\n",
    "# print(response)\n"
   ]
  },
  {
   "cell_type": "code",
   "execution_count": 51,
   "metadata": {},
   "outputs": [],
   "source": [
    "# def generate_prompt():\n",
    "# text = f\"\"\"\n",
    "# 0. {{'Product Description': 'DFZ  6 TAB', 'Generic Product Description': 'deflazacort-6 mg', 'Vendor Name': 'G K PHARMA'}}\n",
    "# 1. {{'Product Description': 'BAYER\"S TONIC 250ML', 'Generic Product Description': 'LIVER TONIC', 'Vendor Name': 'SRI AMMAN AMBIGAI AGENCIES'}}\n",
    "# 2. {{'Product Description': 'BECLATE 200 ROTACAPS', 'Generic Product Description': 'BETAMETHASONE', 'Vendor Name': 'G K PHARMA'}}\n",
    "# 3. {{'Product Description': 'CLOPILET A 75', 'Generic Product Description': 'CLOPIDOGREL BISULFATE+ASPRIN CAP', 'Vendor Name': 'SRI BALAJI PHARMA DISTRIBUTORS'}}\n",
    "# 4. {{'Product Description': 'ACTON  PROLONGATUM INJ 5ML', 'Generic Product Description': 'CORTICOTROPIN CARBOXYMETHYLCELLULOSE INJ', 'Vendor Name': 'PHARMA 4'}}\n",
    "# \"\"\"\n",
    "# prompt = f\"\"\"\n",
    "# Can you give the product description,generic product description,vendor name UNSPSC coding, segment, family,class, commodity\\\n",
    "# for each product in json format for the text delimited by triple backticks\n",
    "# ```{text}```\n",
    "# \"\"\"\n",
    "# response = get_completion(prompt)\n",
    "# print(response)"
   ]
  },
  {
   "cell_type": "code",
   "execution_count": 6,
   "metadata": {},
   "outputs": [],
   "source": [
    "# pd.read_json('simple.json')"
   ]
  },
  {
   "cell_type": "code",
   "execution_count": 49,
   "metadata": {},
   "outputs": [
    {
     "name": "stdout",
     "output_type": "stream",
     "text": [
      "0. {'Product Description': 'DFZ  6 TAB', 'Generic Product Description': 'deflazacort-6 mg', 'Vendor Name': 'G K PHARMA'}\n",
      "1. {'Product Description': 'BAYER\"S TONIC 250ML', 'Generic Product Description': 'LIVER TONIC', 'Vendor Name': 'SRI AMMAN AMBIGAI AGENCIES'}\n",
      "2. {'Product Description': 'BECLATE 200 ROTACAPS', 'Generic Product Description': 'BETAMETHASONE', 'Vendor Name': 'G K PHARMA'}\n",
      "3. {'Product Description': 'CLOPILET A 75', 'Generic Product Description': 'CLOPIDOGREL BISULFATE+ASPRIN CAP', 'Vendor Name': 'SRI BALAJI PHARMA DISTRIBUTORS'}\n",
      "4. {'Product Description': 'ACTON  PROLONGATUM INJ 5ML', 'Generic Product Description': 'CORTICOTROPIN CARBOXYMETHYLCELLULOSE INJ', 'Vendor Name': 'PHARMA 4'}\n"
     ]
    },
    {
     "data": {
      "application/vnd.jupyter.widget-view+json": {
       "model_id": "3e38f89ffdd94d99b76b35c541048950"
      },
      "text/plain": [
       "              Product Description               Generic Product Description  \\\n",
       "11047                  DFZ  6 TAB                          deflazacort-6 mg   \n",
       "2851          BAYER\"S TONIC 250ML                               LIVER TONIC   \n",
       "2918         BECLATE 200 ROTACAPS                             BETAMETHASONE   \n",
       "7936                CLOPILET A 75          CLOPIDOGREL BISULFATE+ASPRIN CAP   \n",
       "558    ACTON  PROLONGATUM INJ 5ML  CORTICOTROPIN CARBOXYMETHYLCELLULOSE INJ   \n",
       "\n",
       "                          Vendor Name                            Segment  \\\n",
       "11047                      G K PHARMA  Drugs and Pharmaceutical Products   \n",
       "2851       SRI AMMAN AMBIGAI AGENCIES  Drugs and Pharmaceutical Products   \n",
       "2918                       G K PHARMA  Drugs and Pharmaceutical Products   \n",
       "7936   SRI BALAJI PHARMA DISTRIBUTORS  Drugs and Pharmaceutical Products   \n",
       "558                          PHARMA 4  Drugs and Pharmaceutical Products   \n",
       "\n",
       "                                        Family  \\\n",
       "11047         Hormones and hormone antagonists   \n",
       "2851   Agents affecting water and electrolytes   \n",
       "2918          Hormones and hormone antagonists   \n",
       "7936                           Hematolic drugs   \n",
       "558           Hormones and hormone antagonists   \n",
       "\n",
       "                                                   Class  \\\n",
       "11047                                    Corticosteroids   \n",
       "2851   Dietary supplements and nutritional therapy pr...   \n",
       "2918                                     Corticosteroids   \n",
       "7936   Thrombolytic drugs and platelet aggregation in...   \n",
       "558                                      Corticosteroids   \n",
       "\n",
       "                         Commodity  UNSPSC_Final  \n",
       "11047                  Deflazacort      51181718  \n",
       "2851           Vitamin supplements      51191905  \n",
       "2918   Beclomethasone dipropionate      51181752  \n",
       "7936         Clopidogrel bisulfate      51131709  \n",
       "558                  Corticotropin      51181702  "
      ]
     },
     "metadata": {},
     "output_type": "display_data"
    }
   ],
   "source": [
    "get_GPT_records(df)"
   ]
  },
  {
   "cell_type": "code",
   "execution_count": null,
   "metadata": {},
   "outputs": [],
   "source": [
    "51124503"
   ]
  },
  {
   "cell_type": "code",
   "execution_count": 6,
   "metadata": {},
   "outputs": [],
   "source": [
    "sample_df=df.sample(1)\n",
    "# index=sample_df.index\n",
    "# sample_df"
   ]
  },
  {
   "cell_type": "code",
   "execution_count": 7,
   "metadata": {},
   "outputs": [],
   "source": [
    "X_df=sample_df[sample_df.columns[0:3]]\n",
    "Y_df=sample_df[sample_df.columns[3:]]\n",
    "\n",
    "# X_df.to_json(orient='records')\n",
    "\n",
    "# X_df.to_dict('split')\n",
    "# X=X_df.to_dict('split')['data']\n",
    "# Y=Y_df.to_dict('split')['data']\n",
    "# Y\n",
    "# for row,col in zip(X,Y):  \n",
    "#     print(row)\n",
    "#     print(col)\n",
    "#     print('\\n')"
   ]
  },
  {
   "cell_type": "code",
   "execution_count": 11,
   "metadata": {},
   "outputs": [
    {
     "name": "stdout",
     "output_type": "stream",
     "text": [
      "{\"columns\":[\"MaterialDescription\",\"Genericname \",\"SupplierName\"],\"index\":[7610],\"data\":[[\"CLAVIX AS 75MG TAB\",\"Clopidogrel-75 mg+aspirin-75 mg\",\"SHAKTI LIFELINES\"]]}\n",
      "~~~~~~~~~~~~~~\n",
      "[{\"MaterialDescription\":\"CLAVIX AS 75MG TAB\",\"Genericname \":\"Clopidogrel-75 mg+aspirin-75 mg\",\"SupplierName\":\"SHAKTI LIFELINES\"}]\n",
      "~~~~~~~~~~~~~~\n",
      "{\"7610\":{\"MaterialDescription\":\"CLAVIX AS 75MG TAB\",\"Genericname \":\"Clopidogrel-75 mg+aspirin-75 mg\",\"SupplierName\":\"SHAKTI LIFELINES\"}}\n",
      "~~~~~~~~~~~~~~\n",
      "{\"schema\":{\"fields\":[{\"name\":\"index\",\"type\":\"integer\"},{\"name\":\"MaterialDescription\",\"type\":\"string\"},{\"name\":\"Genericname \",\"type\":\"string\"},{\"name\":\"SupplierName\",\"type\":\"string\"}],\"primaryKey\":[\"index\"],\"pandas_version\":\"0.20.0\"},\"data\":[{\"index\":7610,\"MaterialDescription\":\"CLAVIX AS 75MG TAB\",\"Genericname \":\"Clopidogrel-75 mg+aspirin-75 mg\",\"SupplierName\":\"SHAKTI LIFELINES\"}]}\n",
      "~~~~~~~~~~~~~~\n"
     ]
    }
   ],
   "source": [
    "for val in ['split', 'records', 'index', 'table']:\n",
    "    print(X_df.to_json(orient=val))\n",
    "    print('~~~~~~~~~~~~~~')"
   ]
  },
  {
   "cell_type": "code",
   "execution_count": 12,
   "metadata": {},
   "outputs": [
    {
     "data": {
      "text/plain": [
       "'[{\"MaterialDescription\":\"CLAVIX AS 75MG TAB\",\"Genericname \":\"Clopidogrel-75 mg+aspirin-75 mg\",\"SupplierName\":\"SHAKTI LIFELINES\"}]'"
      ]
     },
     "execution_count": 12,
     "metadata": {},
     "output_type": "execute_result"
    }
   ],
   "source": [
    "X_df.to_json(orient='records')"
   ]
  },
  {
   "cell_type": "code",
   "execution_count": 17,
   "metadata": {},
   "outputs": [
    {
     "data": {
      "text/plain": [
       "['CLAVIX AS 75MG TAB', 'Clopidogrel-75 mg+aspirin-75 mg', 'SHAKTI LIFELINES']"
      ]
     },
     "execution_count": 17,
     "metadata": {},
     "output_type": "execute_result"
    }
   ],
   "source": [
    "X_df.to_dict(orient='split')['data'][0]"
   ]
  },
  {
   "cell_type": "code",
   "execution_count": 54,
   "metadata": {},
   "outputs": [
    {
     "name": "stdout",
     "output_type": "stream",
     "text": [
      "summary this```\n",
      "'[{\"MaterialDescription\":\"DNS 500 ML Viaflex solution for infusion, Baxter\",\"Genericname \":\"dextrose anhydrous-5 g\\/100 ml+sodium chloride-0.9 g\\/100 ml\",\"SupplierName\":\"APOLLO SURGICALS\"}]'\n",
      "```\n"
     ]
    }
   ],
   "source": [
    "text=f\"\"\"\n",
    "'[{{\"MaterialDescription\":\"DNS 500 ML Viaflex solution for infusion, Baxter\",\"Genericname \":\"dextrose anhydrous-5 g\\\\/100 ml+sodium chloride-0.9 g\\\\/100 ml\",\"SupplierName\":\"APOLLO SURGICALS\"}}]'\n",
    "\"\"\"\n",
    "prompt=f\"\"\"summary this```{text}```\"\"\"\n",
    "print(prompt)"
   ]
  },
  {
   "cell_type": "code",
   "execution_count": 55,
   "metadata": {},
   "outputs": [
    {
     "data": {
      "application/vnd.jupyter.widget-view+json": {
       "model_id": "bb4aa7cf25a64c13a3e02c581f9dbd51"
      },
      "text/plain": [
       "                                 Segment  \\\n",
       "11755  Drugs and Pharmaceutical Products   \n",
       "\n",
       "                                        Family         Class Commodity  \\\n",
       "11755  Agents affecting water and electrolytes  Electrolytes  Dextrose   \n",
       "\n",
       "       UNSPSC_Final  \n",
       "11755      51191601  "
      ]
     },
     "metadata": {},
     "output_type": "display_data"
    }
   ],
   "source": [
    "Y_df"
   ]
  },
  {
   "cell_type": "markdown",
   "metadata": {},
   "source": [
    "#### Reading data from csv"
   ]
  },
  {
   "cell_type": "code",
   "execution_count": 7,
   "metadata": {},
   "outputs": [],
   "source": [
    "df = pd.read_csv('data/UNSPSCdataset.csv',encoding='mac_roman',low_memory=False)"
   ]
  },
  {
   "cell_type": "code",
   "execution_count": 8,
   "metadata": {},
   "outputs": [
    {
     "name": "stdout",
     "output_type": "stream",
     "text": [
      "(5808, 8)\n",
      "(744, 8)\n"
     ]
    }
   ],
   "source": [
    "df = df.loc[df['SupplierName'].notna()]\n",
    "df = df.loc[df['Genericname '].notna()]\n",
    "df = df.loc[df['Commodity'].notna()]\n",
    "df = df[['MaterialDescription', 'Genericname ', 'SupplierName', 'Segment', 'Family', 'Class', 'Commodity', 'UNSPSC_Final']]\n",
    "print(df.shape)\n",
    "df = df.drop_duplicates(subset=['MaterialDescription', 'Genericname '], keep='first')\n",
    "print(df.shape)"
   ]
  },
  {
   "cell_type": "code",
   "execution_count": 9,
   "metadata": {},
   "outputs": [],
   "source": [
    "df.rename(columns={'MaterialDescription': 'Product Description', 'Genericname ': 'Generic Product Description', 'SupplierName': 'Vendor Name'},inplace=True)"
   ]
  },
  {
   "cell_type": "code",
   "execution_count": 11,
   "metadata": {},
   "outputs": [],
   "source": [
    "df.to_csv('data/UNSPSCdataset_clean.csv',index=False)"
   ]
  },
  {
   "cell_type": "code",
   "execution_count": 12,
   "metadata": {},
   "outputs": [],
   "source": [
    "df.sample(5).to_csv('data/UNSPSCdataset_clean_sample.csv',index=False)"
   ]
  },
  {
   "cell_type": "code",
   "execution_count": null,
   "metadata": {},
   "outputs": [],
   "source": []
  }
 ],
 "metadata": {
  "anaconda-cloud": {},
  "kernelspec": {
   "display_name": "Python 3 (ipykernel)",
   "language": "python",
   "name": "python3"
  },
  "language_info": {
   "codemirror_mode": {
    "name": "ipython",
    "version": 3
   },
   "file_extension": ".py",
   "mimetype": "text/x-python",
   "name": "python",
   "nbconvert_exporter": "python",
   "pygments_lexer": "ipython3",
   "version": "3.10.12"
  }
 },
 "nbformat": 4,
 "nbformat_minor": 4
}
