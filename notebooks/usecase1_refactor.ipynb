{
 "cells": [
  {
   "cell_type": "code",
   "execution_count": 1,
   "id": "8b32da73",
   "metadata": {},
   "outputs": [
    {
     "name": "stderr",
     "output_type": "stream",
     "text": [
      "C:\\Users\\User\\AppData\\Local\\Temp\\ipykernel_448\\3509738684.py:3: DeprecationWarning: Importing display from IPython.core.display is deprecated since IPython 7.14, please import from IPython display\n",
      "  from IPython.core.display import display, HTML\n"
     ]
    },
    {
     "data": {
      "text/html": [
       "<style>.container { width:100% !important; }</style>"
      ],
      "text/plain": [
       "<IPython.core.display.HTML object>"
      ]
     },
     "metadata": {},
     "output_type": "display_data"
    }
   ],
   "source": [
    "%load_ext autoreload\n",
    "%autoreload 2\n",
    "from IPython.core.display import display, HTML\n",
    "display(HTML(\"<style>.container { width:100% !important; }</style>\"))"
   ]
  },
  {
   "cell_type": "code",
   "execution_count": 9,
   "id": "7dd93f0d",
   "metadata": {},
   "outputs": [
    {
     "ename": "ModuleNotFoundError",
     "evalue": "No module named 'UI_App'",
     "output_type": "error",
     "traceback": [
      "\u001b[1;31m---------------------------------------------------------------------------\u001b[0m",
      "\u001b[1;31mModuleNotFoundError\u001b[0m                       Traceback (most recent call last)",
      "Cell \u001b[1;32mIn[9], line 6\u001b[0m\n\u001b[0;32m      4\u001b[0m sys\u001b[38;5;241m.\u001b[39mpath\u001b[38;5;241m.\u001b[39mappend(\u001b[38;5;124m'\u001b[39m\u001b[38;5;124m../src\u001b[39m\u001b[38;5;124m'\u001b[39m)\n\u001b[0;32m      5\u001b[0m \u001b[38;5;28;01mfrom\u001b[39;00m \u001b[38;5;21;01mutility\u001b[39;00m \u001b[38;5;28;01mimport\u001b[39;00m Utility\n\u001b[1;32m----> 6\u001b[0m \u001b[38;5;28;01mfrom\u001b[39;00m \u001b[38;5;21;01mUI_App\u001b[39;00m \u001b[38;5;28;01mimport\u001b[39;00m get_sampleDataset\n",
      "\u001b[1;31mModuleNotFoundError\u001b[0m: No module named 'UI_App'"
     ]
    }
   ],
   "source": [
    "import pandas as pd\n",
    "import bamboolib as bam\n",
    "import sys\n",
    "sys.path.append('../src')\n",
    "from utility import Utility\n",
    "from UI_App import get_sampleDataset"
   ]
  },
  {
   "cell_type": "code",
   "execution_count": 3,
   "id": "6371937c",
   "metadata": {},
   "outputs": [
    {
     "data": {
      "application/vnd.jupyter.widget-view+json": {
       "model_id": "6d4cc8ce52824fd3bc5536544c8f14d0"
      },
      "text/plain": [
       "        Fruit  Shape  Taste  Season  Calories  Fat  Carbohydrates  Sugar  \\\n",
       "0       Apple  Round  Sweet    Fall        95  0.3             25     19   \n",
       "1      Banana   Long  Sweet  Summer       105  0.4             27     19   \n",
       "2      Orange  Round  Sweet  Winter        62  0.1             15     12   \n",
       "3       Peach  Round  Sweet  Summer        62  0.1             15     12   \n",
       "4  Strawberry  Round  Sweet  Summer        46  0.3             12      8   \n",
       "\n",
       "   Protein  Fiber  \n",
       "0      0.5      4  \n",
       "1      1.1      3  \n",
       "2      1.3      4  \n",
       "3      1.3      4  \n",
       "4      1.5      2  "
      ]
     },
     "metadata": {},
     "output_type": "display_data"
    }
   ],
   "source": [
    "df = pd.read_csv(r'C:\\Users\\User\\Desktop\\myGPT\\data\\fruits_raw_sample.csv')\n",
    "df"
   ]
  },
  {
   "cell_type": "code",
   "execution_count": 5,
   "id": "98f9fa59",
   "metadata": {},
   "outputs": [],
   "source": [
    "tt=Utility.csv_to_openai(df)"
   ]
  },
  {
   "cell_type": "code",
   "execution_count": 10,
   "id": "5878ccb6",
   "metadata": {},
   "outputs": [
    {
     "ename": "NameError",
     "evalue": "name 'get_sampleDataset' is not defined",
     "output_type": "error",
     "traceback": [
      "\u001b[1;31m---------------------------------------------------------------------------\u001b[0m",
      "\u001b[1;31mNameError\u001b[0m                                 Traceback (most recent call last)",
      "Cell \u001b[1;32mIn[10], line 1\u001b[0m\n\u001b[1;32m----> 1\u001b[0m \u001b[43mget_sampleDataset\u001b[49m(df)\n",
      "\u001b[1;31mNameError\u001b[0m: name 'get_sampleDataset' is not defined"
     ]
    }
   ],
   "source": [
    "get_sampleDataset(df)"
   ]
  },
  {
   "cell_type": "code",
   "execution_count": 7,
   "id": "a7a5bee3",
   "metadata": {},
   "outputs": [
    {
     "data": {
      "application/vnd.jupyter.widget-view+json": {
       "model_id": "486753c0b5944f548df8d3b815bcf616"
      },
      "text/plain": [
       "   index       Fruit\n",
       "0      0       Apple\n",
       "1      1      Banana\n",
       "2      2      Orange\n",
       "3      3       Peach\n",
       "4      4  Strawberry"
      ]
     },
     "metadata": {},
     "output_type": "display_data"
    }
   ],
   "source": [
    "tt[1]"
   ]
  },
  {
   "cell_type": "code",
   "execution_count": 8,
   "id": "cd2967c1",
   "metadata": {},
   "outputs": [
    {
     "data": {
      "application/vnd.jupyter.widget-view+json": {
       "model_id": "0cb3c508a69d4a638c1c21677b191a34"
      },
      "text/plain": [
       "   index       Fruit  Shape  Taste  Season  Calories  Fat  Carbohydrates  \\\n",
       "0      0       Apple  Round  Sweet    Fall        95  0.3             25   \n",
       "1      1      Banana   Long  Sweet  Summer       105  0.4             27   \n",
       "2      2      Orange  Round  Sweet  Winter        62  0.1             15   \n",
       "3      3       Peach  Round  Sweet  Summer        62  0.1             15   \n",
       "4      4  Strawberry  Round  Sweet  Summer        46  0.3             12   \n",
       "\n",
       "   Sugar  Protein  Fiber  \n",
       "0     19      0.5      4  \n",
       "1     19      1.1      3  \n",
       "2     12      1.3      4  \n",
       "3     12      1.3      4  \n",
       "4      8      1.5      2  "
      ]
     },
     "metadata": {},
     "output_type": "display_data"
    }
   ],
   "source": [
    "tt[2]"
   ]
  },
  {
   "cell_type": "code",
   "execution_count": null,
   "id": "d01be1c8",
   "metadata": {},
   "outputs": [],
   "source": []
  }
 ],
 "metadata": {
  "kernelspec": {
   "display_name": "Python 3 (ipykernel)",
   "language": "python",
   "name": "python3"
  },
  "language_info": {
   "codemirror_mode": {
    "name": "ipython",
    "version": 3
   },
   "file_extension": ".py",
   "mimetype": "text/x-python",
   "name": "python",
   "nbconvert_exporter": "python",
   "pygments_lexer": "ipython3",
   "version": "3.10.6"
  }
 },
 "nbformat": 4,
 "nbformat_minor": 5
}
