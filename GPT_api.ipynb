{
 "cells": [
  {
   "cell_type": "markdown",
   "id": "c2db337a",
   "metadata": {},
   "source": [
    "# Load Libraries"
   ]
  },
  {
   "cell_type": "code",
   "execution_count": 1,
   "id": "e20b6ac3",
   "metadata": {},
   "outputs": [
    {
     "data": {
      "text/html": [
       "<style>.container { width:100% !important; }</style>"
      ],
      "text/plain": [
       "<IPython.core.display.HTML object>"
      ]
     },
     "metadata": {},
     "output_type": "display_data"
    }
   ],
   "source": [
    "%load_ext autoreload\n",
    "%autoreload 2\n",
    "from IPython.display import display, HTML\n",
    "display(HTML(\"<style>.container { width:100% !important; }</style>\"))"
   ]
  },
  {
   "cell_type": "code",
   "execution_count": 2,
   "id": "cb96b71c",
   "metadata": {},
   "outputs": [],
   "source": [
    "import os\n",
    "import openai\n",
    "import pandas as pd\n",
    "import bamboolib as bam\n",
    "import json"
   ]
  },
  {
   "cell_type": "code",
   "execution_count": 3,
   "id": "1396e45a",
   "metadata": {},
   "outputs": [],
   "source": [
    "from apikey import apikey\n",
    "os.environ['OPENAI_API_KEY']=apikey\n",
    "openai.api_key  = os.getenv('OPENAI_API_KEY')"
   ]
  },
  {
   "cell_type": "markdown",
   "id": "ad1d637b",
   "metadata": {},
   "source": [
    "# OpenAI"
   ]
  },
  {
   "cell_type": "code",
   "execution_count": 4,
   "id": "45ea1b44",
   "metadata": {},
   "outputs": [],
   "source": [
    "def get_completion(prompt, model=\"gpt-3.5-turbo\"):\n",
    "    messages = [{'role':'system', 'content':'You are an expert in classifying products into UNSPSC codes.'},\n",
    "                {\"role\": \"user\", \"content\": prompt}]\n",
    "    \n",
    "    response = openai.ChatCompletion.create(\n",
    "        model=model,\n",
    "        messages=messages,\n",
    "        temperature=0, # this is the degree of randomness of the model's output\n",
    "    )\n",
    "    return response.choices[0].message[\"content\"]"
   ]
  },
  {
   "cell_type": "code",
   "execution_count": 5,
   "id": "3c512921",
   "metadata": {},
   "outputs": [],
   "source": [
    "def classify_UNSPSC(tabular_data):\n",
    "    prompt=f\"\"\"\n",
    "    You must classify the products delimited by triple backticks:\n",
    "    1.Provide the output with the following keys only\n",
    "    {{\n",
    "        \"index\": ,\n",
    "        \"Product Description\": ,\n",
    "        \"UNSPSC coding\":,\n",
    "        \"Segment\": ,\n",
    "        \"Family\": ,\n",
    "        \"Class\": ,\n",
    "        \"Commodity\": \n",
    "    }}\n",
    "    2.No AI introduction, no AI analysis, return generated data only, not human-readable\n",
    "    ```{tabular_data}```\"\"\"\n",
    "    display(prompt)\n",
    "    response=get_completion(prompt)\n",
    "    print(f'response:\\t{response}')\n",
    "    response_dict=json.loads(response)\n",
    "    print(f'response_dict:\\t{response_dict}')\n",
    "    \n",
    "    return pd.DataFrame.from_dict(response_dict)  "
   ]
  },
  {
   "cell_type": "code",
   "execution_count": 7,
   "id": "1c6f8d15",
   "metadata": {},
   "outputs": [],
   "source": [
    "def get_tabular_UNSPSC(df,sample_size=5):\n",
    "    sample_df=df.sample(sample_size)\n",
    "    sample_df=sample_df.reset_index(drop=True)\n",
    "    sample_df.rename(columns={'MaterialDescription': 'Product Description', 'Genericname ': 'Generic Product Description', 'SupplierName': 'Vendor Name'},inplace=True)\n",
    "    X_df=sample_df[sample_df.columns[0:3]].reset_index()\n",
    "    Y_df=sample_df[sample_df.columns[3:]].reset_index()\n",
    "\n",
    "    X=X_df.to_dict(orient='records')\n",
    "    X=str(X).replace('{','{{',).replace('}','}}')\n",
    "    \n",
    "    return (X,X_df,Y_df)\n",
    "    "
   ]
  },
  {
   "cell_type": "code",
   "execution_count": 8,
   "id": "ac783d52",
   "metadata": {
    "code_folding": [
     0
    ]
   },
   "outputs": [],
   "source": [
    "# tt=f\"\"\"\n",
    "# Classify the products delimited by triple backticks and Provide the output with the following keys :\n",
    "# index,Product Description,UNSPSC coding,Segment,Family,Class,Commodity.\n",
    "# The output should only contain a JSON string\n",
    "# ```\n",
    "# [{{'index': 0, 'Product Description': 'BAKFLEX-A 8 MG tablet', 'Generic Product Description': 'thiocolchicoside-8 mg+aceclofenac-100 mg', 'Vendor Name': 'DROGARIA ANANTA'}}, {{'index': 1, 'Product Description': 'DOMIN 200 MG/5 ML ampoule solution for injection, 40 mg/mL', 'Generic Product Description': 'dopamine hydrochloride-200 mg', 'Vendor Name': 'VIMAL SALES CORPORATION'}}]\n",
    "# ```\n",
    "# \"\"\"\n",
    "# response=get_completion(tt)\n",
    "\n",
    "# response_dict=json.loads(response)\n",
    "# pd.DataFrame.from_dict(response_dict)"
   ]
  },
  {
   "cell_type": "markdown",
   "id": "ca217a59",
   "metadata": {},
   "source": [
    "# UNSPSC Data"
   ]
  },
  {
   "cell_type": "code",
   "execution_count": 9,
   "id": "6942db80",
   "metadata": {},
   "outputs": [],
   "source": [
    "df = pd.read_csv('UNSPSCdataset.csv',encoding='mac_roman',low_memory=False)"
   ]
  },
  {
   "cell_type": "code",
   "execution_count": 10,
   "id": "7125814d",
   "metadata": {},
   "outputs": [
    {
     "name": "stdout",
     "output_type": "stream",
     "text": [
      "(5808, 8)\n",
      "(744, 8)\n"
     ]
    }
   ],
   "source": [
    "df = df.loc[df['SupplierName'].notna()]\n",
    "df = df.loc[df['Genericname '].notna()]\n",
    "df = df.loc[df['Commodity'].notna()]\n",
    "df = df[['MaterialDescription', 'Genericname ', 'SupplierName', 'Segment', 'Family', 'Class', 'Commodity', 'UNSPSC_Final']]\n",
    "print(df.shape)\n",
    "df = df.drop_duplicates(subset=['MaterialDescription', 'Genericname '], keep='first')\n",
    "print(df.shape)"
   ]
  },
  {
   "cell_type": "code",
   "execution_count": 11,
   "id": "de237eea",
   "metadata": {},
   "outputs": [],
   "source": [
    "df.to_csv('UNSPSCdataset_final.csv',index=False)"
   ]
  },
  {
   "cell_type": "markdown",
   "id": "e14cc090",
   "metadata": {},
   "source": [
    "# Predict "
   ]
  },
  {
   "cell_type": "code",
   "execution_count": 12,
   "id": "afd3a38a",
   "metadata": {},
   "outputs": [],
   "source": [
    "tt=get_tabular_UNSPSC(df)"
   ]
  },
  {
   "cell_type": "code",
   "execution_count": 13,
   "id": "e2b48770",
   "metadata": {},
   "outputs": [
    {
     "data": {
      "text/plain": [
       "\"[{{'index': 0, 'Product Description': 'CARDACE 10 MG tablet', 'Generic Product Description': 'ramipril-10 mg', 'Vendor Name': 'L N B ENTERPRISES'}}, {{'index': 1, 'Product Description': 'DIABETROL SR tablet', 'Generic Product Description': 'glibenclamide-5 mg+metformin hydrochloride sustained release-500 mg', 'Vendor Name': 'BARROS ENTERPRISES'}}, {{'index': 2, 'Product Description': 'COMBIHALE FT 250 R/C', 'Generic Product Description': 'FORMOTEROL FUMARATE+TIOTROPIUM DRY POWDER', 'Vendor Name': 'GEETHA PHARMA'}}, {{'index': 3, 'Product Description': 'CANDY 300MG CAPS', 'Generic Product Description': 'CLINDAMYCIN  CAPS 300MG', 'Vendor Name': 'PHARMA ASSOCIATES'}}, {{'index': 4, 'Product Description': 'CREPE BANDAGE 10CM', 'Generic Product Description': 'CREPE BANDAGE', 'Vendor Name': 'MEDITEK INDIA'}}]\""
      ]
     },
     "execution_count": 13,
     "metadata": {},
     "output_type": "execute_result"
    }
   ],
   "source": [
    "tt[0]"
   ]
  },
  {
   "cell_type": "code",
   "execution_count": 14,
   "id": "79f33391",
   "metadata": {},
   "outputs": [],
   "source": [
    "# json.dumps(tt[0])"
   ]
  },
  {
   "cell_type": "code",
   "execution_count": 15,
   "id": "c6800781",
   "metadata": {},
   "outputs": [
    {
     "data": {
      "text/plain": [
       "'\\n    You must classify the products delimited by triple backticks:\\n    1.Provide the output with the following keys only\\n    {\\n        \"index\": ,\\n        \"Product Description\": ,\\n        \"UNSPSC coding\":,\\n        \"Segment\": ,\\n        \"Family\": ,\\n        \"Class\": ,\\n        \"Commodity\": \\n    }\\n    2.No AI introduction, no AI analysis, return generated data only, not human-readable\\n    ```[{{\\'index\\': 0, \\'Product Description\\': \\'CARDACE 10 MG tablet\\', \\'Generic Product Description\\': \\'ramipril-10 mg\\', \\'Vendor Name\\': \\'L N B ENTERPRISES\\'}}, {{\\'index\\': 1, \\'Product Description\\': \\'DIABETROL SR tablet\\', \\'Generic Product Description\\': \\'glibenclamide-5 mg+metformin hydrochloride sustained release-500 mg\\', \\'Vendor Name\\': \\'BARROS ENTERPRISES\\'}}, {{\\'index\\': 2, \\'Product Description\\': \\'COMBIHALE FT 250 R/C\\', \\'Generic Product Description\\': \\'FORMOTEROL FUMARATE+TIOTROPIUM DRY POWDER\\', \\'Vendor Name\\': \\'GEETHA PHARMA\\'}}, {{\\'index\\': 3, \\'Product Description\\': \\'CANDY 300MG CAPS\\', \\'Generic Product Description\\': \\'CLINDAMYCIN  CAPS 300MG\\', \\'Vendor Name\\': \\'PHARMA ASSOCIATES\\'}}, {{\\'index\\': 4, \\'Product Description\\': \\'CREPE BANDAGE 10CM\\', \\'Generic Product Description\\': \\'CREPE BANDAGE\\', \\'Vendor Name\\': \\'MEDITEK INDIA\\'}}]```'"
      ]
     },
     "metadata": {},
     "output_type": "display_data"
    },
    {
     "name": "stdout",
     "output_type": "stream",
     "text": [
      "response:\t[{\"index\": 0, \"Product Description\": \"CARDACE 10 MG tablet\", \"UNSPSC coding\": \"51300000\", \"Segment\": \"Pharmaceuticals and Biochemicals and Healt...\", \"Family\": \"Drugs and Pharmaceutical Products\", \"Class\": \"Systemic hormonal preparations, excl. sex ho...\", \"Commodity\": \"Adrenergics and dopaminergics and agents, excl...\"}, {\"index\": 1, \"Product Description\": \"DIABETROL SR tablet\", \"UNSPSC coding\": \"51300000\", \"Segment\": \"Pharmaceuticals and Biochemicals and Healt...\", \"Family\": \"Drugs and Pharmaceutical Products\", \"Class\": \"Systemic hormonal preparations, excl. sex ho...\", \"Commodity\": \"Antidiabetic agents\"}, {\"index\": 2, \"Product Description\": \"COMBIHALE FT 250 R/C\", \"UNSPSC coding\": \"51300000\", \"Segment\": \"Pharmaceuticals and Biochemicals and Healt...\", \"Family\": \"Drugs and Pharmaceutical Products\", \"Class\": \"Respiratory system drugs\", \"Commodity\": \"Bronchodilator agents\"}, {\"index\": 3, \"Product Description\": \"CANDY 300MG CAPS\", \"UNSPSC coding\": \"51300000\", \"Segment\": \"Pharmaceuticals and Biochemicals and Healt...\", \"Family\": \"Drugs and Pharmaceutical Products\", \"Class\": \"Antiinfective agents\", \"Commodity\": \"Antibacterials\"}, {\"index\": 4, \"Product Description\": \"CREPE BANDAGE 10CM\", \"UNSPSC coding\": \"42311505\", \"Segment\": \"Medical Equipment and Accessories and Suppl...\", \"Family\": \"Medical apparel and textiles\", \"Class\": \"Bandages and dressings and related products\", \"Commodity\": \"Bandages\"}]\n",
      "response_dict:\t[{'index': 0, 'Product Description': 'CARDACE 10 MG tablet', 'UNSPSC coding': '51300000', 'Segment': 'Pharmaceuticals and Biochemicals and Healt...', 'Family': 'Drugs and Pharmaceutical Products', 'Class': 'Systemic hormonal preparations, excl. sex ho...', 'Commodity': 'Adrenergics and dopaminergics and agents, excl...'}, {'index': 1, 'Product Description': 'DIABETROL SR tablet', 'UNSPSC coding': '51300000', 'Segment': 'Pharmaceuticals and Biochemicals and Healt...', 'Family': 'Drugs and Pharmaceutical Products', 'Class': 'Systemic hormonal preparations, excl. sex ho...', 'Commodity': 'Antidiabetic agents'}, {'index': 2, 'Product Description': 'COMBIHALE FT 250 R/C', 'UNSPSC coding': '51300000', 'Segment': 'Pharmaceuticals and Biochemicals and Healt...', 'Family': 'Drugs and Pharmaceutical Products', 'Class': 'Respiratory system drugs', 'Commodity': 'Bronchodilator agents'}, {'index': 3, 'Product Description': 'CANDY 300MG CAPS', 'UNSPSC coding': '51300000', 'Segment': 'Pharmaceuticals and Biochemicals and Healt...', 'Family': 'Drugs and Pharmaceutical Products', 'Class': 'Antiinfective agents', 'Commodity': 'Antibacterials'}, {'index': 4, 'Product Description': 'CREPE BANDAGE 10CM', 'UNSPSC coding': '42311505', 'Segment': 'Medical Equipment and Accessories and Suppl...', 'Family': 'Medical apparel and textiles', 'Class': 'Bandages and dressings and related products', 'Commodity': 'Bandages'}]\n"
     ]
    }
   ],
   "source": [
    "result=classify_UNSPSC(tt[0])"
   ]
  },
  {
   "cell_type": "code",
   "execution_count": 16,
   "id": "50b873d9",
   "metadata": {},
   "outputs": [
    {
     "data": {
      "application/vnd.jupyter.widget-view+json": {
       "model_id": "50436eef40cc4f358f01e00cecef3c6b"
      },
      "text/plain": [
       "   index   Product Description UNSPSC coding  \\\n",
       "0      0  CARDACE 10 MG tablet      51300000   \n",
       "1      1   DIABETROL SR tablet      51300000   \n",
       "2      2  COMBIHALE FT 250 R/C      51300000   \n",
       "3      3      CANDY 300MG CAPS      51300000   \n",
       "4      4    CREPE BANDAGE 10CM      42311505   \n",
       "\n",
       "                                          Segment  \\\n",
       "0   Pharmaceuticals and Biochemicals and Healt...   \n",
       "1   Pharmaceuticals and Biochemicals and Healt...   \n",
       "2   Pharmaceuticals and Biochemicals and Healt...   \n",
       "3   Pharmaceuticals and Biochemicals and Healt...   \n",
       "4  Medical Equipment and Accessories and Suppl...   \n",
       "\n",
       "                              Family  \\\n",
       "0  Drugs and Pharmaceutical Products   \n",
       "1  Drugs and Pharmaceutical Products   \n",
       "2  Drugs and Pharmaceutical Products   \n",
       "3  Drugs and Pharmaceutical Products   \n",
       "4       Medical apparel and textiles   \n",
       "\n",
       "                                             Class  \\\n",
       "0  Systemic hormonal preparations, excl. sex ho...   \n",
       "1  Systemic hormonal preparations, excl. sex ho...   \n",
       "2                         Respiratory system drugs   \n",
       "3                             Antiinfective agents   \n",
       "4      Bandages and dressings and related products   \n",
       "\n",
       "                                           Commodity  \n",
       "0  Adrenergics and dopaminergics and agents, excl...  \n",
       "1                                Antidiabetic agents  \n",
       "2                              Bronchodilator agents  \n",
       "3                                     Antibacterials  \n",
       "4                                           Bandages  "
      ]
     },
     "metadata": {},
     "output_type": "display_data"
    }
   ],
   "source": [
    "result"
   ]
  },
  {
   "cell_type": "code",
   "execution_count": 24,
   "id": "73bb4362",
   "metadata": {},
   "outputs": [],
   "source": [
    "tt=\"\"\"[{'index': 0, 'Product Description': 'DERMADEW CALOE LOTION 60ML', 'UNSPSC coding': '53131600', 'Segment': 'Segment Not Available', 'Family': 'Family Not Available', 'Class': 'Class Not Available', 'Commodity': 'Commodity Not Available'}, {'index': 1, 'Product Description': 'CAVAFIX 134 B-BRAN', 'UNSPSC coding': '42295451', 'Segment': 'Segment Not Available', \n",
    "'Family': 'Family Not Available', 'Class': 'Class Not Available', 'Commodity': 'Commodity Not Available'}, {'index': 2, 'Product Description': 'AZUKON MR 30 MG tab', 'UNSPSC coding': '51241100', 'Segment': 'Segment Not Available', 'Family': 'Family Not Available', 'Class': 'Class Not Available', 'Commodity': 'Commodity Not Available'}, {'index': 3, 'Product Description': 'BECOZINC CAPS', 'UNSPSC coding': '51191900', 'Segment': 'Segment Not Available', 'Family': 'Family Not Available', 'Class': 'Class Not Available', 'Commodity': 'Commodity Not Available'}, {'index': 4, 'Product Description': 'BETADINE 5% w/w cream 10 GM', 'UNSPSC coding': '51102700', 'Segment': 'Segment Not Available', 'Family': 'Family Not Available', 'Class': 'Class Not Available', 'Commodity': 'Commodity Not Available'}]\"\"\""
   ]
  },
  {
   "cell_type": "code",
   "execution_count": 26,
   "id": "4ee2e81d",
   "metadata": {},
   "outputs": [
    {
     "ename": "JSONDecodeError",
     "evalue": "Expecting property name enclosed in double quotes: line 1 column 3 (char 2)",
     "output_type": "error",
     "traceback": [
      "\u001b[1;31m---------------------------------------------------------------------------\u001b[0m",
      "\u001b[1;31mJSONDecodeError\u001b[0m                           Traceback (most recent call last)",
      "Cell \u001b[1;32mIn[26], line 1\u001b[0m\n\u001b[1;32m----> 1\u001b[0m \u001b[43mjson\u001b[49m\u001b[38;5;241;43m.\u001b[39;49m\u001b[43mloads\u001b[49m\u001b[43m(\u001b[49m\u001b[43mtt\u001b[49m\u001b[43m)\u001b[49m\n",
      "File \u001b[1;32m~\\.pyenv\\pyenv-win\\versions\\3.10.6\\lib\\json\\__init__.py:346\u001b[0m, in \u001b[0;36mloads\u001b[1;34m(s, cls, object_hook, parse_float, parse_int, parse_constant, object_pairs_hook, **kw)\u001b[0m\n\u001b[0;32m    341\u001b[0m     s \u001b[38;5;241m=\u001b[39m s\u001b[38;5;241m.\u001b[39mdecode(detect_encoding(s), \u001b[38;5;124m'\u001b[39m\u001b[38;5;124msurrogatepass\u001b[39m\u001b[38;5;124m'\u001b[39m)\n\u001b[0;32m    343\u001b[0m \u001b[38;5;28;01mif\u001b[39;00m (\u001b[38;5;28mcls\u001b[39m \u001b[38;5;129;01mis\u001b[39;00m \u001b[38;5;28;01mNone\u001b[39;00m \u001b[38;5;129;01mand\u001b[39;00m object_hook \u001b[38;5;129;01mis\u001b[39;00m \u001b[38;5;28;01mNone\u001b[39;00m \u001b[38;5;129;01mand\u001b[39;00m\n\u001b[0;32m    344\u001b[0m         parse_int \u001b[38;5;129;01mis\u001b[39;00m \u001b[38;5;28;01mNone\u001b[39;00m \u001b[38;5;129;01mand\u001b[39;00m parse_float \u001b[38;5;129;01mis\u001b[39;00m \u001b[38;5;28;01mNone\u001b[39;00m \u001b[38;5;129;01mand\u001b[39;00m\n\u001b[0;32m    345\u001b[0m         parse_constant \u001b[38;5;129;01mis\u001b[39;00m \u001b[38;5;28;01mNone\u001b[39;00m \u001b[38;5;129;01mand\u001b[39;00m object_pairs_hook \u001b[38;5;129;01mis\u001b[39;00m \u001b[38;5;28;01mNone\u001b[39;00m \u001b[38;5;129;01mand\u001b[39;00m \u001b[38;5;129;01mnot\u001b[39;00m kw):\n\u001b[1;32m--> 346\u001b[0m     \u001b[38;5;28;01mreturn\u001b[39;00m \u001b[43m_default_decoder\u001b[49m\u001b[38;5;241;43m.\u001b[39;49m\u001b[43mdecode\u001b[49m\u001b[43m(\u001b[49m\u001b[43ms\u001b[49m\u001b[43m)\u001b[49m\n\u001b[0;32m    347\u001b[0m \u001b[38;5;28;01mif\u001b[39;00m \u001b[38;5;28mcls\u001b[39m \u001b[38;5;129;01mis\u001b[39;00m \u001b[38;5;28;01mNone\u001b[39;00m:\n\u001b[0;32m    348\u001b[0m     \u001b[38;5;28mcls\u001b[39m \u001b[38;5;241m=\u001b[39m JSONDecoder\n",
      "File \u001b[1;32m~\\.pyenv\\pyenv-win\\versions\\3.10.6\\lib\\json\\decoder.py:337\u001b[0m, in \u001b[0;36mJSONDecoder.decode\u001b[1;34m(self, s, _w)\u001b[0m\n\u001b[0;32m    332\u001b[0m \u001b[38;5;28;01mdef\u001b[39;00m \u001b[38;5;21mdecode\u001b[39m(\u001b[38;5;28mself\u001b[39m, s, _w\u001b[38;5;241m=\u001b[39mWHITESPACE\u001b[38;5;241m.\u001b[39mmatch):\n\u001b[0;32m    333\u001b[0m \u001b[38;5;250m    \u001b[39m\u001b[38;5;124;03m\"\"\"Return the Python representation of ``s`` (a ``str`` instance\u001b[39;00m\n\u001b[0;32m    334\u001b[0m \u001b[38;5;124;03m    containing a JSON document).\u001b[39;00m\n\u001b[0;32m    335\u001b[0m \n\u001b[0;32m    336\u001b[0m \u001b[38;5;124;03m    \"\"\"\u001b[39;00m\n\u001b[1;32m--> 337\u001b[0m     obj, end \u001b[38;5;241m=\u001b[39m \u001b[38;5;28;43mself\u001b[39;49m\u001b[38;5;241;43m.\u001b[39;49m\u001b[43mraw_decode\u001b[49m\u001b[43m(\u001b[49m\u001b[43ms\u001b[49m\u001b[43m,\u001b[49m\u001b[43m \u001b[49m\u001b[43midx\u001b[49m\u001b[38;5;241;43m=\u001b[39;49m\u001b[43m_w\u001b[49m\u001b[43m(\u001b[49m\u001b[43ms\u001b[49m\u001b[43m,\u001b[49m\u001b[43m \u001b[49m\u001b[38;5;241;43m0\u001b[39;49m\u001b[43m)\u001b[49m\u001b[38;5;241;43m.\u001b[39;49m\u001b[43mend\u001b[49m\u001b[43m(\u001b[49m\u001b[43m)\u001b[49m\u001b[43m)\u001b[49m\n\u001b[0;32m    338\u001b[0m     end \u001b[38;5;241m=\u001b[39m _w(s, end)\u001b[38;5;241m.\u001b[39mend()\n\u001b[0;32m    339\u001b[0m     \u001b[38;5;28;01mif\u001b[39;00m end \u001b[38;5;241m!=\u001b[39m \u001b[38;5;28mlen\u001b[39m(s):\n",
      "File \u001b[1;32m~\\.pyenv\\pyenv-win\\versions\\3.10.6\\lib\\json\\decoder.py:353\u001b[0m, in \u001b[0;36mJSONDecoder.raw_decode\u001b[1;34m(self, s, idx)\u001b[0m\n\u001b[0;32m    344\u001b[0m \u001b[38;5;250m\u001b[39m\u001b[38;5;124;03m\"\"\"Decode a JSON document from ``s`` (a ``str`` beginning with\u001b[39;00m\n\u001b[0;32m    345\u001b[0m \u001b[38;5;124;03ma JSON document) and return a 2-tuple of the Python\u001b[39;00m\n\u001b[0;32m    346\u001b[0m \u001b[38;5;124;03mrepresentation and the index in ``s`` where the document ended.\u001b[39;00m\n\u001b[1;32m   (...)\u001b[0m\n\u001b[0;32m    350\u001b[0m \n\u001b[0;32m    351\u001b[0m \u001b[38;5;124;03m\"\"\"\u001b[39;00m\n\u001b[0;32m    352\u001b[0m \u001b[38;5;28;01mtry\u001b[39;00m:\n\u001b[1;32m--> 353\u001b[0m     obj, end \u001b[38;5;241m=\u001b[39m \u001b[38;5;28;43mself\u001b[39;49m\u001b[38;5;241;43m.\u001b[39;49m\u001b[43mscan_once\u001b[49m\u001b[43m(\u001b[49m\u001b[43ms\u001b[49m\u001b[43m,\u001b[49m\u001b[43m \u001b[49m\u001b[43midx\u001b[49m\u001b[43m)\u001b[49m\n\u001b[0;32m    354\u001b[0m \u001b[38;5;28;01mexcept\u001b[39;00m \u001b[38;5;167;01mStopIteration\u001b[39;00m \u001b[38;5;28;01mas\u001b[39;00m err:\n\u001b[0;32m    355\u001b[0m     \u001b[38;5;28;01mraise\u001b[39;00m JSONDecodeError(\u001b[38;5;124m\"\u001b[39m\u001b[38;5;124mExpecting value\u001b[39m\u001b[38;5;124m\"\u001b[39m, s, err\u001b[38;5;241m.\u001b[39mvalue) \u001b[38;5;28;01mfrom\u001b[39;00m \u001b[38;5;28;01mNone\u001b[39;00m\n",
      "\u001b[1;31mJSONDecodeError\u001b[0m: Expecting property name enclosed in double quotes: line 1 column 3 (char 2)"
     ]
    }
   ],
   "source": [
    "json.loads(tt)"
   ]
  },
  {
   "cell_type": "code",
   "execution_count": null,
   "id": "e825d1ba",
   "metadata": {},
   "outputs": [],
   "source": []
  }
 ],
 "metadata": {
  "kernelspec": {
   "display_name": "Python 3 (ipykernel)",
   "language": "python",
   "name": "python3"
  },
  "language_info": {
   "codemirror_mode": {
    "name": "ipython",
    "version": 3
   },
   "file_extension": ".py",
   "mimetype": "text/x-python",
   "name": "python",
   "nbconvert_exporter": "python",
   "pygments_lexer": "ipython3",
   "version": "3.10.6"
  }
 },
 "nbformat": 4,
 "nbformat_minor": 5
}
