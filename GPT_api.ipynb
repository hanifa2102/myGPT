{
 "cells": [
  {
   "cell_type": "markdown",
   "id": "c2db337a",
   "metadata": {},
   "source": [
    "# Load Libraries"
   ]
  },
  {
   "cell_type": "code",
   "execution_count": 1,
   "id": "e20b6ac3",
   "metadata": {},
   "outputs": [
    {
     "data": {
      "text/html": [
       "<style>.container { width:100% !important; }</style>"
      ],
      "text/plain": [
       "<IPython.core.display.HTML object>"
      ]
     },
     "metadata": {},
     "output_type": "display_data"
    }
   ],
   "source": [
    "%load_ext autoreload\n",
    "%autoreload 2\n",
    "from IPython.display import display, HTML\n",
    "display(HTML(\"<style>.container { width:100% !important; }</style>\"))"
   ]
  },
  {
   "cell_type": "code",
   "execution_count": 2,
   "id": "cb96b71c",
   "metadata": {},
   "outputs": [],
   "source": [
    "import os\n",
    "import openai\n",
    "import pandas as pd\n",
    "import bamboolib as bam\n",
    "import json"
   ]
  },
  {
   "cell_type": "code",
   "execution_count": 3,
   "id": "1396e45a",
   "metadata": {},
   "outputs": [],
   "source": [
    "from apikey import apikey\n",
    "os.environ['OPENAI_API_KEY']=apikey\n",
    "openai.api_key  = os.getenv('OPENAI_API_KEY')"
   ]
  },
  {
   "cell_type": "markdown",
   "id": "ad1d637b",
   "metadata": {},
   "source": [
    "# OpenAI"
   ]
  },
  {
   "cell_type": "code",
   "execution_count": 4,
   "id": "45ea1b44",
   "metadata": {},
   "outputs": [],
   "source": [
    "def get_completion(prompt, model=\"gpt-3.5-turbo\"):\n",
    "    messages = [{'role':'system', 'content':'You are an expert in classifying products into UNSPSC codes.'},\n",
    "                {\"role\": \"user\", \"content\": prompt}]\n",
    "    \n",
    "    response = openai.ChatCompletion.create(\n",
    "        model=model,\n",
    "        messages=messages,\n",
    "        temperature=0, # this is the degree of randomness of the model's output\n",
    "    )\n",
    "    return response.choices[0].message[\"content\"]"
   ]
  },
  {
   "cell_type": "code",
   "execution_count": 29,
   "id": "3c512921",
   "metadata": {},
   "outputs": [],
   "source": [
    "def classify_UNSPSC(tabular_data):\n",
    "    prompt=f\"\"\"\n",
    "    You must classify the products delimited by triple backticks and Provide the output with the following keys :\n",
    "    1.Output should be like the below\n",
    "    {{\n",
    "        \"index\": ,\n",
    "        \"Product Description\": ,\n",
    "        \"UNSPSC coding\":,\n",
    "        \"Segment\": ,\n",
    "        \"Family\": ,\n",
    "        \"Class\": ,\n",
    "        \"Commodity\": \n",
    "    }}\n",
    "    [No Prose]\n",
    "    ```{tabular_data}```\n",
    "    \"\"\"\n",
    "    display(prompt)\n",
    "    response=get_completion(prompt)\n",
    "    print(f'response:\\t{response}')\n",
    "    response_dict=json.loads(response)\n",
    "    print(f'response_dict:\\t{response_dict}')\n",
    "    \n",
    "    return pd.DataFrame.from_dict(response_dict)  "
   ]
  },
  {
   "cell_type": "code",
   "execution_count": 22,
   "id": "1c6f8d15",
   "metadata": {},
   "outputs": [],
   "source": [
    "def get_tabular(df,sample_size=5):\n",
    "    sample_df=df.sample(sample_size)\n",
    "    sample_df=sample_df.reset_index(drop=True)\n",
    "    sample_df.rename(columns={'MaterialDescription': 'Product Description', 'Genericname ': 'Generic Product Description', 'SupplierName': 'Vendor Name'},inplace=True)\n",
    "    X_df=sample_df[sample_df.columns[0:3]].reset_index()\n",
    "    Y_df=sample_df[sample_df.columns[3:]].reset_index()\n",
    "\n",
    "    X=X_df.to_dict(orient='records')\n",
    "    tabular_data=str(X).replace('{','{{',).replace('}','}}')\n",
    "    \n",
    "    return (X,X_df,Y_df)\n",
    "    "
   ]
  },
  {
   "cell_type": "code",
   "execution_count": 7,
   "id": "ac783d52",
   "metadata": {
    "code_folding": [
     0
    ]
   },
   "outputs": [],
   "source": [
    "# tt=f\"\"\"\n",
    "# Classify the products delimited by triple backticks and Provide the output with the following keys :\n",
    "# index,Product Description,UNSPSC coding,Segment,Family,Class,Commodity.\n",
    "# The output should only contain a JSON string\n",
    "# ```\n",
    "# [{{'index': 0, 'Product Description': 'BAKFLEX-A 8 MG tablet', 'Generic Product Description': 'thiocolchicoside-8 mg+aceclofenac-100 mg', 'Vendor Name': 'DROGARIA ANANTA'}}, {{'index': 1, 'Product Description': 'DOMIN 200 MG/5 ML ampoule solution for injection, 40 mg/mL', 'Generic Product Description': 'dopamine hydrochloride-200 mg', 'Vendor Name': 'VIMAL SALES CORPORATION'}}]\n",
    "# ```\n",
    "# \"\"\"\n",
    "# response=get_completion(tt)\n",
    "\n",
    "# response_dict=json.loads(response)\n",
    "# pd.DataFrame.from_dict(response_dict)"
   ]
  },
  {
   "cell_type": "markdown",
   "id": "ca217a59",
   "metadata": {},
   "source": [
    "# UNSPSC Data"
   ]
  },
  {
   "cell_type": "code",
   "execution_count": 8,
   "id": "6942db80",
   "metadata": {},
   "outputs": [],
   "source": [
    "df = pd.read_csv('UNSPSCdataset.csv',encoding='mac_roman',low_memory=False)"
   ]
  },
  {
   "cell_type": "code",
   "execution_count": 9,
   "id": "7125814d",
   "metadata": {},
   "outputs": [
    {
     "name": "stdout",
     "output_type": "stream",
     "text": [
      "(5808, 8)\n",
      "(744, 8)\n"
     ]
    }
   ],
   "source": [
    "df = df.loc[df['SupplierName'].notna()]\n",
    "df = df.loc[df['Genericname '].notna()]\n",
    "df = df.loc[df['Commodity'].notna()]\n",
    "df = df[['MaterialDescription', 'Genericname ', 'SupplierName', 'Segment', 'Family', 'Class', 'Commodity', 'UNSPSC_Final']]\n",
    "print(df.shape)\n",
    "df = df.drop_duplicates(subset=['MaterialDescription', 'Genericname '], keep='first')\n",
    "print(df.shape)"
   ]
  },
  {
   "cell_type": "code",
   "execution_count": 32,
   "id": "afd3a38a",
   "metadata": {},
   "outputs": [],
   "source": [
    "tt=get_tabular(df,3)"
   ]
  },
  {
   "cell_type": "code",
   "execution_count": 33,
   "id": "c6800781",
   "metadata": {},
   "outputs": [
    {
     "data": {
      "text/plain": [
       "'\\n    You must classify the products delimited by triple backticks and Provide the output with the following keys :\\n    1.Output should be like the below\\n    {\\n        \"index\": ,\\n        \"Product Description\": ,\\n        \"UNSPSC coding\":,\\n        \"Segment\": ,\\n        \"Family\": ,\\n        \"Class\": ,\\n        \"Commodity\": \\n    }\\n    [No Prose]\\n    ```[{\\'index\\': 0, \\'Product Description\\': \\'AZIPRO 250 MG tablet\\', \\'Generic Product Description\\': \\'azithromycin anhydrous-250 mg\\', \\'Vendor Name\\': \\'VARDHMAN PHARMA\\'}, {\\'index\\': 1, \\'Product Description\\': \\'ACAMPROL\\', \\'Generic Product Description\\': \\'ACAMPROSATE CALCIUM\\', \\'Vendor Name\\': \\'SALEM SENTHIL PHARMA DISTRIBUTORS\\'}]```\\n    '"
      ]
     },
     "metadata": {},
     "output_type": "display_data"
    },
    {
     "name": "stdout",
     "output_type": "stream",
     "text": [
      "response:\t[\n",
      "    {\n",
      "        \"index\": 0,\n",
      "        \"Product Description\": \"AZIPRO 250 MG tablet\",\n",
      "        \"UNSPSC coding\": \"51191600\",\n",
      "        \"Segment\": \"Pharmaceuticals\",\n",
      "        \"Family\": \"Drugs\",\n",
      "        \"Class\": \"Antibacterials\",\n",
      "        \"Commodity\": \"Azithromycin\"\n",
      "    },\n",
      "    {\n",
      "        \"index\": 1,\n",
      "        \"Product Description\": \"ACAMPROL\",\n",
      "        \"UNSPSC coding\": \"51161810\",\n",
      "        \"Segment\": \"Pharmaceuticals\",\n",
      "        \"Family\": \"Drugs\",\n",
      "        \"Class\": \"Central nervous system agents\",\n",
      "        \"Commodity\": \"Acamprosate\"\n",
      "    }\n",
      "]\n",
      "response_dict:\t[{'index': 0, 'Product Description': 'AZIPRO 250 MG tablet', 'UNSPSC coding': '51191600', 'Segment': 'Pharmaceuticals', 'Family': 'Drugs', 'Class': 'Antibacterials', 'Commodity': 'Azithromycin'}, {'index': 1, 'Product Description': 'ACAMPROL', 'UNSPSC coding': '51161810', 'Segment': 'Pharmaceuticals', 'Family': 'Drugs', 'Class': 'Central nervous system agents', 'Commodity': 'Acamprosate'}]\n"
     ]
    }
   ],
   "source": [
    "result=classify_UNSPSC(tt[0])"
   ]
  },
  {
   "cell_type": "code",
   "execution_count": 34,
   "id": "50b873d9",
   "metadata": {},
   "outputs": [
    {
     "data": {
      "application/vnd.jupyter.widget-view+json": {
       "model_id": "02746d6357bd4fbaa54524c21dc253f5"
      },
      "text/plain": [
       "   index   Product Description UNSPSC coding          Segment Family  \\\n",
       "0      0  AZIPRO 250 MG tablet      51191600  Pharmaceuticals  Drugs   \n",
       "1      1              ACAMPROL      51161810  Pharmaceuticals  Drugs   \n",
       "\n",
       "                           Class     Commodity  \n",
       "0                 Antibacterials  Azithromycin  \n",
       "1  Central nervous system agents   Acamprosate  "
      ]
     },
     "metadata": {},
     "output_type": "display_data"
    }
   ],
   "source": [
    "result"
   ]
  },
  {
   "cell_type": "code",
   "execution_count": 35,
   "id": "3f1c6f48",
   "metadata": {},
   "outputs": [
    {
     "data": {
      "application/vnd.jupyter.widget-view+json": {
       "model_id": "b844821ad48547dcb3e48aae22f62417"
      },
      "text/plain": [
       "   index   Product Description    Generic Product Description  \\\n",
       "0      0  AZIPRO 250 MG tablet  azithromycin anhydrous-250 mg   \n",
       "1      1              ACAMPROL            ACAMPROSATE CALCIUM   \n",
       "\n",
       "                         Vendor Name  \n",
       "0                    VARDHMAN PHARMA  \n",
       "1  SALEM SENTHIL PHARMA DISTRIBUTORS  "
      ]
     },
     "metadata": {},
     "output_type": "display_data"
    }
   ],
   "source": [
    "pd.merge(result,)"
   ]
  },
  {
   "cell_type": "code",
   "execution_count": 36,
   "id": "df484758",
   "metadata": {},
   "outputs": [
    {
     "data": {
      "application/vnd.jupyter.widget-view+json": {
       "model_id": "0b7f53b6786e4b698f5ef9b04ec48374"
      },
      "text/plain": [
       "   index                            Segment                        Family  \\\n",
       "0      0  Drugs and Pharmaceutical Products          Anti infective drugs   \n",
       "1      1  Drugs and Pharmaceutical Products  Central nervous system drugs   \n",
       "\n",
       "                                         Class            Commodity  \\\n",
       "0                                  Antibiotics         Azithromycin   \n",
       "1  Nonsteroidal anti inflammatory drugs NSAIDs  Acamprosate calcium   \n",
       "\n",
       "   UNSPSC_Final  \n",
       "0      51101572  \n",
       "1      51142150  "
      ]
     },
     "metadata": {},
     "output_type": "display_data"
    }
   ],
   "source": [
    "tt[2]"
   ]
  },
  {
   "cell_type": "code",
   "execution_count": null,
   "id": "a7a5a4cd",
   "metadata": {},
   "outputs": [],
   "source": []
  }
 ],
 "metadata": {
  "kernelspec": {
   "display_name": "Python 3 (ipykernel)",
   "language": "python",
   "name": "python3"
  },
  "language_info": {
   "codemirror_mode": {
    "name": "ipython",
    "version": 3
   },
   "file_extension": ".py",
   "mimetype": "text/x-python",
   "name": "python",
   "nbconvert_exporter": "python",
   "pygments_lexer": "ipython3",
   "version": "3.10.6"
  }
 },
 "nbformat": 4,
 "nbformat_minor": 5
}
